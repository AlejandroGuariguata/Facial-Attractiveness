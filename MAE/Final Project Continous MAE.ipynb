{
 "cells": [
  {
   "cell_type": "code",
   "execution_count": 1,
   "metadata": {},
   "outputs": [
    {
     "name": "stderr",
     "output_type": "stream",
     "text": [
      "Using TensorFlow backend.\n"
     ]
    }
   ],
   "source": [
    "import pandas as pd\n",
    "import seaborn as sns\n",
    "import os\n",
    "from os import listdir\n",
    "import sklearn\n",
    "from sklearn import preprocessing\n",
    "from sklearn.model_selection import train_test_split\n",
    "\n",
    "import keras\n",
    "from keras.preprocessing.image import ImageDataGenerator\n",
    "from keras.models import Sequential\n",
    "from keras.layers import Dense, Dropout, Activation, Flatten\n",
    "from keras.layers import Conv2D, MaxPooling2D\n",
    "from keras.preprocessing.image import load_img\n",
    "from keras.preprocessing.image import img_to_array\n",
    "\n",
    "import numpy as np\n",
    "\n",
    "import cv2\n",
    "\n",
    "from sklearn.metrics import classification_report\n",
    "from keras.models import load_model\n",
    "import matplotlib.pyplot as plt\n",
    "\n",
    "from keras.callbacks import CSVLogger\n",
    "from keras import metrics\n",
    "from keras import backend as K\n",
    "from keras.layers.normalization import BatchNormalization"
   ]
  },
  {
   "cell_type": "code",
   "execution_count": 2,
   "metadata": {
    "scrolled": true
   },
   "outputs": [
    {
     "data": {
      "text/plain": [
       "0       2.333333\n",
       "1       3.950000\n",
       "2       3.183333\n",
       "3       2.683333\n",
       "4       2.000000\n",
       "          ...   \n",
       "1995    1.600000\n",
       "1996    1.433333\n",
       "1997    2.733333\n",
       "1998    2.733333\n",
       "1999    3.550000\n",
       "Name: Avg Rating, Length: 2000, dtype: float64"
      ]
     },
     "execution_count": 2,
     "metadata": {},
     "output_type": "execute_result"
    }
   ],
   "source": [
    "datasetAF = pd.read_csv(\"D:\\\\Dropbox\\\\utd\\\\cs courses\\\\cs 4375 machine learning\\\\assignments\\\\project\\\\rating csv data\\\\All_Ratings asian female csv.txt\",header = 0)\n",
    "avgPerFile = datasetAF['Rating'].groupby(datasetAF['Filename'],sort=False)\n",
    "averagePerFileMean = avgPerFile.mean()\n",
    "preparedAFDataset = pd.DataFrame({'Filename':averagePerFileMean.index, 'Avg Rating':averagePerFileMean.values})\n",
    "labels = preparedAFDataset['Avg Rating']\n",
    "labels"
   ]
  },
  {
   "cell_type": "code",
   "execution_count": 3,
   "metadata": {},
   "outputs": [],
   "source": [
    "#needed to join path because windows\n",
    "train_path = os.path.join('C:/', 'Users/alegAsus/Downloads/SCUT-FBP5500_v2.1/SCUT-FBP5500_v2/AF/AF/')\n",
    "images = []\n",
    "#adapted from https://www.quora.com/How-do-I-load-train-and-test-data-from-the-local-drive-for-a-deep-learning-Keras-model\n",
    "#listdir returns a list containing the names of the entries in the directory given by path.\n",
    "for sample in listdir(train_path):\n",
    "    img_path = train_path + sample #sample is every file in the train directory\n",
    "    x = cv2.imread(img_path) #loading file\n",
    "    x = cv2.resize(x, (96, 96))\n",
    "    # preprocessing if required\n",
    "    images.append(x) #adding to x_train array\n",
    "#scale all pixels to between 0 and 1\n",
    "imagesNumPy = np.array(images, dtype=\"float\") / 255.0\n"
   ]
  },
  {
   "cell_type": "code",
   "execution_count": 4,
   "metadata": {},
   "outputs": [
    {
     "data": {
      "text/plain": [
       "(2000, 96, 96, 3)"
      ]
     },
     "execution_count": 4,
     "metadata": {},
     "output_type": "execute_result"
    }
   ],
   "source": [
    "imagesNumPy.shape"
   ]
  },
  {
   "cell_type": "code",
   "execution_count": 5,
   "metadata": {},
   "outputs": [
    {
     "data": {
      "text/plain": [
       "(2000,)"
      ]
     },
     "execution_count": 5,
     "metadata": {},
     "output_type": "execute_result"
    }
   ],
   "source": [
    "labels.shape"
   ]
  },
  {
   "cell_type": "code",
   "execution_count": 6,
   "metadata": {},
   "outputs": [],
   "source": [
    "(trainX, testX, trainY, testY) = train_test_split(imagesNumPy, labels,test_size=0.25, random_state=42)"
   ]
  },
  {
   "cell_type": "code",
   "execution_count": 7,
   "metadata": {},
   "outputs": [
    {
     "name": "stdout",
     "output_type": "stream",
     "text": [
      "WARNING:tensorflow:From C:\\Users\\alegAsus\\Anaconda3\\envs\\tf_gpu\\lib\\site-packages\\tensorflow\\python\\framework\\op_def_library.py:263: colocate_with (from tensorflow.python.framework.ops) is deprecated and will be removed in a future version.\n",
      "Instructions for updating:\n",
      "Colocations handled automatically by placer.\n",
      "WARNING:tensorflow:From C:\\Users\\alegAsus\\Anaconda3\\envs\\tf_gpu\\lib\\site-packages\\keras\\backend\\tensorflow_backend.py:3445: calling dropout (from tensorflow.python.ops.nn_ops) with keep_prob is deprecated and will be removed in a future version.\n",
      "Instructions for updating:\n",
      "Please use `rate` instead of `keep_prob`. Rate should be set to `rate = 1 - keep_prob`.\n"
     ]
    }
   ],
   "source": [
    "#adapted from\n",
    "#https://github.com/neuropoly/spinalcordtoolbox/issues/2279\n",
    "#run this model with Dense(notDefinedVariable) to see functions in tensorflow that are to be depreciated\n",
    "model = Sequential()\n",
    "model.add(Conv2D(32, (3, 3), padding='same',\n",
    "                 input_shape=trainX.shape[1:]))\n",
    "model.add(Activation('relu'))\n",
    "model.add(BatchNormalization(axis=3))\n",
    "model.add(Conv2D(32, (3, 3), padding='same'))\n",
    "model.add(Activation('relu'))\n",
    "model.add(BatchNormalization(axis=3))\n",
    "model.add(MaxPooling2D(pool_size=(2, 2)))\n",
    "model.add(Dropout(0.25))\n",
    "\n",
    "model.add(Conv2D(64, (3, 3), padding='same'))\n",
    "model.add(Activation('relu'))\n",
    "model.add(BatchNormalization(axis=3))\n",
    "model.add(Conv2D(64, (3, 3), padding='same'))\n",
    "model.add(Activation('relu'))\n",
    "model.add(BatchNormalization(axis=3))\n",
    "model.add(MaxPooling2D(pool_size=(2, 2)))\n",
    "model.add(Dropout(0.25))\n",
    "\n",
    "model.add(Conv2D(128, (3, 3), padding='same'))\n",
    "model.add(Activation('relu'))\n",
    "model.add(BatchNormalization(axis=3))\n",
    "model.add(Conv2D(128, (3, 3), padding='same'))\n",
    "model.add(Activation('relu'))\n",
    "model.add(BatchNormalization(axis=3))\n",
    "model.add(MaxPooling2D(pool_size=(2, 2)))\n",
    "model.add(Dropout(0.25))\n",
    "\n",
    "model.add(Flatten())\n",
    "model.add(Dense(512))\n",
    "model.add(Activation('relu'))\n",
    "model.add(Dropout(0.3))\n",
    "#1 because it outputs only one rating\n",
    "model.add(Dense(1))\n",
    "\n",
    "# initiate RMSprop optimizer\n",
    "opt = keras.optimizers.rmsprop(lr=0.0001)\n",
    "\n",
    "# Let's train the model using RMSprop\n",
    "model.compile(loss=\"mean_squared_error\",\n",
    "              optimizer=opt,\n",
    "              metrics=[metrics.mae])"
   ]
  },
  {
   "cell_type": "code",
   "execution_count": 8,
   "metadata": {
    "scrolled": true
   },
   "outputs": [
    {
     "name": "stdout",
     "output_type": "stream",
     "text": [
      "WARNING:tensorflow:From C:\\Users\\alegAsus\\Anaconda3\\envs\\tf_gpu\\lib\\site-packages\\tensorflow\\python\\ops\\math_ops.py:3066: to_int32 (from tensorflow.python.ops.math_ops) is deprecated and will be removed in a future version.\n",
      "Instructions for updating:\n",
      "Use tf.cast instead.\n",
      "Train on 1500 samples, validate on 500 samples\n",
      "Epoch 1/25\n",
      "1500/1500 [==============================] - 7s 5ms/step - loss: 98.0232 - mean_absolute_error: 2.9713 - val_loss: 0.8166 - val_mean_absolute_error: 0.7254\n",
      "Epoch 2/25\n",
      "1500/1500 [==============================] - 4s 2ms/step - loss: 1.7867 - mean_absolute_error: 1.0680 - val_loss: 1.0767 - val_mean_absolute_error: 0.8144\n",
      "Epoch 3/25\n",
      "1500/1500 [==============================] - 4s 2ms/step - loss: 1.2056 - mean_absolute_error: 0.8786 - val_loss: 0.7690 - val_mean_absolute_error: 0.7022\n",
      "Epoch 4/25\n",
      "1500/1500 [==============================] - 4s 3ms/step - loss: 0.9028 - mean_absolute_error: 0.7657 - val_loss: 0.7065 - val_mean_absolute_error: 0.6824\n",
      "Epoch 5/25\n",
      "1500/1500 [==============================] - 4s 3ms/step - loss: 0.7775 - mean_absolute_error: 0.7084 - val_loss: 0.7772 - val_mean_absolute_error: 0.7168\n",
      "Epoch 6/25\n",
      "1500/1500 [==============================] - 4s 3ms/step - loss: 0.7202 - mean_absolute_error: 0.6774 - val_loss: 0.7787 - val_mean_absolute_error: 0.7172\n",
      "Epoch 7/25\n",
      "1500/1500 [==============================] - 4s 3ms/step - loss: 0.7034 - mean_absolute_error: 0.6735 - val_loss: 0.9759 - val_mean_absolute_error: 0.8151\n",
      "Epoch 8/25\n",
      "1500/1500 [==============================] - 4s 2ms/step - loss: 0.7194 - mean_absolute_error: 0.6782 - val_loss: 0.6762 - val_mean_absolute_error: 0.6667\n",
      "Epoch 9/25\n",
      "1500/1500 [==============================] - 4s 2ms/step - loss: 0.6729 - mean_absolute_error: 0.6601 - val_loss: 0.6258 - val_mean_absolute_error: 0.6345\n",
      "Epoch 10/25\n",
      "1500/1500 [==============================] - 4s 2ms/step - loss: 0.6812 - mean_absolute_error: 0.6670 - val_loss: 0.9443 - val_mean_absolute_error: 0.8000\n",
      "Epoch 11/25\n",
      "1500/1500 [==============================] - 4s 2ms/step - loss: 0.6344 - mean_absolute_error: 0.6437 - val_loss: 0.5888 - val_mean_absolute_error: 0.6142\n",
      "Epoch 12/25\n",
      "1500/1500 [==============================] - 4s 2ms/step - loss: 0.5921 - mean_absolute_error: 0.6204 - val_loss: 0.6784 - val_mean_absolute_error: 0.6560\n",
      "Epoch 13/25\n",
      "1500/1500 [==============================] - 4s 2ms/step - loss: 0.5956 - mean_absolute_error: 0.6160 - val_loss: 0.6187 - val_mean_absolute_error: 0.6319\n",
      "Epoch 14/25\n",
      "1500/1500 [==============================] - 4s 2ms/step - loss: 0.6018 - mean_absolute_error: 0.6285 - val_loss: 0.7469 - val_mean_absolute_error: 0.6933\n",
      "Epoch 15/25\n",
      "1500/1500 [==============================] - 4s 2ms/step - loss: 0.5752 - mean_absolute_error: 0.6112 - val_loss: 0.6052 - val_mean_absolute_error: 0.6181\n",
      "Epoch 16/25\n",
      "1500/1500 [==============================] - 4s 2ms/step - loss: 0.5736 - mean_absolute_error: 0.6103 - val_loss: 0.6964 - val_mean_absolute_error: 0.6642\n",
      "Epoch 17/25\n",
      "1500/1500 [==============================] - 4s 2ms/step - loss: 0.5930 - mean_absolute_error: 0.6160 - val_loss: 0.6245 - val_mean_absolute_error: 0.6287\n",
      "Epoch 18/25\n",
      "1500/1500 [==============================] - 4s 2ms/step - loss: 0.5529 - mean_absolute_error: 0.6016 - val_loss: 0.8614 - val_mean_absolute_error: 0.7543\n",
      "Epoch 19/25\n",
      "1500/1500 [==============================] - 4s 2ms/step - loss: 0.5664 - mean_absolute_error: 0.5985 - val_loss: 0.6030 - val_mean_absolute_error: 0.6195\n",
      "Epoch 20/25\n",
      "1500/1500 [==============================] - 4s 2ms/step - loss: 0.6109 - mean_absolute_error: 0.6231 - val_loss: 0.8706 - val_mean_absolute_error: 0.7476\n",
      "Epoch 21/25\n",
      "1500/1500 [==============================] - 4s 2ms/step - loss: 0.5467 - mean_absolute_error: 0.5872 - val_loss: 0.6127 - val_mean_absolute_error: 0.6175\n",
      "Epoch 22/25\n",
      "1500/1500 [==============================] - 4s 2ms/step - loss: 0.5467 - mean_absolute_error: 0.5926 - val_loss: 0.6799 - val_mean_absolute_error: 0.6569\n",
      "Epoch 23/25\n",
      "1500/1500 [==============================] - 4s 2ms/step - loss: 0.5155 - mean_absolute_error: 0.5751 - val_loss: 0.7167 - val_mean_absolute_error: 0.6795\n",
      "Epoch 24/25\n",
      "1500/1500 [==============================] - 4s 2ms/step - loss: 0.5283 - mean_absolute_error: 0.5813 - val_loss: 0.9546 - val_mean_absolute_error: 0.7969\n",
      "Epoch 25/25\n",
      "1500/1500 [==============================] - 4s 2ms/step - loss: 0.5063 - mean_absolute_error: 0.5682 - val_loss: 0.6429 - val_mean_absolute_error: 0.6322\n"
     ]
    }
   ],
   "source": [
    "N = 25\n",
    "csv_logger = CSVLogger(os.path.join('C:/', 'Users/alegAsus/Downloads/SCUT-FBP5500_v2.1/SCUT-FBP5500_v2/saved models/continous RMSE/callbacks1 AF.log'), separator=',', append=False)\n",
    "modelHistory = model.fit(trainX, trainY,\n",
    "              batch_size=32,\n",
    "              epochs=N,\n",
    "              validation_data=(testX, testY),\n",
    "              shuffle=True, callbacks=[csv_logger])"
   ]
  },
  {
   "cell_type": "code",
   "execution_count": 9,
   "metadata": {},
   "outputs": [
    {
     "name": "stdout",
     "output_type": "stream",
     "text": [
      "Saved trained model at C:/Users/alegAsus/Downloads/SCUT-FBP5500_v2.1/SCUT-FBP5500_v2/saved models/continous RMSE/model1 AF.h5 \n"
     ]
    }
   ],
   "source": [
    "model_path = os.path.join('C:/', 'Users/alegAsus/Downloads/SCUT-FBP5500_v2.1/SCUT-FBP5500_v2/saved models/continous RMSE/model1 AF.h5')\n",
    "model.save(model_path)\n",
    "print('Saved trained model at %s ' % model_path)"
   ]
  },
  {
   "cell_type": "code",
   "execution_count": 10,
   "metadata": {},
   "outputs": [
    {
     "data": {
      "text/html": [
       "<div>\n",
       "<style scoped>\n",
       "    .dataframe tbody tr th:only-of-type {\n",
       "        vertical-align: middle;\n",
       "    }\n",
       "\n",
       "    .dataframe tbody tr th {\n",
       "        vertical-align: top;\n",
       "    }\n",
       "\n",
       "    .dataframe thead th {\n",
       "        text-align: right;\n",
       "    }\n",
       "</style>\n",
       "<table border=\"1\" class=\"dataframe\">\n",
       "  <thead>\n",
       "    <tr style=\"text-align: right;\">\n",
       "      <th></th>\n",
       "      <th>epoch</th>\n",
       "      <th>loss</th>\n",
       "      <th>mean_absolute_error</th>\n",
       "      <th>val_loss</th>\n",
       "      <th>val_mean_absolute_error</th>\n",
       "    </tr>\n",
       "  </thead>\n",
       "  <tbody>\n",
       "    <tr>\n",
       "      <th>0</th>\n",
       "      <td>0</td>\n",
       "      <td>98.023250</td>\n",
       "      <td>2.971345</td>\n",
       "      <td>0.816637</td>\n",
       "      <td>0.725446</td>\n",
       "    </tr>\n",
       "    <tr>\n",
       "      <th>1</th>\n",
       "      <td>1</td>\n",
       "      <td>1.786680</td>\n",
       "      <td>1.068026</td>\n",
       "      <td>1.076696</td>\n",
       "      <td>0.814395</td>\n",
       "    </tr>\n",
       "    <tr>\n",
       "      <th>2</th>\n",
       "      <td>2</td>\n",
       "      <td>1.205638</td>\n",
       "      <td>0.878593</td>\n",
       "      <td>0.769000</td>\n",
       "      <td>0.702229</td>\n",
       "    </tr>\n",
       "    <tr>\n",
       "      <th>3</th>\n",
       "      <td>3</td>\n",
       "      <td>0.902808</td>\n",
       "      <td>0.765654</td>\n",
       "      <td>0.706526</td>\n",
       "      <td>0.682402</td>\n",
       "    </tr>\n",
       "    <tr>\n",
       "      <th>4</th>\n",
       "      <td>4</td>\n",
       "      <td>0.777488</td>\n",
       "      <td>0.708405</td>\n",
       "      <td>0.777202</td>\n",
       "      <td>0.716816</td>\n",
       "    </tr>\n",
       "    <tr>\n",
       "      <th>5</th>\n",
       "      <td>5</td>\n",
       "      <td>0.720237</td>\n",
       "      <td>0.677411</td>\n",
       "      <td>0.778705</td>\n",
       "      <td>0.717236</td>\n",
       "    </tr>\n",
       "    <tr>\n",
       "      <th>6</th>\n",
       "      <td>6</td>\n",
       "      <td>0.703409</td>\n",
       "      <td>0.673459</td>\n",
       "      <td>0.975907</td>\n",
       "      <td>0.815102</td>\n",
       "    </tr>\n",
       "    <tr>\n",
       "      <th>7</th>\n",
       "      <td>7</td>\n",
       "      <td>0.719439</td>\n",
       "      <td>0.678167</td>\n",
       "      <td>0.676200</td>\n",
       "      <td>0.666690</td>\n",
       "    </tr>\n",
       "    <tr>\n",
       "      <th>8</th>\n",
       "      <td>8</td>\n",
       "      <td>0.672897</td>\n",
       "      <td>0.660122</td>\n",
       "      <td>0.625833</td>\n",
       "      <td>0.634474</td>\n",
       "    </tr>\n",
       "    <tr>\n",
       "      <th>9</th>\n",
       "      <td>9</td>\n",
       "      <td>0.681229</td>\n",
       "      <td>0.667023</td>\n",
       "      <td>0.944339</td>\n",
       "      <td>0.800001</td>\n",
       "    </tr>\n",
       "    <tr>\n",
       "      <th>10</th>\n",
       "      <td>10</td>\n",
       "      <td>0.634426</td>\n",
       "      <td>0.643651</td>\n",
       "      <td>0.588839</td>\n",
       "      <td>0.614172</td>\n",
       "    </tr>\n",
       "    <tr>\n",
       "      <th>11</th>\n",
       "      <td>11</td>\n",
       "      <td>0.592100</td>\n",
       "      <td>0.620407</td>\n",
       "      <td>0.678416</td>\n",
       "      <td>0.656045</td>\n",
       "    </tr>\n",
       "    <tr>\n",
       "      <th>12</th>\n",
       "      <td>12</td>\n",
       "      <td>0.595595</td>\n",
       "      <td>0.615958</td>\n",
       "      <td>0.618719</td>\n",
       "      <td>0.631938</td>\n",
       "    </tr>\n",
       "    <tr>\n",
       "      <th>13</th>\n",
       "      <td>13</td>\n",
       "      <td>0.601837</td>\n",
       "      <td>0.628471</td>\n",
       "      <td>0.746891</td>\n",
       "      <td>0.693333</td>\n",
       "    </tr>\n",
       "    <tr>\n",
       "      <th>14</th>\n",
       "      <td>14</td>\n",
       "      <td>0.575226</td>\n",
       "      <td>0.611150</td>\n",
       "      <td>0.605221</td>\n",
       "      <td>0.618071</td>\n",
       "    </tr>\n",
       "    <tr>\n",
       "      <th>15</th>\n",
       "      <td>15</td>\n",
       "      <td>0.573613</td>\n",
       "      <td>0.610285</td>\n",
       "      <td>0.696424</td>\n",
       "      <td>0.664248</td>\n",
       "    </tr>\n",
       "    <tr>\n",
       "      <th>16</th>\n",
       "      <td>16</td>\n",
       "      <td>0.593046</td>\n",
       "      <td>0.616026</td>\n",
       "      <td>0.624484</td>\n",
       "      <td>0.628731</td>\n",
       "    </tr>\n",
       "    <tr>\n",
       "      <th>17</th>\n",
       "      <td>17</td>\n",
       "      <td>0.552884</td>\n",
       "      <td>0.601557</td>\n",
       "      <td>0.861376</td>\n",
       "      <td>0.754300</td>\n",
       "    </tr>\n",
       "    <tr>\n",
       "      <th>18</th>\n",
       "      <td>18</td>\n",
       "      <td>0.566376</td>\n",
       "      <td>0.598492</td>\n",
       "      <td>0.602996</td>\n",
       "      <td>0.619473</td>\n",
       "    </tr>\n",
       "    <tr>\n",
       "      <th>19</th>\n",
       "      <td>19</td>\n",
       "      <td>0.610897</td>\n",
       "      <td>0.623053</td>\n",
       "      <td>0.870606</td>\n",
       "      <td>0.747557</td>\n",
       "    </tr>\n",
       "    <tr>\n",
       "      <th>20</th>\n",
       "      <td>20</td>\n",
       "      <td>0.546663</td>\n",
       "      <td>0.587220</td>\n",
       "      <td>0.612702</td>\n",
       "      <td>0.617537</td>\n",
       "    </tr>\n",
       "    <tr>\n",
       "      <th>21</th>\n",
       "      <td>21</td>\n",
       "      <td>0.546735</td>\n",
       "      <td>0.592564</td>\n",
       "      <td>0.679901</td>\n",
       "      <td>0.656907</td>\n",
       "    </tr>\n",
       "    <tr>\n",
       "      <th>22</th>\n",
       "      <td>22</td>\n",
       "      <td>0.515506</td>\n",
       "      <td>0.575086</td>\n",
       "      <td>0.716747</td>\n",
       "      <td>0.679502</td>\n",
       "    </tr>\n",
       "    <tr>\n",
       "      <th>23</th>\n",
       "      <td>23</td>\n",
       "      <td>0.528308</td>\n",
       "      <td>0.581325</td>\n",
       "      <td>0.954605</td>\n",
       "      <td>0.796927</td>\n",
       "    </tr>\n",
       "    <tr>\n",
       "      <th>24</th>\n",
       "      <td>24</td>\n",
       "      <td>0.506292</td>\n",
       "      <td>0.568198</td>\n",
       "      <td>0.642913</td>\n",
       "      <td>0.632201</td>\n",
       "    </tr>\n",
       "  </tbody>\n",
       "</table>\n",
       "</div>"
      ],
      "text/plain": [
       "    epoch       loss  mean_absolute_error  val_loss  val_mean_absolute_error\n",
       "0       0  98.023250             2.971345  0.816637                 0.725446\n",
       "1       1   1.786680             1.068026  1.076696                 0.814395\n",
       "2       2   1.205638             0.878593  0.769000                 0.702229\n",
       "3       3   0.902808             0.765654  0.706526                 0.682402\n",
       "4       4   0.777488             0.708405  0.777202                 0.716816\n",
       "5       5   0.720237             0.677411  0.778705                 0.717236\n",
       "6       6   0.703409             0.673459  0.975907                 0.815102\n",
       "7       7   0.719439             0.678167  0.676200                 0.666690\n",
       "8       8   0.672897             0.660122  0.625833                 0.634474\n",
       "9       9   0.681229             0.667023  0.944339                 0.800001\n",
       "10     10   0.634426             0.643651  0.588839                 0.614172\n",
       "11     11   0.592100             0.620407  0.678416                 0.656045\n",
       "12     12   0.595595             0.615958  0.618719                 0.631938\n",
       "13     13   0.601837             0.628471  0.746891                 0.693333\n",
       "14     14   0.575226             0.611150  0.605221                 0.618071\n",
       "15     15   0.573613             0.610285  0.696424                 0.664248\n",
       "16     16   0.593046             0.616026  0.624484                 0.628731\n",
       "17     17   0.552884             0.601557  0.861376                 0.754300\n",
       "18     18   0.566376             0.598492  0.602996                 0.619473\n",
       "19     19   0.610897             0.623053  0.870606                 0.747557\n",
       "20     20   0.546663             0.587220  0.612702                 0.617537\n",
       "21     21   0.546735             0.592564  0.679901                 0.656907\n",
       "22     22   0.515506             0.575086  0.716747                 0.679502\n",
       "23     23   0.528308             0.581325  0.954605                 0.796927\n",
       "24     24   0.506292             0.568198  0.642913                 0.632201"
      ]
     },
     "execution_count": 10,
     "metadata": {},
     "output_type": "execute_result"
    }
   ],
   "source": [
    "historyDF = pd.read_csv(\"C:\\\\Users\\\\alegAsus\\\\Downloads\\\\SCUT-FBP5500_v2.1\\\\SCUT-FBP5500_v2\\\\saved models\\\\continous RMSE\\\\callbacks1 AF.log\",header = 0)\n",
    "historyDF"
   ]
  },
  {
   "cell_type": "markdown",
   "metadata": {},
   "source": [
    "The lowest MAE is achieved at epoch 10"
   ]
  },
  {
   "cell_type": "code",
   "execution_count": null,
   "metadata": {},
   "outputs": [],
   "source": [
    "historyDF['val_mean_absolute_error'].mean()"
   ]
  },
  {
   "cell_type": "code",
   "execution_count": 18,
   "metadata": {},
   "outputs": [
    {
     "data": {
      "text/plain": [
       "<matplotlib.legend.Legend at 0x206fe25bf60>"
      ]
     },
     "execution_count": 18,
     "metadata": {},
     "output_type": "execute_result"
    },
    {
     "data": {
      "image/png": "[encoded data removed]",
      "text/plain": [
       "<Figure size 432x288 with 1 Axes>"
      ]
     },
     "metadata": {},
     "output_type": "display_data"
    }
   ],
   "source": [
    "#historyDF.loc[2:,\"mean_absolute_error\"]\n",
    "#from row 2 onwards of column \"mean_absolute_error\"\n",
    "plt.style.use(\"ggplot\")\n",
    "plt.figure()\n",
    "plt.plot(np.arange(2, N), historyDF.loc[2:,\"mean_absolute_error\"], label=\"train MAE\")\n",
    "plt.plot(np.arange(2, N), historyDF.loc[2:,\"val_mean_absolute_error\"], label=\"val MAE\")\n",
    "plt.title(\"Training Loss and Accuracy on Dataset\")\n",
    "plt.xlabel(\"Epoch #\")\n",
    "plt.ylabel(\"Training/Validation MAE\")\n",
    "plt.legend(loc=\"upper right\")"
   ]
  },
  {
   "cell_type": "code",
   "execution_count": 13,
   "metadata": {},
   "outputs": [],
   "source": [
    "from keras.preprocessing.image import ImageDataGenerator\n",
    "aug = ImageDataGenerator(rotation_range=20, zoom_range=0.15,\n",
    "width_shift_range=0.2, height_shift_range=0.2, shear_range=0.15,fill_mode=\"nearest\")"
   ]
  },
  {
   "cell_type": "code",
   "execution_count": 14,
   "metadata": {},
   "outputs": [],
   "source": [
    "csv_logger2 = CSVLogger(os.path.join('C:/', 'Users/alegAsus/Downloads/SCUT-FBP5500_v2.1/SCUT-FBP5500_v2/saved models/continous RMSE/callbacks2 AF.log'), separator=',', append=False)"
   ]
  },
  {
   "cell_type": "code",
   "execution_count": 15,
   "metadata": {
    "scrolled": true
   },
   "outputs": [
    {
     "name": "stdout",
     "output_type": "stream",
     "text": [
      "Epoch 1/25\n",
      "46/46 [==============================] - 3s 76ms/step - loss: 0.7029 - mean_absolute_error: 0.6702 - val_loss: 0.8407 - val_mean_absolute_error: 0.7410\n",
      "Epoch 2/25\n",
      "46/46 [==============================] - 3s 73ms/step - loss: 0.6771 - mean_absolute_error: 0.6707 - val_loss: 0.6248 - val_mean_absolute_error: 0.6269\n",
      "Epoch 3/25\n",
      "46/46 [==============================] - 3s 71ms/step - loss: 0.6642 - mean_absolute_error: 0.6607 - val_loss: 0.7363 - val_mean_absolute_error: 0.6849\n",
      "Epoch 4/25\n",
      "46/46 [==============================] - 3s 70ms/step - loss: 0.6546 - mean_absolute_error: 0.6599 - val_loss: 1.0423 - val_mean_absolute_error: 0.8397\n",
      "Epoch 5/25\n",
      "46/46 [==============================] - 3s 73ms/step - loss: 0.6688 - mean_absolute_error: 0.6576 - val_loss: 0.9751 - val_mean_absolute_error: 0.8123\n",
      "Epoch 6/25\n",
      "46/46 [==============================] - 3s 71ms/step - loss: 0.6218 - mean_absolute_error: 0.6411 - val_loss: 0.6271 - val_mean_absolute_error: 0.6246\n",
      "Epoch 7/25\n",
      "46/46 [==============================] - 3s 72ms/step - loss: 0.6545 - mean_absolute_error: 0.6586 - val_loss: 0.8507 - val_mean_absolute_error: 0.7484\n",
      "Epoch 8/25\n",
      "46/46 [==============================] - 3s 75ms/step - loss: 0.6375 - mean_absolute_error: 0.6472 - val_loss: 0.7748 - val_mean_absolute_error: 0.7072\n",
      "Epoch 9/25\n",
      "46/46 [==============================] - 3s 72ms/step - loss: 0.6749 - mean_absolute_error: 0.6668 - val_loss: 0.9361 - val_mean_absolute_error: 0.7947\n",
      "Epoch 10/25\n",
      "46/46 [==============================] - 3s 71ms/step - loss: 0.6429 - mean_absolute_error: 0.6418 - val_loss: 1.0735 - val_mean_absolute_error: 0.8511\n",
      "Epoch 11/25\n",
      "46/46 [==============================] - 3s 74ms/step - loss: 0.6124 - mean_absolute_error: 0.6351 - val_loss: 1.0136 - val_mean_absolute_error: 0.8308\n",
      "Epoch 12/25\n",
      "46/46 [==============================] - 3s 74ms/step - loss: 0.6512 - mean_absolute_error: 0.6475 - val_loss: 1.4694 - val_mean_absolute_error: 1.0294\n",
      "Epoch 13/25\n",
      "46/46 [==============================] - 3s 71ms/step - loss: 0.6202 - mean_absolute_error: 0.6362 - val_loss: 0.7133 - val_mean_absolute_error: 0.6717\n",
      "Epoch 14/25\n",
      "46/46 [==============================] - 3s 71ms/step - loss: 0.6645 - mean_absolute_error: 0.6575 - val_loss: 0.5931 - val_mean_absolute_error: 0.6088\n",
      "Epoch 15/25\n",
      "46/46 [==============================] - 3s 73ms/step - loss: 0.6264 - mean_absolute_error: 0.6457 - val_loss: 0.7697 - val_mean_absolute_error: 0.7013\n",
      "Epoch 16/25\n",
      "46/46 [==============================] - 3s 73ms/step - loss: 0.6509 - mean_absolute_error: 0.6526 - val_loss: 0.8846 - val_mean_absolute_error: 0.7613\n",
      "Epoch 17/25\n",
      "46/46 [==============================] - 3s 72ms/step - loss: 0.6193 - mean_absolute_error: 0.6442 - val_loss: 0.9189 - val_mean_absolute_error: 0.7784\n",
      "Epoch 18/25\n",
      "46/46 [==============================] - 3s 73ms/step - loss: 0.5813 - mean_absolute_error: 0.6130 - val_loss: 0.8087 - val_mean_absolute_error: 0.7242\n",
      "Epoch 19/25\n",
      "46/46 [==============================] - 3s 74ms/step - loss: 0.5908 - mean_absolute_error: 0.6186 - val_loss: 0.6481 - val_mean_absolute_error: 0.6411\n",
      "Epoch 20/25\n",
      "46/46 [==============================] - 3s 72ms/step - loss: 0.6699 - mean_absolute_error: 0.6607 - val_loss: 0.7711 - val_mean_absolute_error: 0.7064\n",
      "Epoch 21/25\n",
      "46/46 [==============================] - 3s 72ms/step - loss: 0.6310 - mean_absolute_error: 0.6442 - val_loss: 0.8375 - val_mean_absolute_error: 0.7395\n",
      "Epoch 22/25\n",
      "46/46 [==============================] - 3s 72ms/step - loss: 0.6082 - mean_absolute_error: 0.6401 - val_loss: 0.7159 - val_mean_absolute_error: 0.6711\n",
      "Epoch 23/25\n",
      "46/46 [==============================] - 3s 75ms/step - loss: 0.6241 - mean_absolute_error: 0.6409 - val_loss: 0.7091 - val_mean_absolute_error: 0.6681\n",
      "Epoch 24/25\n",
      "46/46 [==============================] - 3s 73ms/step - loss: 0.6338 - mean_absolute_error: 0.6507 - val_loss: 1.0120 - val_mean_absolute_error: 0.8257\n",
      "Epoch 25/25\n",
      "46/46 [==============================] - 3s 72ms/step - loss: 0.6291 - mean_absolute_error: 0.6397 - val_loss: 0.8511 - val_mean_absolute_error: 0.7450\n"
     ]
    }
   ],
   "source": [
    "modelHistoryAug = model.fit_generator(aug.flow(trainX, trainY, batch_size=32),\n",
    "validation_data=(testX, testY),steps_per_epoch=len(trainX) // 32, callbacks=[csv_logger2], epochs = N)"
   ]
  },
  {
   "cell_type": "code",
   "execution_count": 16,
   "metadata": {},
   "outputs": [
    {
     "data": {
      "text/plain": [
       "<matplotlib.legend.Legend at 0x206a86cb128>"
      ]
     },
     "execution_count": 16,
     "metadata": {},
     "output_type": "execute_result"
    },
    {
     "data": {
      "image/png": "[encoded data removed]",
      "text/plain": [
       "<Figure size 432x288 with 1 Axes>"
      ]
     },
     "metadata": {},
     "output_type": "display_data"
    }
   ],
   "source": [
    "plt.style.use(\"ggplot\")\n",
    "plt.figure()\n",
    "plt.plot(np.arange(0, N), modelHistoryAug.history[\"mean_absolute_error\"], label=\"train MAE\")\n",
    "plt.plot(np.arange(0, N), modelHistoryAug.history[\"val_mean_absolute_error\"], label=\"val MAE\")\n",
    "plt.title(\"Training Loss and Accuracy on Dataset\")\n",
    "plt.xlabel(\"Epoch #\")\n",
    "plt.ylabel(\"Loss/Accuracy\")\n",
    "plt.legend(loc=\"upper right\")"
   ]
  }
 ],
 "metadata": {
  "kernelspec": {
   "display_name": "Python 3",
   "language": "python",
   "name": "python3"
  },
  "language_info": {
   "codemirror_mode": {
    "name": "ipython",
    "version": 3
   },
   "file_extension": ".py",
   "mimetype": "text/x-python",
   "name": "python",
   "nbconvert_exporter": "python",
   "pygments_lexer": "ipython3",
   "version": "3.7.3"
  }
 },
 "nbformat": 4,
 "nbformat_minor": 2
}
