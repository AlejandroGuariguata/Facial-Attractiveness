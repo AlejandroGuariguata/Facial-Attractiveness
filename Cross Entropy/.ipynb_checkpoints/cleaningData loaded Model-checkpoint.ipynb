{
 "cells": [
  {
   "cell_type": "code",
   "execution_count": 1,
   "metadata": {},
   "outputs": [
    {
     "name": "stderr",
     "output_type": "stream",
     "text": [
      "Using TensorFlow backend.\n"
     ]
    }
   ],
   "source": [
    "import pandas as pd\n",
    "import seaborn as sns\n",
    "import os\n",
    "from os import listdir\n",
    "import sklearn\n",
    "from sklearn import preprocessing\n",
    "from sklearn.model_selection import train_test_split\n",
    "\n",
    "import keras\n",
    "from keras.preprocessing.image import ImageDataGenerator\n",
    "from keras.models import Sequential\n",
    "\n",
    "from keras.layers import Dense, Dropout, Activation, Flatten\n",
    "from keras.layers import Conv2D, MaxPooling2D\n",
    "from keras.preprocessing.image import load_img\n",
    "from keras.preprocessing.image import img_to_array\n",
    "\n",
    "import numpy as np\n",
    "\n",
    "import cv2\n",
    "\n",
    "from sklearn.metrics import classification_report\n",
    "from keras.models import load_model\n",
    "import matplotlib.pyplot as plt"
   ]
  },
  {
   "cell_type": "code",
   "execution_count": 2,
   "metadata": {},
   "outputs": [],
   "source": [
    "datasetAF = pd.read_csv(\"D:\\\\Dropbox\\\\utd\\\\cs courses\\\\cs 4375 machine learning\\\\assignments\\\\project\\\\rating csv data\\\\All_Ratings asian female csv.txt\",header = 0)"
   ]
  },
  {
   "cell_type": "code",
   "execution_count": 3,
   "metadata": {},
   "outputs": [],
   "source": [
    "avgPerFile = datasetAF['Rating'].groupby(datasetAF['Filename'],sort=False)\n",
    "averagePerFileMean = avgPerFile.mean()\n",
    "preparedAFDataset = pd.DataFrame({'Filename':averagePerFileMean.index, 'Avg Rating':averagePerFileMean.values})\n",
    "labelsSeries = preparedAFDataset['Avg Rating']\n"
   ]
  },
  {
   "cell_type": "code",
   "execution_count": 4,
   "metadata": {},
   "outputs": [],
   "source": [
    "#Rounding ratings\n",
    "#changing to int to allow creation of one hot encoded matrix\n",
    "\n",
    "#rounding the Avg Rating column, still a float dtype\n",
    "preparedAFDataset[['Avg Rating']] = preparedAFDataset[['Avg Rating']].round()\n",
    "#now an int dtype\n",
    "preparedAFDataset[['Avg Rating']] = preparedAFDataset[['Avg Rating']].astype(int)"
   ]
  },
  {
   "cell_type": "code",
   "execution_count": 5,
   "metadata": {},
   "outputs": [
    {
     "name": "stdout",
     "output_type": "stream",
     "text": [
      "[[0 1 0 0 0]\n",
      " [0 0 0 1 0]\n",
      " [0 0 1 0 0]\n",
      " ...\n",
      " [0 0 1 0 0]\n",
      " [0 0 1 0 0]\n",
      " [0 0 0 1 0]]\n"
     ]
    }
   ],
   "source": [
    "#ONE HOT ENCODING\n",
    "lb = preprocessing.LabelBinarizer()\n",
    "#note cannot use a series for one hot encoding\n",
    "labels = lb.fit_transform(preparedAFDataset['Avg Rating'])\n",
    "print(labels)"
   ]
  },
  {
   "cell_type": "markdown",
   "metadata": {},
   "source": [
    "Now creating an array of images"
   ]
  },
  {
   "cell_type": "code",
   "execution_count": 6,
   "metadata": {},
   "outputs": [],
   "source": [
    "#needed to join path because windows\n",
    "train_path = os.path.join('C:/', 'Users/alegAsus/Downloads/SCUT-FBP5500_v2.1/SCUT-FBP5500_v2/AF/AF/')\n",
    "images = []"
   ]
  },
  {
   "cell_type": "code",
   "execution_count": 7,
   "metadata": {},
   "outputs": [],
   "source": [
    "#listdir returns a list containing the names of the entries in the directory given by path.\n",
    "for sample in listdir(train_path):\n",
    "    img_path = train_path + sample #sample is every file in the train directory\n",
    "    x = cv2.imread(img_path) #loading file\n",
    "    x = cv2.resize(x, (96, 96))\n",
    "    # preprocessing if required\n",
    "    images.append(x) #adding to x_train array\n",
    "imagesNumPy = np.array(images, dtype=\"float\") / 255.0"
   ]
  },
  {
   "cell_type": "code",
   "execution_count": 8,
   "metadata": {},
   "outputs": [],
   "source": [
    "(trainX, testX, trainY, testY) = train_test_split(imagesNumPy, labels,test_size=0.25, stratify=labels, random_state=42)"
   ]
  },
  {
   "cell_type": "code",
   "execution_count": 9,
   "metadata": {},
   "outputs": [
    {
     "name": "stdout",
     "output_type": "stream",
     "text": [
      "WARNING:tensorflow:From C:\\Users\\alegAsus\\Anaconda3\\lib\\site-packages\\tensorflow\\python\\framework\\op_def_library.py:263: colocate_with (from tensorflow.python.framework.ops) is deprecated and will be removed in a future version.\n",
      "Instructions for updating:\n",
      "Colocations handled automatically by placer.\n",
      "WARNING:tensorflow:From C:\\Users\\alegAsus\\Anaconda3\\lib\\site-packages\\keras\\backend\\tensorflow_backend.py:3445: calling dropout (from tensorflow.python.ops.nn_ops) with keep_prob is deprecated and will be removed in a future version.\n",
      "Instructions for updating:\n",
      "Please use `rate` instead of `keep_prob`. Rate should be set to `rate = 1 - keep_prob`.\n",
      "WARNING:tensorflow:From C:\\Users\\alegAsus\\Anaconda3\\lib\\site-packages\\tensorflow\\python\\ops\\math_ops.py:3066: to_int32 (from tensorflow.python.ops.math_ops) is deprecated and will be removed in a future version.\n",
      "Instructions for updating:\n",
      "Use tf.cast instead.\n"
     ]
    }
   ],
   "source": [
    "model = load_model(os.path.join('C:/', 'Users/alegAsus/Downloads/SCUT-FBP5500_v2.1/SCUT-FBP5500_v2/saved models/classification Cross Entropy/model1 AF.h5'))"
   ]
  },
  {
   "cell_type": "code",
   "execution_count": 11,
   "metadata": {},
   "outputs": [],
   "source": [
    "predictions = model.predict(imagesNumPy, batch_size=32)"
   ]
  },
  {
   "cell_type": "code",
   "execution_count": 1,
   "metadata": {},
   "outputs": [
    {
     "ename": "NameError",
     "evalue": "name 'predictions' is not defined",
     "output_type": "error",
     "traceback": [
      "\u001b[1;31m---------------------------------------------------------------------------\u001b[0m",
      "\u001b[1;31mNameError\u001b[0m                                 Traceback (most recent call last)",
      "\u001b[1;32m<ipython-input-1-fd2951b82103>\u001b[0m in \u001b[0;36m<module>\u001b[1;34m\u001b[0m\n\u001b[1;32m----> 1\u001b[1;33m \u001b[0mpredictions\u001b[0m\u001b[1;33m\u001b[0m\u001b[1;33m\u001b[0m\u001b[0m\n\u001b[0m",
      "\u001b[1;31mNameError\u001b[0m: name 'predictions' is not defined"
     ]
    }
   ],
   "source": [
    "predictions"
   ]
  },
  {
   "cell_type": "code",
   "execution_count": 13,
   "metadata": {
    "scrolled": true
   },
   "outputs": [
    {
     "data": {
      "text/plain": [
       "10000"
      ]
     },
     "execution_count": 13,
     "metadata": {},
     "output_type": "execute_result"
    }
   ],
   "source": [
    "#2000 rows * 5 entries per row\n",
    "predictions.size"
   ]
  },
  {
   "cell_type": "code",
   "execution_count": null,
   "metadata": {},
   "outputs": [],
   "source": []
  },
  {
   "cell_type": "code",
   "execution_count": 14,
   "metadata": {},
   "outputs": [],
   "source": [
    "#the labels array cannot be one hot encoded and both arguments must be of the same type\n",
    "#using argmax because the predictions is an array of arrays, each of which has 5 probabilities\n",
    "#you take the highest probability to be the class it placed it in\n",
    "#axis = 1 is along the rows\n",
    "\n",
    "\n",
    "#CODE FOR CLASSIFICATION REPORT\n",
    "\n",
    "#converting the column of ratings into a numpy array\n",
    "#numpyLabels = preparedAFDataset['Avg Rating'].values\n",
    "#preparedAFDataset.iloc[1140:1150]\n",
    "#print(predictions.shape)\n",
    "#print(predictions[[1140, 1146], :])\n",
    "#print(numpyLabels)\n",
    "#print(classification_report(numpyLabels,predictions.argmax(axis=1)))\n",
    "\n",
    "#END CODE FOR CLASSIFICATION REPORT\n",
    "\n",
    "#if the warning \"UndefinedMetricWarning: Precision and F-score are ill-defined and being set to 0.0 in labels with \n",
    "#no predicted samples\" is printed, this is because \"some labels in y_true don't appear in y_pred\"\n",
    "\n",
    "#precision report is typically with 2 classes, this has 5 classes\n",
    "#use accuracy to evaluate, cross entropy for the entire model\n",
    "\n",
    "#use a different loss function to evaluate the model , for example RMSE, labels must still be one hot encoded\n",
    "#can also use cross entropy by note that you wont have a baseline"
   ]
  },
  {
   "cell_type": "code",
   "execution_count": null,
   "metadata": {},
   "outputs": [],
   "source": []
  }
 ],
 "metadata": {
  "kernelspec": {
   "display_name": "Python 3",
   "language": "python",
   "name": "python3"
  },
  "language_info": {
   "codemirror_mode": {
    "name": "ipython",
    "version": 3
   },
   "file_extension": ".py",
   "mimetype": "text/x-python",
   "name": "python",
   "nbconvert_exporter": "python",
   "pygments_lexer": "ipython3",
   "version": "3.7.3"
  }
 },
 "nbformat": 4,
 "nbformat_minor": 2
}
