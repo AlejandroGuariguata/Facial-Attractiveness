{
 "cells": [
  {
   "cell_type": "code",
   "execution_count": 1,
   "metadata": {},
   "outputs": [
    {
     "name": "stderr",
     "output_type": "stream",
     "text": [
      "Using TensorFlow backend.\n"
     ]
    }
   ],
   "source": [
    "import pandas as pd\n",
    "import seaborn as sns\n",
    "import os\n",
    "from os import listdir\n",
    "import sklearn\n",
    "from sklearn import preprocessing\n",
    "from sklearn.model_selection import train_test_split\n",
    "\n",
    "import keras\n",
    "from keras.preprocessing.image import ImageDataGenerator\n",
    "from keras.models import Sequential\n",
    "from keras.layers import Dense, Dropout, Activation, Flatten\n",
    "from keras.layers import Conv2D, MaxPooling2D\n",
    "from keras.preprocessing.image import load_img\n",
    "from keras.preprocessing.image import img_to_array\n",
    "\n",
    "import numpy as np\n",
    "\n",
    "import cv2\n",
    "\n",
    "from sklearn.metrics import classification_report\n",
    "from keras.models import load_model\n",
    "import matplotlib.pyplot as plt\n",
    "\n",
    "from keras.callbacks import CSVLogger"
   ]
  },
  {
   "cell_type": "code",
   "execution_count": 2,
   "metadata": {},
   "outputs": [],
   "source": [
    "datasetAF = pd.read_csv(\"D:\\\\Dropbox\\\\utd\\\\cs courses\\\\cs 4375 machine learning\\\\assignments\\\\project\\\\rating csv data\\\\All_Ratings asian female csv.txt\",header = 0)"
   ]
  },
  {
   "cell_type": "markdown",
   "metadata": {},
   "source": [
    "The dataset used in this project is the SCUT-FBP5500_v2 dataset which includes faces in neutral expressions of 2000 Asian females, 2000 Asian males, 750 Caucasian females and 750 Caucasian males. The csv file being read in is a subset of the All_Ratings excel file of the dataset including only Asian Females.\n",
    "\n",
    "Each file is rated by 60 raters. This is why each filename has 60 rows. To create a workable dataset for the model the ratings must be averaged by filename and be in ascending order to coincide with the order of the array of the actual images that will be created.\n",
    "\n",
    "The original Rating column is if the image was rated twice, this column was not included in the average rating due to the very small number of files who were rated twice."
   ]
  },
  {
   "cell_type": "code",
   "execution_count": 3,
   "metadata": {
    "scrolled": true
   },
   "outputs": [
    {
     "data": {
      "text/html": [
       "<div>\n",
       "<style scoped>\n",
       "    .dataframe tbody tr th:only-of-type {\n",
       "        vertical-align: middle;\n",
       "    }\n",
       "\n",
       "    .dataframe tbody tr th {\n",
       "        vertical-align: top;\n",
       "    }\n",
       "\n",
       "    .dataframe thead th {\n",
       "        text-align: right;\n",
       "    }\n",
       "</style>\n",
       "<table border=\"1\" class=\"dataframe\">\n",
       "  <thead>\n",
       "    <tr style=\"text-align: right;\">\n",
       "      <th></th>\n",
       "      <th>Rater</th>\n",
       "      <th>Filename</th>\n",
       "      <th>Rating</th>\n",
       "      <th>originalRating</th>\n",
       "    </tr>\n",
       "  </thead>\n",
       "  <tbody>\n",
       "    <tr>\n",
       "      <th>0</th>\n",
       "      <td>1</td>\n",
       "      <td>AF1.jpg</td>\n",
       "      <td>2</td>\n",
       "      <td>NaN</td>\n",
       "    </tr>\n",
       "    <tr>\n",
       "      <th>1</th>\n",
       "      <td>2</td>\n",
       "      <td>AF1.jpg</td>\n",
       "      <td>3</td>\n",
       "      <td>3.0</td>\n",
       "    </tr>\n",
       "    <tr>\n",
       "      <th>2</th>\n",
       "      <td>3</td>\n",
       "      <td>AF1.jpg</td>\n",
       "      <td>2</td>\n",
       "      <td>NaN</td>\n",
       "    </tr>\n",
       "    <tr>\n",
       "      <th>3</th>\n",
       "      <td>4</td>\n",
       "      <td>AF1.jpg</td>\n",
       "      <td>1</td>\n",
       "      <td>NaN</td>\n",
       "    </tr>\n",
       "    <tr>\n",
       "      <th>4</th>\n",
       "      <td>5</td>\n",
       "      <td>AF1.jpg</td>\n",
       "      <td>3</td>\n",
       "      <td>NaN</td>\n",
       "    </tr>\n",
       "    <tr>\n",
       "      <th>5</th>\n",
       "      <td>6</td>\n",
       "      <td>AF1.jpg</td>\n",
       "      <td>2</td>\n",
       "      <td>NaN</td>\n",
       "    </tr>\n",
       "    <tr>\n",
       "      <th>6</th>\n",
       "      <td>7</td>\n",
       "      <td>AF1.jpg</td>\n",
       "      <td>2</td>\n",
       "      <td>NaN</td>\n",
       "    </tr>\n",
       "    <tr>\n",
       "      <th>7</th>\n",
       "      <td>8</td>\n",
       "      <td>AF1.jpg</td>\n",
       "      <td>3</td>\n",
       "      <td>NaN</td>\n",
       "    </tr>\n",
       "    <tr>\n",
       "      <th>8</th>\n",
       "      <td>9</td>\n",
       "      <td>AF1.jpg</td>\n",
       "      <td>3</td>\n",
       "      <td>NaN</td>\n",
       "    </tr>\n",
       "    <tr>\n",
       "      <th>9</th>\n",
       "      <td>10</td>\n",
       "      <td>AF1.jpg</td>\n",
       "      <td>3</td>\n",
       "      <td>NaN</td>\n",
       "    </tr>\n",
       "  </tbody>\n",
       "</table>\n",
       "</div>"
      ],
      "text/plain": [
       "   Rater Filename  Rating  originalRating\n",
       "0      1  AF1.jpg       2             NaN\n",
       "1      2  AF1.jpg       3             3.0\n",
       "2      3  AF1.jpg       2             NaN\n",
       "3      4  AF1.jpg       1             NaN\n",
       "4      5  AF1.jpg       3             NaN\n",
       "5      6  AF1.jpg       2             NaN\n",
       "6      7  AF1.jpg       2             NaN\n",
       "7      8  AF1.jpg       3             NaN\n",
       "8      9  AF1.jpg       3             NaN\n",
       "9     10  AF1.jpg       3             NaN"
      ]
     },
     "execution_count": 3,
     "metadata": {},
     "output_type": "execute_result"
    }
   ],
   "source": [
    "datasetAF.head(10)"
   ]
  },
  {
   "cell_type": "markdown",
   "metadata": {},
   "source": [
    "Here we are creating a group object. We are grouping rating by filename. Creating unique rows in terms of filenames"
   ]
  },
  {
   "cell_type": "code",
   "execution_count": 4,
   "metadata": {},
   "outputs": [],
   "source": [
    "avgPerFile = datasetAF['Rating'].groupby(datasetAF['Filename'],sort=False)"
   ]
  },
  {
   "cell_type": "markdown",
   "metadata": {},
   "source": [
    "The mean() method is run on the group"
   ]
  },
  {
   "cell_type": "code",
   "execution_count": 5,
   "metadata": {},
   "outputs": [
    {
     "data": {
      "text/plain": [
       "Filename\n",
       "AF1.jpg     2.333333\n",
       "AF2.jpg     3.950000\n",
       "AF3.jpg     3.183333\n",
       "AF4.jpg     2.683333\n",
       "AF5.jpg     2.000000\n",
       "AF6.jpg     1.566667\n",
       "AF7.jpg     2.566667\n",
       "AF8.jpg     2.750000\n",
       "AF9.jpg     2.150000\n",
       "AF10.jpg    3.433333\n",
       "Name: Rating, dtype: float64"
      ]
     },
     "execution_count": 5,
     "metadata": {},
     "output_type": "execute_result"
    }
   ],
   "source": [
    "averagePerFileMean = avgPerFile.mean()\n",
    "averagePerFileMean.head(10)"
   ]
  },
  {
   "cell_type": "code",
   "execution_count": 6,
   "metadata": {},
   "outputs": [
    {
     "data": {
      "text/plain": [
       "pandas.core.series.Series"
      ]
     },
     "execution_count": 6,
     "metadata": {},
     "output_type": "execute_result"
    }
   ],
   "source": [
    "type(averagePerFileMean)"
   ]
  },
  {
   "cell_type": "markdown",
   "metadata": {},
   "source": [
    "With it being a series after the manipulation we change it back to a datarfame in order to round the average ratings column"
   ]
  },
  {
   "cell_type": "code",
   "execution_count": 7,
   "metadata": {},
   "outputs": [
    {
     "data": {
      "text/html": [
       "<div>\n",
       "<style scoped>\n",
       "    .dataframe tbody tr th:only-of-type {\n",
       "        vertical-align: middle;\n",
       "    }\n",
       "\n",
       "    .dataframe tbody tr th {\n",
       "        vertical-align: top;\n",
       "    }\n",
       "\n",
       "    .dataframe thead th {\n",
       "        text-align: right;\n",
       "    }\n",
       "</style>\n",
       "<table border=\"1\" class=\"dataframe\">\n",
       "  <thead>\n",
       "    <tr style=\"text-align: right;\">\n",
       "      <th></th>\n",
       "      <th>Filename</th>\n",
       "      <th>Avg Rating</th>\n",
       "    </tr>\n",
       "  </thead>\n",
       "  <tbody>\n",
       "    <tr>\n",
       "      <th>0</th>\n",
       "      <td>AF1.jpg</td>\n",
       "      <td>2.333333</td>\n",
       "    </tr>\n",
       "    <tr>\n",
       "      <th>1</th>\n",
       "      <td>AF2.jpg</td>\n",
       "      <td>3.950000</td>\n",
       "    </tr>\n",
       "    <tr>\n",
       "      <th>2</th>\n",
       "      <td>AF3.jpg</td>\n",
       "      <td>3.183333</td>\n",
       "    </tr>\n",
       "    <tr>\n",
       "      <th>3</th>\n",
       "      <td>AF4.jpg</td>\n",
       "      <td>2.683333</td>\n",
       "    </tr>\n",
       "    <tr>\n",
       "      <th>4</th>\n",
       "      <td>AF5.jpg</td>\n",
       "      <td>2.000000</td>\n",
       "    </tr>\n",
       "    <tr>\n",
       "      <th>5</th>\n",
       "      <td>AF6.jpg</td>\n",
       "      <td>1.566667</td>\n",
       "    </tr>\n",
       "    <tr>\n",
       "      <th>6</th>\n",
       "      <td>AF7.jpg</td>\n",
       "      <td>2.566667</td>\n",
       "    </tr>\n",
       "    <tr>\n",
       "      <th>7</th>\n",
       "      <td>AF8.jpg</td>\n",
       "      <td>2.750000</td>\n",
       "    </tr>\n",
       "    <tr>\n",
       "      <th>8</th>\n",
       "      <td>AF9.jpg</td>\n",
       "      <td>2.150000</td>\n",
       "    </tr>\n",
       "    <tr>\n",
       "      <th>9</th>\n",
       "      <td>AF10.jpg</td>\n",
       "      <td>3.433333</td>\n",
       "    </tr>\n",
       "  </tbody>\n",
       "</table>\n",
       "</div>"
      ],
      "text/plain": [
       "   Filename  Avg Rating\n",
       "0   AF1.jpg    2.333333\n",
       "1   AF2.jpg    3.950000\n",
       "2   AF3.jpg    3.183333\n",
       "3   AF4.jpg    2.683333\n",
       "4   AF5.jpg    2.000000\n",
       "5   AF6.jpg    1.566667\n",
       "6   AF7.jpg    2.566667\n",
       "7   AF8.jpg    2.750000\n",
       "8   AF9.jpg    2.150000\n",
       "9  AF10.jpg    3.433333"
      ]
     },
     "execution_count": 7,
     "metadata": {},
     "output_type": "execute_result"
    }
   ],
   "source": [
    "#creating new dataframe with columns Filename and Avg Rating\n",
    "preparedAFDataset = pd.DataFrame({'Filename':averagePerFileMean.index, 'Avg Rating':averagePerFileMean.values})\n",
    "preparedAFDataset.head(10)"
   ]
  },
  {
   "cell_type": "code",
   "execution_count": 8,
   "metadata": {
    "scrolled": true
   },
   "outputs": [
    {
     "data": {
      "text/html": [
       "<div>\n",
       "<style scoped>\n",
       "    .dataframe tbody tr th:only-of-type {\n",
       "        vertical-align: middle;\n",
       "    }\n",
       "\n",
       "    .dataframe tbody tr th {\n",
       "        vertical-align: top;\n",
       "    }\n",
       "\n",
       "    .dataframe thead th {\n",
       "        text-align: right;\n",
       "    }\n",
       "</style>\n",
       "<table border=\"1\" class=\"dataframe\">\n",
       "  <thead>\n",
       "    <tr style=\"text-align: right;\">\n",
       "      <th></th>\n",
       "      <th>Filename</th>\n",
       "      <th>Avg Rating</th>\n",
       "    </tr>\n",
       "  </thead>\n",
       "  <tbody>\n",
       "    <tr>\n",
       "      <th>0</th>\n",
       "      <td>AF1.jpg</td>\n",
       "      <td>2</td>\n",
       "    </tr>\n",
       "    <tr>\n",
       "      <th>1</th>\n",
       "      <td>AF2.jpg</td>\n",
       "      <td>4</td>\n",
       "    </tr>\n",
       "    <tr>\n",
       "      <th>2</th>\n",
       "      <td>AF3.jpg</td>\n",
       "      <td>3</td>\n",
       "    </tr>\n",
       "    <tr>\n",
       "      <th>3</th>\n",
       "      <td>AF4.jpg</td>\n",
       "      <td>3</td>\n",
       "    </tr>\n",
       "    <tr>\n",
       "      <th>4</th>\n",
       "      <td>AF5.jpg</td>\n",
       "      <td>2</td>\n",
       "    </tr>\n",
       "    <tr>\n",
       "      <th>5</th>\n",
       "      <td>AF6.jpg</td>\n",
       "      <td>2</td>\n",
       "    </tr>\n",
       "    <tr>\n",
       "      <th>6</th>\n",
       "      <td>AF7.jpg</td>\n",
       "      <td>3</td>\n",
       "    </tr>\n",
       "    <tr>\n",
       "      <th>7</th>\n",
       "      <td>AF8.jpg</td>\n",
       "      <td>3</td>\n",
       "    </tr>\n",
       "    <tr>\n",
       "      <th>8</th>\n",
       "      <td>AF9.jpg</td>\n",
       "      <td>2</td>\n",
       "    </tr>\n",
       "    <tr>\n",
       "      <th>9</th>\n",
       "      <td>AF10.jpg</td>\n",
       "      <td>3</td>\n",
       "    </tr>\n",
       "  </tbody>\n",
       "</table>\n",
       "</div>"
      ],
      "text/plain": [
       "   Filename  Avg Rating\n",
       "0   AF1.jpg           2\n",
       "1   AF2.jpg           4\n",
       "2   AF3.jpg           3\n",
       "3   AF4.jpg           3\n",
       "4   AF5.jpg           2\n",
       "5   AF6.jpg           2\n",
       "6   AF7.jpg           3\n",
       "7   AF8.jpg           3\n",
       "8   AF9.jpg           2\n",
       "9  AF10.jpg           3"
      ]
     },
     "execution_count": 8,
     "metadata": {},
     "output_type": "execute_result"
    }
   ],
   "source": [
    "#rounding the Avg Rating column, still a float dtype\n",
    "preparedAFDataset[['Avg Rating']] = preparedAFDataset[['Avg Rating']].round()\n",
    "#now an int dtype\n",
    "preparedAFDataset[['Avg Rating']] = preparedAFDataset[['Avg Rating']].astype(int)\n",
    "preparedAFDataset.head(10)"
   ]
  },
  {
   "cell_type": "markdown",
   "metadata": {},
   "source": [
    "Labels for all pictures are now one hot encoded"
   ]
  },
  {
   "cell_type": "code",
   "execution_count": 9,
   "metadata": {},
   "outputs": [
    {
     "name": "stdout",
     "output_type": "stream",
     "text": [
      "[[0 1 0 0 0]\n",
      " [0 0 0 1 0]\n",
      " [0 0 1 0 0]\n",
      " ...\n",
      " [0 0 1 0 0]\n",
      " [0 0 1 0 0]\n",
      " [0 0 0 1 0]]\n"
     ]
    }
   ],
   "source": [
    "lb = preprocessing.LabelBinarizer()\n",
    "labels = lb.fit_transform(preparedAFDataset[['Avg Rating']])\n",
    "print(labels)"
   ]
  },
  {
   "cell_type": "markdown",
   "metadata": {},
   "source": [
    "Now creating an array of images"
   ]
  },
  {
   "cell_type": "code",
   "execution_count": 10,
   "metadata": {},
   "outputs": [],
   "source": [
    "#needed to join path because windows\n",
    "train_path = os.path.join('C:/', 'Users/alegAsus/Downloads/SCUT-FBP5500_v2.1/SCUT-FBP5500_v2/AF/AF/')\n",
    "images = []"
   ]
  },
  {
   "cell_type": "code",
   "execution_count": 11,
   "metadata": {},
   "outputs": [],
   "source": [
    "#adapted from https://www.quora.com/How-do-I-load-train-and-test-data-from-the-local-drive-for-a-deep-learning-Keras-model\n",
    "#listdir returns a list containing the names of the entries in the directory given by path.\n",
    "for sample in listdir(train_path):\n",
    "    img_path = train_path + sample #sample is every file in the train directory\n",
    "    x = cv2.imread(img_path) #loading file\n",
    "    x = cv2.resize(x, (96, 96))\n",
    "    # preprocessing if required\n",
    "    images.append(x) #adding to x_train array\n",
    "#scale all pixels to between 0 and 1\n",
    "imagesNumPy = np.array(images, dtype=\"float\") / 255.0\n",
    "#substract by 0.5 to be able to center data around 0\n",
    "#this helps since the activation works around 0"
   ]
  },
  {
   "cell_type": "code",
   "execution_count": 12,
   "metadata": {},
   "outputs": [
    {
     "name": "stdout",
     "output_type": "stream",
     "text": [
      "(96, 96, 3)\n"
     ]
    }
   ],
   "source": [
    "(trainX, testX, trainY, testY) = train_test_split(imagesNumPy, labels,test_size=0.25, stratify=labels, random_state=42)\n",
    "print(trainX.shape[1:])"
   ]
  },
  {
   "cell_type": "markdown",
   "metadata": {},
   "source": [
    "#Model 1\n",
    "The model includes 6 conv2d layers for filter learning, the layers progressively have more filters the deeper the network goes. The size of the filters are all 3x3 and the padding is set to 'same' in order to prevent the dimensionality from reducing, this is already reduced by the max pooling layers. "
   ]
  },
  {
   "cell_type": "code",
   "execution_count": 13,
   "metadata": {},
   "outputs": [
    {
     "name": "stdout",
     "output_type": "stream",
     "text": [
      "WARNING:tensorflow:From C:\\Users\\alegAsus\\Anaconda3\\lib\\site-packages\\tensorflow\\python\\framework\\op_def_library.py:263: colocate_with (from tensorflow.python.framework.ops) is deprecated and will be removed in a future version.\n",
      "Instructions for updating:\n",
      "Colocations handled automatically by placer.\n",
      "WARNING:tensorflow:From C:\\Users\\alegAsus\\Anaconda3\\lib\\site-packages\\keras\\backend\\tensorflow_backend.py:3445: calling dropout (from tensorflow.python.ops.nn_ops) with keep_prob is deprecated and will be removed in a future version.\n",
      "Instructions for updating:\n",
      "Please use `rate` instead of `keep_prob`. Rate should be set to `rate = 1 - keep_prob`.\n"
     ]
    }
   ],
   "source": [
    "#run this model with Dense(notDefinedVariable) to see functions in tensorflow that are to be depreciated\n",
    "model = Sequential()\n",
    "model.add(Conv2D(32, (3, 3), padding='same',\n",
    "                 input_shape=trainX.shape[1:]))\n",
    "model.add(Activation('relu'))\n",
    "model.add(Conv2D(32, (3, 3), padding='same'))\n",
    "model.add(Activation('relu'))\n",
    "model.add(MaxPooling2D(pool_size=(2, 2)))\n",
    "model.add(Dropout(0.25))\n",
    "\n",
    "model.add(Conv2D(64, (3, 3), padding='same'))\n",
    "model.add(Activation('relu'))\n",
    "model.add(Conv2D(64, (3, 3), padding='same'))\n",
    "model.add(Activation('relu'))\n",
    "model.add(MaxPooling2D(pool_size=(2, 2)))\n",
    "model.add(Dropout(0.25))\n",
    "\n",
    "model.add(Conv2D(128, (3, 3), padding='same'))\n",
    "model.add(Activation('relu'))\n",
    "model.add(Conv2D(128, (3, 3), padding='same'))\n",
    "model.add(Activation('relu'))\n",
    "model.add(MaxPooling2D(pool_size=(2, 2)))\n",
    "model.add(Dropout(0.25))\n",
    "\n",
    "model.add(Flatten())\n",
    "model.add(Dense(512))\n",
    "model.add(Activation('relu'))\n",
    "model.add(Dropout(0.3))\n",
    "#5 due to the 5 possible classifications\n",
    "model.add(Dense(5))\n",
    "model.add(Activation('softmax'))\n",
    "\n",
    "# initiate RMSprop optimizer\n",
    "opt = keras.optimizers.rmsprop(lr=0.0001)\n",
    "\n",
    "# Let's train the model using RMSprop\n",
    "model.compile(loss='categorical_crossentropy',\n",
    "              optimizer=opt,\n",
    "              metrics=['accuracy'])\n",
    "#warnings are due to tensorflow package code, not project implementation"
   ]
  },
  {
   "cell_type": "markdown",
   "metadata": {},
   "source": [
    "Training the model, also creating a History object to plot the progress of the model"
   ]
  },
  {
   "cell_type": "code",
   "execution_count": 14,
   "metadata": {},
   "outputs": [
    {
     "name": "stdout",
     "output_type": "stream",
     "text": [
      "WARNING:tensorflow:From C:\\Users\\alegAsus\\Anaconda3\\lib\\site-packages\\tensorflow\\python\\ops\\math_ops.py:3066: to_int32 (from tensorflow.python.ops.math_ops) is deprecated and will be removed in a future version.\n",
      "Instructions for updating:\n",
      "Use tf.cast instead.\n",
      "Train on 1500 samples, validate on 500 samples\n",
      "Epoch 1/64\n",
      "1500/1500 [==============================] - 43s 28ms/step - loss: 1.1937 - acc: 0.3993 - val_loss: 1.2642 - val_acc: 0.4520\n",
      "Epoch 2/64\n",
      "1500/1500 [==============================] - 39s 26ms/step - loss: 1.1458 - acc: 0.4280 - val_loss: 1.2636 - val_acc: 0.4540\n",
      "Epoch 3/64\n",
      "1500/1500 [==============================] - 40s 27ms/step - loss: 1.1406 - acc: 0.4293 - val_loss: 1.1943 - val_acc: 0.4520\n",
      "Epoch 4/64\n",
      "1500/1500 [==============================] - 39s 26ms/step - loss: 1.1291 - acc: 0.4493 - val_loss: 1.2111 - val_acc: 0.4480\n",
      "Epoch 5/64\n",
      "1500/1500 [==============================] - 38s 26ms/step - loss: 1.1312 - acc: 0.4513 - val_loss: 1.2272 - val_acc: 0.4540\n",
      "Epoch 6/64\n",
      "1500/1500 [==============================] - 38s 26ms/step - loss: 1.1269 - acc: 0.4520 - val_loss: 1.2538 - val_acc: 0.4640\n",
      "Epoch 7/64\n",
      "1500/1500 [==============================] - 39s 26ms/step - loss: 1.1179 - acc: 0.4647 - val_loss: 1.2646 - val_acc: 0.4820\n",
      "Epoch 8/64\n",
      "1500/1500 [==============================] - 38s 26ms/step - loss: 1.1227 - acc: 0.4387 - val_loss: 1.2728 - val_acc: 0.4860\n",
      "Epoch 9/64\n",
      "1500/1500 [==============================] - 39s 26ms/step - loss: 1.1084 - acc: 0.4647 - val_loss: 1.2594 - val_acc: 0.4920\n",
      "Epoch 10/64\n",
      "1500/1500 [==============================] - 39s 26ms/step - loss: 1.1151 - acc: 0.4633 - val_loss: 1.1921 - val_acc: 0.4620\n",
      "Epoch 11/64\n",
      "1500/1500 [==============================] - 39s 26ms/step - loss: 1.1071 - acc: 0.4580 - val_loss: 1.1750 - val_acc: 0.4720\n",
      "Epoch 12/64\n",
      "1500/1500 [==============================] - 39s 26ms/step - loss: 1.1068 - acc: 0.4480 - val_loss: 1.1690 - val_acc: 0.4860\n",
      "Epoch 13/64\n",
      "1500/1500 [==============================] - 39s 26ms/step - loss: 1.1053 - acc: 0.4667 - val_loss: 1.1567 - val_acc: 0.4760\n",
      "Epoch 14/64\n",
      "1500/1500 [==============================] - 39s 26ms/step - loss: 1.1079 - acc: 0.4553 - val_loss: 1.1647 - val_acc: 0.4800\n",
      "Epoch 15/64\n",
      "1500/1500 [==============================] - 38s 26ms/step - loss: 1.0936 - acc: 0.4693 - val_loss: 1.1671 - val_acc: 0.4860\n",
      "Epoch 16/64\n",
      "1500/1500 [==============================] - 38s 26ms/step - loss: 1.0939 - acc: 0.4680 - val_loss: 1.1420 - val_acc: 0.4840\n",
      "Epoch 17/64\n",
      "1500/1500 [==============================] - 39s 26ms/step - loss: 1.0887 - acc: 0.4660 - val_loss: 1.1475 - val_acc: 0.4860\n",
      "Epoch 18/64\n",
      "1500/1500 [==============================] - 38s 26ms/step - loss: 1.0870 - acc: 0.4660 - val_loss: 1.1078 - val_acc: 0.4720\n",
      "Epoch 19/64\n",
      "1500/1500 [==============================] - 38s 26ms/step - loss: 1.0783 - acc: 0.4840 - val_loss: 1.1273 - val_acc: 0.4840\n",
      "Epoch 20/64\n",
      "1500/1500 [==============================] - 39s 26ms/step - loss: 1.0815 - acc: 0.4853 - val_loss: 1.1381 - val_acc: 0.4800\n",
      "Epoch 21/64\n",
      "1500/1500 [==============================] - 39s 26ms/step - loss: 1.0732 - acc: 0.4760 - val_loss: 1.1269 - val_acc: 0.4740\n",
      "Epoch 22/64\n",
      "1500/1500 [==============================] - 39s 26ms/step - loss: 1.0565 - acc: 0.4973 - val_loss: 1.1028 - val_acc: 0.4820\n",
      "Epoch 23/64\n",
      "1500/1500 [==============================] - 39s 26ms/step - loss: 1.0650 - acc: 0.4960 - val_loss: 1.1183 - val_acc: 0.4660\n",
      "Epoch 24/64\n",
      "1500/1500 [==============================] - 38s 26ms/step - loss: 1.0600 - acc: 0.4980 - val_loss: 1.0976 - val_acc: 0.4880\n",
      "Epoch 25/64\n",
      "1500/1500 [==============================] - 38s 26ms/step - loss: 1.0480 - acc: 0.5053 - val_loss: 1.1154 - val_acc: 0.4800\n",
      "Epoch 26/64\n",
      "1500/1500 [==============================] - 39s 26ms/step - loss: 1.0414 - acc: 0.5060 - val_loss: 1.1165 - val_acc: 0.4920\n",
      "Epoch 27/64\n",
      "1500/1500 [==============================] - 38s 26ms/step - loss: 1.0430 - acc: 0.4967 - val_loss: 1.1237 - val_acc: 0.4860\n",
      "Epoch 28/64\n",
      "1500/1500 [==============================] - 38s 26ms/step - loss: 1.0307 - acc: 0.5220 - val_loss: 1.1137 - val_acc: 0.4740\n",
      "Epoch 29/64\n",
      "1500/1500 [==============================] - 38s 26ms/step - loss: 1.0216 - acc: 0.5060 - val_loss: 1.1221 - val_acc: 0.4560\n",
      "Epoch 30/64\n",
      "1500/1500 [==============================] - 38s 25ms/step - loss: 1.0114 - acc: 0.5353 - val_loss: 1.1208 - val_acc: 0.4640\n",
      "Epoch 31/64\n",
      "1500/1500 [==============================] - 38s 25ms/step - loss: 0.9983 - acc: 0.5433 - val_loss: 1.1403 - val_acc: 0.4560\n",
      "Epoch 32/64\n",
      "1500/1500 [==============================] - 38s 26ms/step - loss: 0.9885 - acc: 0.5560 - val_loss: 1.1597 - val_acc: 0.4900\n",
      "Epoch 33/64\n",
      "1500/1500 [==============================] - 38s 25ms/step - loss: 0.9651 - acc: 0.5627 - val_loss: 1.1575 - val_acc: 0.4420\n",
      "Epoch 34/64\n",
      "1500/1500 [==============================] - 38s 25ms/step - loss: 0.9576 - acc: 0.5633 - val_loss: 1.1538 - val_acc: 0.4620\n",
      "Epoch 35/64\n",
      "1500/1500 [==============================] - 38s 25ms/step - loss: 0.9480 - acc: 0.5767 - val_loss: 1.1728 - val_acc: 0.4540\n",
      "Epoch 36/64\n",
      "1500/1500 [==============================] - 38s 25ms/step - loss: 0.9355 - acc: 0.5887 - val_loss: 1.1725 - val_acc: 0.4320\n",
      "Epoch 37/64\n",
      "1500/1500 [==============================] - 38s 25ms/step - loss: 0.9101 - acc: 0.5900 - val_loss: 1.1737 - val_acc: 0.4700\n",
      "Epoch 38/64\n",
      "1500/1500 [==============================] - 38s 25ms/step - loss: 0.9023 - acc: 0.5967 - val_loss: 1.2438 - val_acc: 0.4660\n",
      "Epoch 39/64\n",
      "1500/1500 [==============================] - 38s 25ms/step - loss: 0.8750 - acc: 0.6267 - val_loss: 1.2097 - val_acc: 0.4360\n",
      "Epoch 40/64\n",
      "1500/1500 [==============================] - 38s 26ms/step - loss: 0.8663 - acc: 0.6133 - val_loss: 1.2601 - val_acc: 0.4460\n",
      "Epoch 41/64\n",
      "1500/1500 [==============================] - 38s 25ms/step - loss: 0.8289 - acc: 0.6433 - val_loss: 1.2372 - val_acc: 0.4440\n",
      "Epoch 42/64\n",
      "1500/1500 [==============================] - 38s 26ms/step - loss: 0.8115 - acc: 0.6653 - val_loss: 1.2824 - val_acc: 0.4260\n",
      "Epoch 43/64\n",
      "1500/1500 [==============================] - 38s 25ms/step - loss: 0.7876 - acc: 0.6707 - val_loss: 1.3060 - val_acc: 0.4180\n",
      "Epoch 44/64\n",
      "1500/1500 [==============================] - 38s 25ms/step - loss: 0.7715 - acc: 0.6720 - val_loss: 1.3364 - val_acc: 0.4220\n",
      "Epoch 45/64\n",
      "1500/1500 [==============================] - 38s 26ms/step - loss: 0.7398 - acc: 0.7020 - val_loss: 1.3464 - val_acc: 0.4420\n",
      "Epoch 46/64\n",
      "1500/1500 [==============================] - 38s 25ms/step - loss: 0.7334 - acc: 0.6893 - val_loss: 1.3627 - val_acc: 0.4140\n",
      "Epoch 47/64\n",
      "1500/1500 [==============================] - 38s 25ms/step - loss: 0.6887 - acc: 0.7147 - val_loss: 1.4511 - val_acc: 0.3940\n",
      "Epoch 48/64\n",
      "1500/1500 [==============================] - 38s 25ms/step - loss: 0.6550 - acc: 0.7340 - val_loss: 1.5128 - val_acc: 0.4180\n",
      "Epoch 49/64\n",
      "1500/1500 [==============================] - 38s 25ms/step - loss: 0.6374 - acc: 0.7440 - val_loss: 1.5897 - val_acc: 0.4380\n",
      "Epoch 50/64\n",
      "1500/1500 [==============================] - 38s 25ms/step - loss: 0.6163 - acc: 0.7613 - val_loss: 1.5299 - val_acc: 0.4040\n",
      "Epoch 51/64\n",
      "1500/1500 [==============================] - 38s 26ms/step - loss: 0.5816 - acc: 0.7753 - val_loss: 1.6169 - val_acc: 0.3960\n",
      "Epoch 52/64\n",
      "1500/1500 [==============================] - 38s 25ms/step - loss: 0.5777 - acc: 0.7707 - val_loss: 1.6739 - val_acc: 0.4300\n",
      "Epoch 53/64\n",
      "1500/1500 [==============================] - 38s 25ms/step - loss: 0.5448 - acc: 0.7907 - val_loss: 1.6708 - val_acc: 0.4240\n",
      "Epoch 54/64\n",
      "1500/1500 [==============================] - 38s 25ms/step - loss: 0.4984 - acc: 0.8040 - val_loss: 1.7068 - val_acc: 0.3780\n",
      "Epoch 55/64\n",
      "1500/1500 [==============================] - 38s 25ms/step - loss: 0.4936 - acc: 0.8173 - val_loss: 1.7997 - val_acc: 0.4200\n",
      "Epoch 56/64\n",
      "1500/1500 [==============================] - 38s 25ms/step - loss: 0.4734 - acc: 0.8100 - val_loss: 1.7880 - val_acc: 0.4160\n",
      "Epoch 57/64\n",
      "1500/1500 [==============================] - 38s 25ms/step - loss: 0.4501 - acc: 0.8267 - val_loss: 1.8149 - val_acc: 0.3920\n",
      "Epoch 58/64\n",
      "1500/1500 [==============================] - 38s 25ms/step - loss: 0.4151 - acc: 0.8367 - val_loss: 1.9378 - val_acc: 0.4120\n",
      "Epoch 59/64\n",
      "1500/1500 [==============================] - 38s 25ms/step - loss: 0.3742 - acc: 0.8567 - val_loss: 2.0327 - val_acc: 0.4100\n",
      "Epoch 60/64\n",
      "1500/1500 [==============================] - 38s 25ms/step - loss: 0.3658 - acc: 0.8513 - val_loss: 2.1363 - val_acc: 0.4380\n",
      "Epoch 61/64\n",
      "1500/1500 [==============================] - 38s 25ms/step - loss: 0.3456 - acc: 0.8793 - val_loss: 2.0911 - val_acc: 0.4100\n",
      "Epoch 62/64\n",
      "1500/1500 [==============================] - 38s 25ms/step - loss: 0.3213 - acc: 0.8847 - val_loss: 2.2722 - val_acc: 0.4020\n",
      "Epoch 63/64\n",
      "1500/1500 [==============================] - 38s 25ms/step - loss: 0.3073 - acc: 0.8800 - val_loss: 2.2074 - val_acc: 0.4180\n",
      "Epoch 64/64\n",
      "1500/1500 [==============================] - 38s 25ms/step - loss: 0.2704 - acc: 0.8980 - val_loss: 2.4959 - val_acc: 0.3920\n"
     ]
    }
   ],
   "source": [
    "csv_logger = CSVLogger(os.path.join('C:/', 'Users/alegAsus/Downloads/SCUT-FBP5500_v2.1/SCUT-FBP5500_v2/saved models/callbacks.log'), separator=',', append=False)\n",
    "modelHistory = model.fit(trainX, trainY,\n",
    "              batch_size=32,\n",
    "              epochs=64,\n",
    "              validation_data=(testX, testY),\n",
    "              shuffle=True, callbacks=[csv_logger])"
   ]
  },
  {
   "cell_type": "markdown",
   "metadata": {},
   "source": [
    "Saving the model"
   ]
  },
  {
   "cell_type": "code",
   "execution_count": 15,
   "metadata": {},
   "outputs": [
    {
     "name": "stdout",
     "output_type": "stream",
     "text": [
      "Saved trained model at C:/Users/alegAsus/Downloads/SCUT-FBP5500_v2.1/SCUT-FBP5500_v2/saved models/model2.h5 \n"
     ]
    }
   ],
   "source": [
    "model_path = os.path.join('C:/', 'Users/alegAsus/Downloads/SCUT-FBP5500_v2.1/SCUT-FBP5500_v2/saved models/model2.h5')\n",
    "model.save(model_path)\n",
    "print('Saved trained model at %s ' % model_path)"
   ]
  },
  {
   "cell_type": "markdown",
   "metadata": {},
   "source": [
    "Saving the history"
   ]
  },
  {
   "cell_type": "code",
   "execution_count": 43,
   "metadata": {},
   "outputs": [
    {
     "data": {
      "text/plain": [
       "<matplotlib.legend.Legend at 0x1ee65e28ef0>"
      ]
     },
     "execution_count": 43,
     "metadata": {},
     "output_type": "execute_result"
    },
    {
     "data": {
      "image/png": "[encoded data removed]",
      "text/plain": [
       "<Figure size 432x288 with 1 Axes>"
      ]
     },
     "metadata": {},
     "output_type": "display_data"
    }
   ],
   "source": [
    "#N is the number of epochs\n",
    "#plot code from https://www.pyimagesearch.com/2018/12/31/keras-conv2d-and-convolutional-layers/\n",
    "N = 64\n",
    "plt.style.use(\"ggplot\")\n",
    "plt.figure()\n",
    "plt.plot(np.arange(0, N), modelHistory.history[\"loss\"], label=\"train_loss\")\n",
    "plt.plot(np.arange(0, N), modelHistory.history[\"val_loss\"], label=\"val_loss\")\n",
    "plt.plot(np.arange(0, N), modelHistory.history[\"acc\"], label=\"train_acc\")\n",
    "plt.plot(np.arange(0, N), modelHistory.history[\"val_acc\"], label=\"val_acc\")\n",
    "plt.title(\"Training Loss and Accuracy on Dataset\")\n",
    "plt.xlabel(\"Epoch #\")\n",
    "plt.ylabel(\"Loss/Accuracy\")\n",
    "plt.legend(loc=\"upper left\")"
   ]
  },
  {
   "cell_type": "code",
   "execution_count": 36,
   "metadata": {
    "scrolled": true
   },
   "outputs": [
    {
     "data": {
      "text/html": [
       "<div>\n",
       "<style scoped>\n",
       "    .dataframe tbody tr th:only-of-type {\n",
       "        vertical-align: middle;\n",
       "    }\n",
       "\n",
       "    .dataframe tbody tr th {\n",
       "        vertical-align: top;\n",
       "    }\n",
       "\n",
       "    .dataframe thead th {\n",
       "        text-align: right;\n",
       "    }\n",
       "</style>\n",
       "<table border=\"1\" class=\"dataframe\">\n",
       "  <thead>\n",
       "    <tr style=\"text-align: right;\">\n",
       "      <th></th>\n",
       "      <th>epoch</th>\n",
       "      <th>acc</th>\n",
       "      <th>loss</th>\n",
       "      <th>val_acc</th>\n",
       "      <th>val_loss</th>\n",
       "    </tr>\n",
       "  </thead>\n",
       "  <tbody>\n",
       "    <tr>\n",
       "      <th>0</th>\n",
       "      <td>0</td>\n",
       "      <td>0.399333</td>\n",
       "      <td>1.193695</td>\n",
       "      <td>0.452</td>\n",
       "      <td>1.264227</td>\n",
       "    </tr>\n",
       "    <tr>\n",
       "      <th>1</th>\n",
       "      <td>1</td>\n",
       "      <td>0.428000</td>\n",
       "      <td>1.145800</td>\n",
       "      <td>0.454</td>\n",
       "      <td>1.263644</td>\n",
       "    </tr>\n",
       "    <tr>\n",
       "      <th>2</th>\n",
       "      <td>2</td>\n",
       "      <td>0.429333</td>\n",
       "      <td>1.140612</td>\n",
       "      <td>0.452</td>\n",
       "      <td>1.194279</td>\n",
       "    </tr>\n",
       "    <tr>\n",
       "      <th>3</th>\n",
       "      <td>3</td>\n",
       "      <td>0.449333</td>\n",
       "      <td>1.129059</td>\n",
       "      <td>0.448</td>\n",
       "      <td>1.211070</td>\n",
       "    </tr>\n",
       "    <tr>\n",
       "      <th>4</th>\n",
       "      <td>4</td>\n",
       "      <td>0.451333</td>\n",
       "      <td>1.131233</td>\n",
       "      <td>0.454</td>\n",
       "      <td>1.227191</td>\n",
       "    </tr>\n",
       "    <tr>\n",
       "      <th>5</th>\n",
       "      <td>5</td>\n",
       "      <td>0.452000</td>\n",
       "      <td>1.126856</td>\n",
       "      <td>0.464</td>\n",
       "      <td>1.253785</td>\n",
       "    </tr>\n",
       "    <tr>\n",
       "      <th>6</th>\n",
       "      <td>6</td>\n",
       "      <td>0.464667</td>\n",
       "      <td>1.117896</td>\n",
       "      <td>0.482</td>\n",
       "      <td>1.264558</td>\n",
       "    </tr>\n",
       "    <tr>\n",
       "      <th>7</th>\n",
       "      <td>7</td>\n",
       "      <td>0.438667</td>\n",
       "      <td>1.122746</td>\n",
       "      <td>0.486</td>\n",
       "      <td>1.272764</td>\n",
       "    </tr>\n",
       "    <tr>\n",
       "      <th>8</th>\n",
       "      <td>8</td>\n",
       "      <td>0.464667</td>\n",
       "      <td>1.108360</td>\n",
       "      <td>0.492</td>\n",
       "      <td>1.259410</td>\n",
       "    </tr>\n",
       "    <tr>\n",
       "      <th>9</th>\n",
       "      <td>9</td>\n",
       "      <td>0.463333</td>\n",
       "      <td>1.115052</td>\n",
       "      <td>0.462</td>\n",
       "      <td>1.192088</td>\n",
       "    </tr>\n",
       "  </tbody>\n",
       "</table>\n",
       "</div>"
      ],
      "text/plain": [
       "   epoch       acc      loss  val_acc  val_loss\n",
       "0      0  0.399333  1.193695    0.452  1.264227\n",
       "1      1  0.428000  1.145800    0.454  1.263644\n",
       "2      2  0.429333  1.140612    0.452  1.194279\n",
       "3      3  0.449333  1.129059    0.448  1.211070\n",
       "4      4  0.451333  1.131233    0.454  1.227191\n",
       "5      5  0.452000  1.126856    0.464  1.253785\n",
       "6      6  0.464667  1.117896    0.482  1.264558\n",
       "7      7  0.438667  1.122746    0.486  1.272764\n",
       "8      8  0.464667  1.108360    0.492  1.259410\n",
       "9      9  0.463333  1.115052    0.462  1.192088"
      ]
     },
     "execution_count": 36,
     "metadata": {},
     "output_type": "execute_result"
    }
   ],
   "source": [
    "#plot code from https://www.pyimagesearch.com/2018/12/31/keras-conv2d-and-convolutional-layers/\n",
    "#Reading in exported csv file for finer manipulation in graphing\n",
    "historyDF = pd.read_csv(\"C:\\\\Users\\\\alegAsus\\\\Downloads\\\\SCUT-FBP5500_v2.1\\\\SCUT-FBP5500_v2\\\\saved models\\\\callbacks.log\",header = 0)\n",
    "historyDF.head(10)"
   ]
  },
  {
   "cell_type": "code",
   "execution_count": 41,
   "metadata": {},
   "outputs": [
    {
     "data": {
      "text/plain": [
       "<matplotlib.legend.Legend at 0x1ee65d1dc88>"
      ]
     },
     "execution_count": 41,
     "metadata": {},
     "output_type": "execute_result"
    },
    {
     "data": {
      "image/png": "[encoded data removed]",
      "text/plain": [
       "<Figure size 432x288 with 1 Axes>"
      ]
     },
     "metadata": {},
     "output_type": "display_data"
    }
   ],
   "source": [
    "#N is the number of epochs\n",
    "N = 45\n",
    "plt.style.use(\"ggplot\")\n",
    "plt.figure()\n",
    "plt.plot(np.arange(0, N), historyDF.iloc[0:N, 1], label=\"train_acc\")\n",
    "plt.plot(np.arange(0, N), historyDF.iloc[0:N, 3], label=\"val_acc\")\n",
    "plt.title(\"Training Loss and Accuracy on Dataset\")\n",
    "plt.xlabel(\"Epoch #\")\n",
    "plt.ylabel(\"Loss/Accuracy\")\n",
    "plt.legend(loc=\"lower left\")"
   ]
  },
  {
   "cell_type": "markdown",
   "metadata": {},
   "source": [
    "As we can see in the plot above, the model begins to overfit past epoch 20, with the trainning accuracy continuing\n",
    "to increase and thhe validation accuracy gradually decreasing."
   ]
  }
 ],
 "metadata": {
  "kernelspec": {
   "display_name": "Python 3",
   "language": "python",
   "name": "python3"
  },
  "language_info": {
   "codemirror_mode": {
    "name": "ipython",
    "version": 3
   },
   "file_extension": ".py",
   "mimetype": "text/x-python",
   "name": "python",
   "nbconvert_exporter": "python",
   "pygments_lexer": "ipython3",
   "version": "3.7.3"
  }
 },
 "nbformat": 4,
 "nbformat_minor": 2
}
