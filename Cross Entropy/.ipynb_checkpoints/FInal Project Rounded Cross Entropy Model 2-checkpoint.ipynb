{
 "cells": [
  {
   "cell_type": "code",
   "execution_count": 1,
   "metadata": {},
   "outputs": [
    {
     "name": "stderr",
     "output_type": "stream",
     "text": [
      "Using TensorFlow backend.\n"
     ]
    }
   ],
   "source": [
    "import pandas as pd\n",
    "import seaborn as sns\n",
    "import os\n",
    "from os import listdir\n",
    "import sklearn\n",
    "from sklearn import preprocessing\n",
    "from sklearn.model_selection import train_test_split\n",
    "\n",
    "import keras\n",
    "from keras.preprocessing.image import ImageDataGenerator\n",
    "from keras.models import Sequential\n",
    "from keras.layers import Dense, Dropout, Activation, Flatten\n",
    "from keras.layers import Conv2D, MaxPooling2D\n",
    "from keras.preprocessing.image import load_img\n",
    "from keras.preprocessing.image import img_to_array\n",
    "\n",
    "import numpy as np\n",
    "\n",
    "import cv2\n",
    "\n",
    "from sklearn.metrics import classification_report\n",
    "from keras.models import load_model\n",
    "import matplotlib.pyplot as plt\n",
    "\n",
    "from keras.callbacks import CSVLogger"
   ]
  },
  {
   "cell_type": "markdown",
   "metadata": {},
   "source": [
    "Model 3 includes a deeper fully connect NN layer"
   ]
  },
  {
   "cell_type": "code",
   "execution_count": 2,
   "metadata": {},
   "outputs": [],
   "source": [
    "datasetAF = pd.read_csv(\"D:\\\\Dropbox\\\\utd\\\\cs courses\\\\cs 4375 machine learning\\\\assignments\\\\project\\\\rating csv data\\\\All_Ratings asian female csv.txt\",header = 0)"
   ]
  },
  {
   "cell_type": "code",
   "execution_count": 3,
   "metadata": {},
   "outputs": [],
   "source": [
    "avgPerFile = datasetAF['Rating'].groupby(datasetAF['Filename'],sort=False)"
   ]
  },
  {
   "cell_type": "code",
   "execution_count": 4,
   "metadata": {},
   "outputs": [],
   "source": [
    "averagePerFileMean = avgPerFile.mean()"
   ]
  },
  {
   "cell_type": "code",
   "execution_count": 5,
   "metadata": {},
   "outputs": [],
   "source": [
    "#creating new dataframe with columns Filename and Avg Rating\n",
    "preparedAFDataset = pd.DataFrame({'Filename':averagePerFileMean.index, 'Avg Rating':averagePerFileMean.values})"
   ]
  },
  {
   "cell_type": "code",
   "execution_count": 6,
   "metadata": {
    "scrolled": true
   },
   "outputs": [],
   "source": [
    "#rounding the Avg Rating column, still a float dtype\n",
    "preparedAFDataset[['Avg Rating']] = preparedAFDataset[['Avg Rating']].round()\n",
    "#now an int dtype\n",
    "preparedAFDataset[['Avg Rating']] = preparedAFDataset[['Avg Rating']].astype(int)"
   ]
  },
  {
   "cell_type": "markdown",
   "metadata": {},
   "source": [
    "Labels for all pictures are now one hot encoded"
   ]
  },
  {
   "cell_type": "code",
   "execution_count": 7,
   "metadata": {},
   "outputs": [],
   "source": [
    "lb = preprocessing.LabelBinarizer()\n",
    "labels = lb.fit_transform(preparedAFDataset[['Avg Rating']])"
   ]
  },
  {
   "cell_type": "markdown",
   "metadata": {},
   "source": [
    "Now creating an array of images"
   ]
  },
  {
   "cell_type": "code",
   "execution_count": 8,
   "metadata": {},
   "outputs": [],
   "source": [
    "#needed to join path because windows\n",
    "train_path = os.path.join('C:/', 'Users/alegAsus/Downloads/SCUT-FBP5500_v2.1/SCUT-FBP5500_v2/AF/AF/')\n",
    "images = []"
   ]
  },
  {
   "cell_type": "code",
   "execution_count": 9,
   "metadata": {},
   "outputs": [],
   "source": [
    "#adapted from https://www.quora.com/How-do-I-load-train-and-test-data-from-the-local-drive-for-a-deep-learning-Keras-model\n",
    "#listdir returns a list containing the names of the entries in the directory given by path.\n",
    "for sample in listdir(train_path):\n",
    "    img_path = train_path + sample #sample is every file in the train directory\n",
    "    x = cv2.imread(img_path) #loading file\n",
    "    x = cv2.resize(x, (96, 96))\n",
    "    # preprocessing if required\n",
    "    images.append(x) #adding to x_train array\n",
    "#scale all pixels to between 0 and 1\n",
    "imagesNumPy = np.array(images, dtype=\"float\") / 255.0"
   ]
  },
  {
   "cell_type": "code",
   "execution_count": 10,
   "metadata": {},
   "outputs": [],
   "source": [
    "(trainX, testX, trainY, testY) = train_test_split(imagesNumPy, labels,test_size=0.25, stratify=labels, random_state=42)"
   ]
  },
  {
   "cell_type": "code",
   "execution_count": 11,
   "metadata": {},
   "outputs": [
    {
     "name": "stdout",
     "output_type": "stream",
     "text": [
      "WARNING:tensorflow:From C:\\Users\\alegAsus\\Anaconda3\\lib\\site-packages\\tensorflow\\python\\framework\\op_def_library.py:263: colocate_with (from tensorflow.python.framework.ops) is deprecated and will be removed in a future version.\n",
      "Instructions for updating:\n",
      "Colocations handled automatically by placer.\n",
      "WARNING:tensorflow:From C:\\Users\\alegAsus\\Anaconda3\\lib\\site-packages\\keras\\backend\\tensorflow_backend.py:3445: calling dropout (from tensorflow.python.ops.nn_ops) with keep_prob is deprecated and will be removed in a future version.\n",
      "Instructions for updating:\n",
      "Please use `rate` instead of `keep_prob`. Rate should be set to `rate = 1 - keep_prob`.\n"
     ]
    }
   ],
   "source": [
    "#adapted from\n",
    "#https://github.com/neuropoly/spinalcordtoolbox/issues/2279\n",
    "#run this model with Dense(notDefinedVariable) to see functions in tensorflow that are to be depreciated\n",
    "model = Sequential()\n",
    "model.add(Conv2D(32, (3, 3), padding='same',\n",
    "                 input_shape=trainX.shape[1:]))\n",
    "model.add(Activation('relu'))\n",
    "model.add(Conv2D(32, (3, 3), padding='same'))\n",
    "model.add(Activation('relu'))\n",
    "model.add(MaxPooling2D(pool_size=(2, 2)))\n",
    "model.add(Dropout(0.25))\n",
    "\n",
    "model.add(Conv2D(64, (3, 3), padding='same'))\n",
    "model.add(Activation('relu'))\n",
    "model.add(Conv2D(64, (3, 3), padding='same'))\n",
    "model.add(Activation('relu'))\n",
    "model.add(MaxPooling2D(pool_size=(2, 2)))\n",
    "model.add(Dropout(0.25))\n",
    "\n",
    "model.add(Conv2D(128, (3, 3), padding='same'))\n",
    "model.add(Activation('relu'))\n",
    "model.add(Conv2D(128, (3, 3), padding='same'))\n",
    "model.add(Activation('relu'))\n",
    "model.add(MaxPooling2D(pool_size=(2, 2)))\n",
    "model.add(Dropout(0.25))\n",
    "\n",
    "model.add(Flatten())\n",
    "model.add(Dense(512))\n",
    "model.add(Activation('relu'))\n",
    "model.add(Dropout(0.5))\n",
    "model.add(Dense(128))\n",
    "model.add(Activation('relu'))\n",
    "model.add(Dropout(0.5))\n",
    "model.add(Dense(128))\n",
    "model.add(Activation('relu'))\n",
    "model.add(Dropout(0.4))\n",
    "#5 due to the 5 possible classifications\n",
    "model.add(Dense(5))\n",
    "model.add(Activation('softmax'))\n",
    "\n",
    "# initiate RMSprop optimizer\n",
    "opt = keras.optimizers.rmsprop(lr=0.0001)\n",
    "\n",
    "# Let's train the model using RMSprop\n",
    "model.compile(loss='categorical_crossentropy',\n",
    "              optimizer=opt,\n",
    "              metrics=['accuracy'])\n",
    "#warnings are due to tensorflow package code, not project implementation"
   ]
  },
  {
   "cell_type": "markdown",
   "metadata": {},
   "source": [
    "Training the model, also creating a History object to plot the progress of the model"
   ]
  },
  {
   "cell_type": "code",
   "execution_count": 12,
   "metadata": {},
   "outputs": [
    {
     "name": "stdout",
     "output_type": "stream",
     "text": [
      "WARNING:tensorflow:From C:\\Users\\alegAsus\\Anaconda3\\lib\\site-packages\\tensorflow\\python\\ops\\math_ops.py:3066: to_int32 (from tensorflow.python.ops.math_ops) is deprecated and will be removed in a future version.\n",
      "Instructions for updating:\n",
      "Use tf.cast instead.\n",
      "Train on 1500 samples, validate on 500 samples\n",
      "Epoch 1/22\n",
      "1500/1500 [==============================] - 39s 26ms/step - loss: 1.3651 - acc: 0.3527 - val_loss: 1.3489 - val_acc: 0.4520\n",
      "Epoch 2/22\n",
      "1500/1500 [==============================] - 39s 26ms/step - loss: 1.2837 - acc: 0.3680 - val_loss: 1.3240 - val_acc: 0.4520\n",
      "Epoch 3/22\n",
      "1500/1500 [==============================] - 38s 26ms/step - loss: 1.2535 - acc: 0.4060 - val_loss: 1.2820 - val_acc: 0.4520\n",
      "Epoch 4/22\n",
      "1500/1500 [==============================] - 38s 25ms/step - loss: 1.2358 - acc: 0.3753 - val_loss: 1.2696 - val_acc: 0.4520\n",
      "Epoch 5/22\n",
      "1500/1500 [==============================] - 38s 25ms/step - loss: 1.2252 - acc: 0.4000 - val_loss: 1.3658 - val_acc: 0.4520\n",
      "Epoch 6/22\n",
      "1500/1500 [==============================] - 38s 25ms/step - loss: 1.2171 - acc: 0.4087 - val_loss: 1.3436 - val_acc: 0.4520\n",
      "Epoch 7/22\n",
      "1500/1500 [==============================] - 38s 25ms/step - loss: 1.2125 - acc: 0.3947 - val_loss: 1.3061 - val_acc: 0.4520\n",
      "Epoch 8/22\n",
      "1500/1500 [==============================] - 39s 26ms/step - loss: 1.1920 - acc: 0.4300 - val_loss: 1.3091 - val_acc: 0.4520\n",
      "Epoch 9/22\n",
      "1500/1500 [==============================] - 40s 27ms/step - loss: 1.1893 - acc: 0.4073 - val_loss: 1.2984 - val_acc: 0.4520\n",
      "Epoch 10/22\n",
      "1500/1500 [==============================] - 38s 25ms/step - loss: 1.1955 - acc: 0.4087 - val_loss: 1.2716 - val_acc: 0.4520\n",
      "Epoch 11/22\n",
      "1500/1500 [==============================] - 38s 25ms/step - loss: 1.1856 - acc: 0.4333 - val_loss: 1.2884 - val_acc: 0.4520\n",
      "Epoch 12/22\n",
      "1500/1500 [==============================] - 38s 25ms/step - loss: 1.1770 - acc: 0.4147 - val_loss: 1.2867 - val_acc: 0.4520\n",
      "Epoch 13/22\n",
      "1500/1500 [==============================] - 38s 25ms/step - loss: 1.1789 - acc: 0.4100 - val_loss: 1.2312 - val_acc: 0.4520\n",
      "Epoch 14/22\n",
      "1500/1500 [==============================] - 38s 25ms/step - loss: 1.1648 - acc: 0.4460 - val_loss: 1.2525 - val_acc: 0.4520\n",
      "Epoch 15/22\n",
      "1500/1500 [==============================] - 38s 25ms/step - loss: 1.1676 - acc: 0.4140 - val_loss: 1.2643 - val_acc: 0.4520\n",
      "Epoch 16/22\n",
      "1500/1500 [==============================] - 38s 25ms/step - loss: 1.1623 - acc: 0.4313 - val_loss: 1.2257 - val_acc: 0.4520\n",
      "Epoch 17/22\n",
      "1500/1500 [==============================] - 38s 25ms/step - loss: 1.1606 - acc: 0.4280 - val_loss: 1.2227 - val_acc: 0.4520\n",
      "Epoch 18/22\n",
      "1500/1500 [==============================] - 38s 25ms/step - loss: 1.1483 - acc: 0.4327 - val_loss: 1.2235 - val_acc: 0.4520\n",
      "Epoch 19/22\n",
      "1500/1500 [==============================] - 38s 25ms/step - loss: 1.1550 - acc: 0.4260 - val_loss: 1.2289 - val_acc: 0.4520\n",
      "Epoch 20/22\n",
      "1500/1500 [==============================] - 38s 25ms/step - loss: 1.1501 - acc: 0.4387 - val_loss: 1.2125 - val_acc: 0.4520\n",
      "Epoch 21/22\n",
      "1500/1500 [==============================] - 38s 25ms/step - loss: 1.1499 - acc: 0.4520 - val_loss: 1.1972 - val_acc: 0.4520\n",
      "Epoch 22/22\n",
      "1500/1500 [==============================] - 38s 25ms/step - loss: 1.1477 - acc: 0.4280 - val_loss: 1.1687 - val_acc: 0.4520\n"
     ]
    }
   ],
   "source": [
    "csv_logger = CSVLogger(os.path.join('C:/', 'Users/alegAsus/Downloads/SCUT-FBP5500_v2.1/SCUT-FBP5500_v2/saved models/callbacks m3AF.log'), separator=',', append=False)\n",
    "modelHistory = model.fit(trainX, trainY,\n",
    "              batch_size=32,\n",
    "              epochs=22,\n",
    "              validation_data=(testX, testY),\n",
    "              shuffle=True, callbacks=[csv_logger])"
   ]
  },
  {
   "cell_type": "markdown",
   "metadata": {},
   "source": [
    "Saving the model"
   ]
  },
  {
   "cell_type": "code",
   "execution_count": 13,
   "metadata": {},
   "outputs": [
    {
     "name": "stdout",
     "output_type": "stream",
     "text": [
      "Saved trained model at C:/Users/alegAsus/Downloads/SCUT-FBP5500_v2.1/SCUT-FBP5500_v2/saved models/model3 AF.h5 \n"
     ]
    }
   ],
   "source": [
    "model_path = os.path.join('C:/', 'Users/alegAsus/Downloads/SCUT-FBP5500_v2.1/SCUT-FBP5500_v2/saved models/model3 AF.h5')\n",
    "model.save(model_path)\n",
    "print('Saved trained model at %s ' % model_path)"
   ]
  },
  {
   "cell_type": "markdown",
   "metadata": {},
   "source": [
    "Saving the history"
   ]
  },
  {
   "cell_type": "code",
   "execution_count": 15,
   "metadata": {},
   "outputs": [
    {
     "data": {
      "text/plain": [
       "<matplotlib.legend.Legend at 0x19735b74b00>"
      ]
     },
     "execution_count": 15,
     "metadata": {},
     "output_type": "execute_result"
    },
    {
     "data": {
      "image/png": "[encoded data removed]",
      "text/plain": [
       "<Figure size 432x288 with 1 Axes>"
      ]
     },
     "metadata": {},
     "output_type": "display_data"
    }
   ],
   "source": [
    "#N is the number of epochs\n",
    "#plot code from https://www.pyimagesearch.com/2018/12/31/keras-conv2d-and-convolutional-layers/\n",
    "N = 22\n",
    "plt.style.use(\"ggplot\")\n",
    "plt.figure()\n",
    "plt.plot(np.arange(0, N), modelHistory.history[\"loss\"], label=\"train_loss\")\n",
    "plt.plot(np.arange(0, N), modelHistory.history[\"val_loss\"], label=\"val_loss\")\n",
    "plt.plot(np.arange(0, N), modelHistory.history[\"acc\"], label=\"train_acc\")\n",
    "plt.plot(np.arange(0, N), modelHistory.history[\"val_acc\"], label=\"val_acc\")\n",
    "plt.title(\"Training Loss and Accuracy on Dataset\")\n",
    "plt.xlabel(\"Epoch #\")\n",
    "plt.ylabel(\"Loss/Accuracy\")\n",
    "plt.legend(loc=\"upper left\")"
   ]
  },
  {
   "cell_type": "code",
   "execution_count": 16,
   "metadata": {},
   "outputs": [
    {
     "data": {
      "text/html": [
       "<div>\n",
       "<style scoped>\n",
       "    .dataframe tbody tr th:only-of-type {\n",
       "        vertical-align: middle;\n",
       "    }\n",
       "\n",
       "    .dataframe tbody tr th {\n",
       "        vertical-align: top;\n",
       "    }\n",
       "\n",
       "    .dataframe thead th {\n",
       "        text-align: right;\n",
       "    }\n",
       "</style>\n",
       "<table border=\"1\" class=\"dataframe\">\n",
       "  <thead>\n",
       "    <tr style=\"text-align: right;\">\n",
       "      <th></th>\n",
       "      <th>epoch</th>\n",
       "      <th>acc</th>\n",
       "      <th>loss</th>\n",
       "      <th>val_acc</th>\n",
       "      <th>val_loss</th>\n",
       "    </tr>\n",
       "  </thead>\n",
       "  <tbody>\n",
       "    <tr>\n",
       "      <th>0</th>\n",
       "      <td>0</td>\n",
       "      <td>0.352667</td>\n",
       "      <td>1.365125</td>\n",
       "      <td>0.452</td>\n",
       "      <td>1.348866</td>\n",
       "    </tr>\n",
       "    <tr>\n",
       "      <th>1</th>\n",
       "      <td>1</td>\n",
       "      <td>0.368000</td>\n",
       "      <td>1.283730</td>\n",
       "      <td>0.452</td>\n",
       "      <td>1.324041</td>\n",
       "    </tr>\n",
       "    <tr>\n",
       "      <th>2</th>\n",
       "      <td>2</td>\n",
       "      <td>0.406000</td>\n",
       "      <td>1.253522</td>\n",
       "      <td>0.452</td>\n",
       "      <td>1.281957</td>\n",
       "    </tr>\n",
       "    <tr>\n",
       "      <th>3</th>\n",
       "      <td>3</td>\n",
       "      <td>0.375333</td>\n",
       "      <td>1.235820</td>\n",
       "      <td>0.452</td>\n",
       "      <td>1.269596</td>\n",
       "    </tr>\n",
       "    <tr>\n",
       "      <th>4</th>\n",
       "      <td>4</td>\n",
       "      <td>0.400000</td>\n",
       "      <td>1.225168</td>\n",
       "      <td>0.452</td>\n",
       "      <td>1.365808</td>\n",
       "    </tr>\n",
       "    <tr>\n",
       "      <th>5</th>\n",
       "      <td>5</td>\n",
       "      <td>0.408667</td>\n",
       "      <td>1.217059</td>\n",
       "      <td>0.452</td>\n",
       "      <td>1.343596</td>\n",
       "    </tr>\n",
       "    <tr>\n",
       "      <th>6</th>\n",
       "      <td>6</td>\n",
       "      <td>0.394667</td>\n",
       "      <td>1.212539</td>\n",
       "      <td>0.452</td>\n",
       "      <td>1.306120</td>\n",
       "    </tr>\n",
       "    <tr>\n",
       "      <th>7</th>\n",
       "      <td>7</td>\n",
       "      <td>0.430000</td>\n",
       "      <td>1.192047</td>\n",
       "      <td>0.452</td>\n",
       "      <td>1.309117</td>\n",
       "    </tr>\n",
       "    <tr>\n",
       "      <th>8</th>\n",
       "      <td>8</td>\n",
       "      <td>0.407333</td>\n",
       "      <td>1.189256</td>\n",
       "      <td>0.452</td>\n",
       "      <td>1.298356</td>\n",
       "    </tr>\n",
       "    <tr>\n",
       "      <th>9</th>\n",
       "      <td>9</td>\n",
       "      <td>0.408667</td>\n",
       "      <td>1.195529</td>\n",
       "      <td>0.452</td>\n",
       "      <td>1.271554</td>\n",
       "    </tr>\n",
       "  </tbody>\n",
       "</table>\n",
       "</div>"
      ],
      "text/plain": [
       "   epoch       acc      loss  val_acc  val_loss\n",
       "0      0  0.352667  1.365125    0.452  1.348866\n",
       "1      1  0.368000  1.283730    0.452  1.324041\n",
       "2      2  0.406000  1.253522    0.452  1.281957\n",
       "3      3  0.375333  1.235820    0.452  1.269596\n",
       "4      4  0.400000  1.225168    0.452  1.365808\n",
       "5      5  0.408667  1.217059    0.452  1.343596\n",
       "6      6  0.394667  1.212539    0.452  1.306120\n",
       "7      7  0.430000  1.192047    0.452  1.309117\n",
       "8      8  0.407333  1.189256    0.452  1.298356\n",
       "9      9  0.408667  1.195529    0.452  1.271554"
      ]
     },
     "execution_count": 16,
     "metadata": {},
     "output_type": "execute_result"
    }
   ],
   "source": [
    "#plot code from https://www.pyimagesearch.com/2018/12/31/keras-conv2d-and-convolutional-layers/\n",
    "#Reading in exported csv file for finer manipulation in graphing\n",
    "historyDF = pd.read_csv(\"C:\\\\Users\\\\alegAsus\\\\Downloads\\\\SCUT-FBP5500_v2.1\\\\SCUT-FBP5500_v2\\\\saved models\\\\callbacks m3AF.log\",header = 0)\n",
    "historyDF.head(10)"
   ]
  },
  {
   "cell_type": "code",
   "execution_count": 17,
   "metadata": {},
   "outputs": [
    {
     "data": {
      "text/plain": [
       "<matplotlib.legend.Legend at 0x19735c00d30>"
      ]
     },
     "execution_count": 17,
     "metadata": {},
     "output_type": "execute_result"
    },
    {
     "data": {
      "image/png": "[encoded data removed]",
      "text/plain": [
       "<Figure size 432x288 with 1 Axes>"
      ]
     },
     "metadata": {},
     "output_type": "display_data"
    }
   ],
   "source": [
    "#N is the number of epochs\n",
    "N = 22\n",
    "plt.style.use(\"ggplot\")\n",
    "plt.figure()\n",
    "plt.plot(np.arange(0, N), historyDF.iloc[0:N, 1], label=\"train_acc\")\n",
    "plt.plot(np.arange(0, N), historyDF.iloc[0:N, 3], label=\"val_acc\")\n",
    "plt.title(\"Training Loss and Accuracy on Dataset\")\n",
    "plt.xlabel(\"Epoch #\")\n",
    "plt.ylabel(\"Loss/Accuracy\")\n",
    "plt.legend(loc=\"lower left\")"
   ]
  },
  {
   "cell_type": "markdown",
   "metadata": {},
   "source": [
    "As we can see in the plot above, the model begins to overfit past epoch 20, with the trainning accuracy continuing\n",
    "to increase and thhe validation accuracy gradually decreasing."
   ]
  },
  {
   "cell_type": "markdown",
   "metadata": {},
   "source": [
    "Sum of cross entropy can be used to compare next models\n",
    "#need to find point where train_acc > val_acc then sum cross entropy at that point."
   ]
  },
  {
   "cell_type": "code",
   "execution_count": null,
   "metadata": {},
   "outputs": [],
   "source": []
  }
 ],
 "metadata": {
  "kernelspec": {
   "display_name": "Python 3",
   "language": "python",
   "name": "python3"
  },
  "language_info": {
   "codemirror_mode": {
    "name": "ipython",
    "version": 3
   },
   "file_extension": ".py",
   "mimetype": "text/x-python",
   "name": "python",
   "nbconvert_exporter": "python",
   "pygments_lexer": "ipython3",
   "version": "3.7.3"
  }
 },
 "nbformat": 4,
 "nbformat_minor": 2
}
