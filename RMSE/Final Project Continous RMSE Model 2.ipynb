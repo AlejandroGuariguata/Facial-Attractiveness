{
 "cells": [
  {
   "cell_type": "code",
   "execution_count": 1,
   "metadata": {},
   "outputs": [
    {
     "name": "stderr",
     "output_type": "stream",
     "text": [
      "Using TensorFlow backend.\n"
     ]
    }
   ],
   "source": [
    "import pandas as pd\n",
    "import seaborn as sns\n",
    "import os\n",
    "from os import listdir\n",
    "import sklearn\n",
    "from sklearn import preprocessing\n",
    "from sklearn.model_selection import train_test_split\n",
    "\n",
    "import keras\n",
    "from keras.preprocessing.image import ImageDataGenerator\n",
    "from keras.models import Sequential\n",
    "from keras.layers import Dense, Dropout, Activation, Flatten\n",
    "from keras.layers import Conv2D, MaxPooling2D\n",
    "from keras.preprocessing.image import load_img\n",
    "from keras.preprocessing.image import img_to_array\n",
    "\n",
    "import numpy as np\n",
    "\n",
    "import cv2\n",
    "\n",
    "from sklearn.metrics import classification_report\n",
    "from keras.models import load_model\n",
    "import matplotlib.pyplot as plt\n",
    "\n",
    "from keras.callbacks import CSVLogger\n",
    "from keras import metrics\n",
    "from keras import backend as K\n",
    "from keras.layers.normalization import BatchNormalization"
   ]
  },
  {
   "cell_type": "markdown",
   "metadata": {},
   "source": [
    "Deeper fully connected NN after CNN layers"
   ]
  },
  {
   "cell_type": "code",
   "execution_count": 2,
   "metadata": {
    "scrolled": true
   },
   "outputs": [
    {
     "data": {
      "text/plain": [
       "0       2.333333\n",
       "1       3.950000\n",
       "2       3.183333\n",
       "3       2.683333\n",
       "4       2.000000\n",
       "5       1.566667\n",
       "6       2.566667\n",
       "7       2.750000\n",
       "8       2.150000\n",
       "9       3.433333\n",
       "10      2.316667\n",
       "11      2.083333\n",
       "12      3.350000\n",
       "13      1.716667\n",
       "14      2.800000\n",
       "15      2.100000\n",
       "16      2.933333\n",
       "17      2.566667\n",
       "18      3.033333\n",
       "19      2.733333\n",
       "20      2.516667\n",
       "21      2.416667\n",
       "22      3.300000\n",
       "23      2.433333\n",
       "24      1.766667\n",
       "25      2.250000\n",
       "26      2.666667\n",
       "27      2.266667\n",
       "28      3.050000\n",
       "29      3.100000\n",
       "          ...   \n",
       "1970    1.933333\n",
       "1971    4.083333\n",
       "1972    4.750000\n",
       "1973    2.650000\n",
       "1974    2.116667\n",
       "1975    1.083333\n",
       "1976    4.450000\n",
       "1977    3.916667\n",
       "1978    2.566667\n",
       "1979    3.533333\n",
       "1980    3.766667\n",
       "1981    3.266667\n",
       "1982    3.883333\n",
       "1983    2.333333\n",
       "1984    4.183333\n",
       "1985    1.016667\n",
       "1986    1.800000\n",
       "1987    1.966667\n",
       "1988    3.500000\n",
       "1989    4.166667\n",
       "1990    2.016667\n",
       "1991    3.833333\n",
       "1992    3.900000\n",
       "1993    2.683333\n",
       "1994    1.316667\n",
       "1995    1.600000\n",
       "1996    1.433333\n",
       "1997    2.733333\n",
       "1998    2.733333\n",
       "1999    3.550000\n",
       "Name: Avg Rating, Length: 2000, dtype: float64"
      ]
     },
     "execution_count": 2,
     "metadata": {},
     "output_type": "execute_result"
    }
   ],
   "source": [
    "datasetAF = pd.read_csv(\"D:\\\\Dropbox\\\\utd\\\\cs courses\\\\cs 4375 machine learning\\\\assignments\\\\project\\\\rating csv data\\\\All_Ratings asian female csv.txt\",header = 0)\n",
    "avgPerFile = datasetAF['Rating'].groupby(datasetAF['Filename'],sort=False)\n",
    "averagePerFileMean = avgPerFile.mean()\n",
    "preparedAFDataset = pd.DataFrame({'Filename':averagePerFileMean.index, 'Avg Rating':averagePerFileMean.values})\n",
    "labels = preparedAFDataset['Avg Rating']\n",
    "labels"
   ]
  },
  {
   "cell_type": "code",
   "execution_count": 3,
   "metadata": {},
   "outputs": [],
   "source": [
    "#needed to join path because windows\n",
    "train_path = os.path.join('C:/', 'Users/alegAsus/Downloads/SCUT-FBP5500_v2.1/SCUT-FBP5500_v2/AF/AF/')\n",
    "images = []\n",
    "#adapted from https://www.quora.com/How-do-I-load-train-and-test-data-from-the-local-drive-for-a-deep-learning-Keras-model\n",
    "#listdir returns a list containing the names of the entries in the directory given by path.\n",
    "for sample in listdir(train_path):\n",
    "    img_path = train_path + sample #sample is every file in the train directory\n",
    "    x = cv2.imread(img_path) #loading file\n",
    "    x = cv2.resize(x, (96, 96))\n",
    "    # preprocessing if required\n",
    "    images.append(x) #adding to x_train array\n",
    "#scale all pixels to between 0 and 1\n",
    "imagesNumPy = np.array(images, dtype=\"float\") / 255.0\n"
   ]
  },
  {
   "cell_type": "code",
   "execution_count": 4,
   "metadata": {},
   "outputs": [],
   "source": [
    "(trainX, testX, trainY, testY) = train_test_split(imagesNumPy, labels,test_size=0.25, random_state=42)"
   ]
  },
  {
   "cell_type": "code",
   "execution_count": 5,
   "metadata": {},
   "outputs": [
    {
     "name": "stdout",
     "output_type": "stream",
     "text": [
      "WARNING:tensorflow:From C:\\Users\\alegAsus\\Anaconda3\\lib\\site-packages\\tensorflow\\python\\framework\\op_def_library.py:263: colocate_with (from tensorflow.python.framework.ops) is deprecated and will be removed in a future version.\n",
      "Instructions for updating:\n",
      "Colocations handled automatically by placer.\n",
      "WARNING:tensorflow:From C:\\Users\\alegAsus\\Anaconda3\\lib\\site-packages\\keras\\backend\\tensorflow_backend.py:3445: calling dropout (from tensorflow.python.ops.nn_ops) with keep_prob is deprecated and will be removed in a future version.\n",
      "Instructions for updating:\n",
      "Please use `rate` instead of `keep_prob`. Rate should be set to `rate = 1 - keep_prob`.\n"
     ]
    }
   ],
   "source": [
    "#adapted from\n",
    "#https://github.com/neuropoly/spinalcordtoolbox/issues/2279\n",
    "#run this model with Dense(notDefinedVariable) to see functions in tensorflow that are to be depreciated\n",
    "model = Sequential()\n",
    "model.add(Conv2D(32, (3, 3), padding='same',\n",
    "                 input_shape=trainX.shape[1:]))\n",
    "model.add(Activation('relu'))\n",
    "model.add(BatchNormalization(axis=3))\n",
    "model.add(Conv2D(32, (3, 3), padding='same'))\n",
    "model.add(Activation('relu'))\n",
    "model.add(BatchNormalization(axis=3))\n",
    "model.add(MaxPooling2D(pool_size=(2, 2)))\n",
    "model.add(Dropout(0.25))\n",
    "\n",
    "model.add(Conv2D(64, (3, 3), padding='same'))\n",
    "model.add(Activation('relu'))\n",
    "model.add(BatchNormalization(axis=3))\n",
    "model.add(Conv2D(64, (3, 3), padding='same'))\n",
    "model.add(Activation('relu'))\n",
    "model.add(BatchNormalization(axis=3))\n",
    "model.add(MaxPooling2D(pool_size=(2, 2)))\n",
    "model.add(Dropout(0.25))\n",
    "\n",
    "model.add(Conv2D(128, (3, 3), padding='same'))\n",
    "model.add(Activation('relu'))\n",
    "model.add(BatchNormalization(axis=3))\n",
    "model.add(Conv2D(128, (3, 3), padding='same'))\n",
    "model.add(Activation('relu'))\n",
    "model.add(BatchNormalization(axis=3))\n",
    "model.add(MaxPooling2D(pool_size=(2, 2)))\n",
    "model.add(Dropout(0.25))\n",
    "\n",
    "model.add(Flatten())\n",
    "model.add(Dense(512))\n",
    "model.add(Activation('relu'))\n",
    "model.add(Dropout(0.3))\n",
    "model.add(Dense(128))\n",
    "model.add(Activation('relu'))\n",
    "model.add(Dropout(0.2))\n",
    "model.add(Dense(128))\n",
    "model.add(Activation('relu'))\n",
    "model.add(Dropout(0.2))\n",
    "#1 because it outputs only one rating\n",
    "model.add(Dense(1))\n",
    "\n",
    "# initiate RMSprop optimizer\n",
    "opt = keras.optimizers.rmsprop(lr=0.0001)\n",
    "\n",
    "def root_mean_squared_error(y_true, y_pred):\n",
    "        return K.sqrt(K.mean(K.square(y_pred - y_true))) \n",
    "\n",
    "# Let's train the model using RMSprop\n",
    "model.compile(loss=root_mean_squared_error,\n",
    "              optimizer=opt,\n",
    "              metrics=[metrics.mae])"
   ]
  },
  {
   "cell_type": "code",
   "execution_count": 6,
   "metadata": {},
   "outputs": [
    {
     "name": "stdout",
     "output_type": "stream",
     "text": [
      "Train on 1500 samples, validate on 500 samples\n",
      "Epoch 1/30\n",
      "1500/1500 [==============================] - 70s 46ms/step - loss: 2.0504 - mean_absolute_error: 1.6775 - val_loss: 1.8651 - val_mean_absolute_error: 1.7067\n",
      "Epoch 2/30\n",
      "1500/1500 [==============================] - 65s 43ms/step - loss: 1.4342 - mean_absolute_error: 1.1489 - val_loss: 1.6152 - val_mean_absolute_error: 1.4425\n",
      "Epoch 3/30\n",
      "1500/1500 [==============================] - 65s 43ms/step - loss: 1.2738 - mean_absolute_error: 1.0328 - val_loss: 1.2483 - val_mean_absolute_error: 1.0573\n",
      "Epoch 4/30\n",
      "1500/1500 [==============================] - 65s 43ms/step - loss: 1.1813 - mean_absolute_error: 0.9620 - val_loss: 1.1911 - val_mean_absolute_error: 1.0006\n",
      "Epoch 5/30\n",
      "1500/1500 [==============================] - 65s 43ms/step - loss: 1.1145 - mean_absolute_error: 0.8961 - val_loss: 1.3409 - val_mean_absolute_error: 1.1594\n",
      "Epoch 6/30\n",
      "1500/1500 [==============================] - 65s 43ms/step - loss: 1.0993 - mean_absolute_error: 0.8889 - val_loss: 1.4404 - val_mean_absolute_error: 1.2560\n",
      "Epoch 7/30\n",
      "1500/1500 [==============================] - 65s 43ms/step - loss: 1.0018 - mean_absolute_error: 0.8104 - val_loss: 1.3892 - val_mean_absolute_error: 1.2045\n",
      "Epoch 8/30\n",
      "1500/1500 [==============================] - 65s 43ms/step - loss: 1.0069 - mean_absolute_error: 0.8128 - val_loss: 1.1493 - val_mean_absolute_error: 0.9626\n",
      "Epoch 9/30\n",
      "1500/1500 [==============================] - 65s 43ms/step - loss: 0.9989 - mean_absolute_error: 0.8018 - val_loss: 1.2686 - val_mean_absolute_error: 1.0847\n",
      "Epoch 10/30\n",
      "1500/1500 [==============================] - 64s 43ms/step - loss: 0.9738 - mean_absolute_error: 0.7809 - val_loss: 1.2040 - val_mean_absolute_error: 1.0227\n",
      "Epoch 11/30\n",
      "1500/1500 [==============================] - 65s 43ms/step - loss: 0.9520 - mean_absolute_error: 0.7778 - val_loss: 1.4855 - val_mean_absolute_error: 1.3245\n",
      "Epoch 12/30\n",
      "1500/1500 [==============================] - 64s 43ms/step - loss: 0.9492 - mean_absolute_error: 0.7667 - val_loss: 1.4437 - val_mean_absolute_error: 1.2651\n",
      "Epoch 13/30\n",
      "1500/1500 [==============================] - 65s 43ms/step - loss: 0.9271 - mean_absolute_error: 0.7422 - val_loss: 1.4028 - val_mean_absolute_error: 1.2230\n",
      "Epoch 14/30\n",
      "1500/1500 [==============================] - 64s 43ms/step - loss: 0.9449 - mean_absolute_error: 0.7642 - val_loss: 1.5600 - val_mean_absolute_error: 1.3890\n",
      "Epoch 15/30\n",
      "1500/1500 [==============================] - 65s 43ms/step - loss: 0.8779 - mean_absolute_error: 0.7129 - val_loss: 1.3265 - val_mean_absolute_error: 1.1532\n",
      "Epoch 16/30\n",
      "1500/1500 [==============================] - 65s 43ms/step - loss: 0.9105 - mean_absolute_error: 0.7349 - val_loss: 1.4156 - val_mean_absolute_error: 1.2457\n",
      "Epoch 17/30\n",
      "1500/1500 [==============================] - 65s 43ms/step - loss: 0.8701 - mean_absolute_error: 0.7088 - val_loss: 1.4016 - val_mean_absolute_error: 1.2219\n",
      "Epoch 18/30\n",
      "1500/1500 [==============================] - 65s 43ms/step - loss: 0.8838 - mean_absolute_error: 0.7172 - val_loss: 1.5408 - val_mean_absolute_error: 1.3775\n",
      "Epoch 19/30\n",
      "1500/1500 [==============================] - 64s 43ms/step - loss: 0.8735 - mean_absolute_error: 0.7040 - val_loss: 1.5062 - val_mean_absolute_error: 1.3340\n",
      "Epoch 20/30\n",
      "1500/1500 [==============================] - 65s 43ms/step - loss: 0.8462 - mean_absolute_error: 0.6818 - val_loss: 1.5278 - val_mean_absolute_error: 1.3640\n",
      "Epoch 21/30\n",
      "1500/1500 [==============================] - 65s 43ms/step - loss: 0.8716 - mean_absolute_error: 0.6991 - val_loss: 1.4702 - val_mean_absolute_error: 1.3040\n",
      "Epoch 22/30\n",
      "1500/1500 [==============================] - 65s 43ms/step - loss: 0.8471 - mean_absolute_error: 0.6922 - val_loss: 1.5099 - val_mean_absolute_error: 1.3456\n",
      "Epoch 23/30\n",
      "1500/1500 [==============================] - 65s 43ms/step - loss: 0.8394 - mean_absolute_error: 0.6792 - val_loss: 1.4991 - val_mean_absolute_error: 1.3290\n",
      "Epoch 24/30\n",
      "1500/1500 [==============================] - 65s 43ms/step - loss: 0.8403 - mean_absolute_error: 0.6824 - val_loss: 1.2977 - val_mean_absolute_error: 1.1269\n",
      "Epoch 25/30\n",
      "1500/1500 [==============================] - 65s 43ms/step - loss: 0.8318 - mean_absolute_error: 0.6722 - val_loss: 1.2926 - val_mean_absolute_error: 1.1211\n",
      "Epoch 26/30\n",
      "1500/1500 [==============================] - 65s 43ms/step - loss: 0.8213 - mean_absolute_error: 0.6610 - val_loss: 1.2259 - val_mean_absolute_error: 1.0460\n",
      "Epoch 27/30\n",
      "1500/1500 [==============================] - 65s 43ms/step - loss: 0.8459 - mean_absolute_error: 0.6843 - val_loss: 1.2840 - val_mean_absolute_error: 1.1042\n",
      "Epoch 28/30\n",
      "1500/1500 [==============================] - 65s 43ms/step - loss: 0.8133 - mean_absolute_error: 0.6554 - val_loss: 1.5120 - val_mean_absolute_error: 1.3501\n",
      "Epoch 29/30\n",
      "1500/1500 [==============================] - 65s 43ms/step - loss: 0.8034 - mean_absolute_error: 0.6455 - val_loss: 1.3467 - val_mean_absolute_error: 1.1684\n",
      "Epoch 30/30\n",
      "1500/1500 [==============================] - 65s 43ms/step - loss: 0.7913 - mean_absolute_error: 0.6378 - val_loss: 1.4191 - val_mean_absolute_error: 1.2483\n"
     ]
    }
   ],
   "source": [
    "csv_logger = CSVLogger(os.path.join('C:/', 'Users/alegAsus/Downloads/SCUT-FBP5500_v2.1/SCUT-FBP5500_v2/saved models/continous MAE/callbacks m2AF.log'), separator=',', append=False)\n",
    "modelHistory = model.fit(trainX, trainY,\n",
    "              batch_size=32,\n",
    "              epochs=30,\n",
    "              validation_data=(testX, testY),\n",
    "              shuffle=True, callbacks=[csv_logger])"
   ]
  },
  {
   "cell_type": "code",
   "execution_count": 8,
   "metadata": {},
   "outputs": [
    {
     "name": "stdout",
     "output_type": "stream",
     "text": [
      "Saved trained model at C:/Users/alegAsus/Downloads/SCUT-FBP5500_v2.1/SCUT-FBP5500_v2/saved models/continous MAE/model2 AF.h5 \n"
     ]
    }
   ],
   "source": [
    "model_path = os.path.join('C:/', 'Users/alegAsus/Downloads/SCUT-FBP5500_v2.1/SCUT-FBP5500_v2/saved models/continous MAE/model2 AF.h5')\n",
    "model.save(model_path)\n",
    "print('Saved trained model at %s ' % model_path)"
   ]
  },
  {
   "cell_type": "code",
   "execution_count": 9,
   "metadata": {},
   "outputs": [
    {
     "data": {
      "text/plain": [
       "{'val_loss': [1.865106481552124,\n",
       "  1.615211431503296,\n",
       "  1.2483036680221558,\n",
       "  1.1910609378814698,\n",
       "  1.3409343671798706,\n",
       "  1.4403851737976074,\n",
       "  1.3892343759536743,\n",
       "  1.1492645339965821,\n",
       "  1.2686244592666627,\n",
       "  1.2040052909851073,\n",
       "  1.4854756526947022,\n",
       "  1.4437003984451293,\n",
       "  1.4028323650360108,\n",
       "  1.5600385913848878,\n",
       "  1.3265429229736327,\n",
       "  1.4156368293762207,\n",
       "  1.4016493005752564,\n",
       "  1.540762140274048,\n",
       "  1.506212495803833,\n",
       "  1.5278450384140014,\n",
       "  1.4702295923233033,\n",
       "  1.509856469154358,\n",
       "  1.4990874385833741,\n",
       "  1.297673656463623,\n",
       "  1.292553780555725,\n",
       "  1.225890048980713,\n",
       "  1.2840076742172242,\n",
       "  1.5119576396942138,\n",
       "  1.346745810508728,\n",
       "  1.419057014465332],\n",
       " 'val_mean_absolute_error': [1.7067060623168946,\n",
       "  1.442466010093689,\n",
       "  1.057309112548828,\n",
       "  1.0005866680145263,\n",
       "  1.1594204540252686,\n",
       "  1.2560303354263305,\n",
       "  1.2045156040191651,\n",
       "  0.9625840129852294,\n",
       "  1.084724917411804,\n",
       "  1.022655508041382,\n",
       "  1.324480354309082,\n",
       "  1.2650772037506104,\n",
       "  1.2229885702133179,\n",
       "  1.3889638862609863,\n",
       "  1.1531758489608765,\n",
       "  1.2456593952178956,\n",
       "  1.2219371290206908,\n",
       "  1.3774853115081787,\n",
       "  1.3340387926101684,\n",
       "  1.363951717376709,\n",
       "  1.3039555759429933,\n",
       "  1.3455824604034423,\n",
       "  1.3289744787216187,\n",
       "  1.1269422569274903,\n",
       "  1.1210866060256959,\n",
       "  1.0459623584747315,\n",
       "  1.104245798110962,\n",
       "  1.3500563716888427,\n",
       "  1.1683823328018188,\n",
       "  1.2483169393539428],\n",
       " 'loss': [2.050427912712097,\n",
       "  1.434212270418803,\n",
       "  1.2738088340759277,\n",
       "  1.181322460492452,\n",
       "  1.1145078570048015,\n",
       "  1.099295433362325,\n",
       "  1.0018006550470988,\n",
       "  1.0069113222757975,\n",
       "  0.9988612799644471,\n",
       "  0.973848895072937,\n",
       "  0.9519768815040588,\n",
       "  0.9492424046198527,\n",
       "  0.9271440138816833,\n",
       "  0.9449037259419759,\n",
       "  0.8779240061442057,\n",
       "  0.9105261634190878,\n",
       "  0.8701016500790913,\n",
       "  0.8837660597165425,\n",
       "  0.8734912478129069,\n",
       "  0.8462189787228902,\n",
       "  0.871583992322286,\n",
       "  0.8471231447855632,\n",
       "  0.8393966727256775,\n",
       "  0.8402505111694336,\n",
       "  0.8318346910476685,\n",
       "  0.8213487354914347,\n",
       "  0.8459375863075256,\n",
       "  0.813312081972758,\n",
       "  0.8034294832547506,\n",
       "  0.791283392906189],\n",
       " 'mean_absolute_error': [1.6774972302118938,\n",
       "  1.148870585123698,\n",
       "  1.0327990112304688,\n",
       "  0.9619961590766907,\n",
       "  0.8961231184005737,\n",
       "  0.888886565208435,\n",
       "  0.8103566082318624,\n",
       "  0.812782026608785,\n",
       "  0.8017529573440552,\n",
       "  0.7809024047851563,\n",
       "  0.7778428638776144,\n",
       "  0.766669102827708,\n",
       "  0.7422205440203349,\n",
       "  0.764152761777242,\n",
       "  0.712851174513499,\n",
       "  0.7348742459615072,\n",
       "  0.7088410978317261,\n",
       "  0.7172432815233867,\n",
       "  0.7039529776573181,\n",
       "  0.6818031217257182,\n",
       "  0.699054016272227,\n",
       "  0.6922248069445293,\n",
       "  0.6791618990898133,\n",
       "  0.6824056038856506,\n",
       "  0.6721614249547323,\n",
       "  0.6610084172884623,\n",
       "  0.6843217673301697,\n",
       "  0.6553697924613953,\n",
       "  0.6455270171165466,\n",
       "  0.6377599770228068]}"
      ]
     },
     "execution_count": 9,
     "metadata": {},
     "output_type": "execute_result"
    }
   ],
   "source": [
    "modelHistory.history"
   ]
  },
  {
   "cell_type": "code",
   "execution_count": 10,
   "metadata": {},
   "outputs": [
    {
     "data": {
      "text/plain": [
       "<matplotlib.legend.Legend at 0x2689546deb8>"
      ]
     },
     "execution_count": 10,
     "metadata": {},
     "output_type": "execute_result"
    },
    {
     "data": {
      "image/png": "[encoded data removed]",
      "text/plain": [
       "<Figure size 432x288 with 1 Axes>"
      ]
     },
     "metadata": {},
     "output_type": "display_data"
    }
   ],
   "source": [
    "#N is the number of epochs\n",
    "#plot code from https://www.pyimagesearch.com/2018/12/31/keras-conv2d-and-convolutional-layers/\n",
    "N = 30\n",
    "plt.style.use(\"ggplot\")\n",
    "plt.figure()\n",
    "plt.plot(np.arange(0, N), modelHistory.history[\"loss\"], label=\"train_loss\")\n",
    "plt.plot(np.arange(0, N), modelHistory.history[\"val_loss\"], label=\"val_loss\")\n",
    "plt.plot(np.arange(0, N), modelHistory.history[\"mean_absolute_error\"], label=\"train MAE\")\n",
    "plt.plot(np.arange(0, N), modelHistory.history[\"val_mean_absolute_error\"], label=\"val MAE\")\n",
    "plt.title(\"Training Loss and Accuracy on Dataset\")\n",
    "plt.xlabel(\"Epoch #\")\n",
    "plt.ylabel(\"Loss/Accuracy\")\n",
    "plt.legend(loc=\"upper right\")"
   ]
  },
  {
   "cell_type": "code",
   "execution_count": 12,
   "metadata": {},
   "outputs": [
    {
     "data": {
      "text/html": [
       "<div>\n",
       "<style scoped>\n",
       "    .dataframe tbody tr th:only-of-type {\n",
       "        vertical-align: middle;\n",
       "    }\n",
       "\n",
       "    .dataframe tbody tr th {\n",
       "        vertical-align: top;\n",
       "    }\n",
       "\n",
       "    .dataframe thead th {\n",
       "        text-align: right;\n",
       "    }\n",
       "</style>\n",
       "<table border=\"1\" class=\"dataframe\">\n",
       "  <thead>\n",
       "    <tr style=\"text-align: right;\">\n",
       "      <th></th>\n",
       "      <th>epoch</th>\n",
       "      <th>loss</th>\n",
       "      <th>mean_absolute_error</th>\n",
       "      <th>val_loss</th>\n",
       "      <th>val_mean_absolute_error</th>\n",
       "    </tr>\n",
       "  </thead>\n",
       "  <tbody>\n",
       "    <tr>\n",
       "      <th>0</th>\n",
       "      <td>0</td>\n",
       "      <td>2.050428</td>\n",
       "      <td>1.677497</td>\n",
       "      <td>1.865106</td>\n",
       "      <td>1.706706</td>\n",
       "    </tr>\n",
       "    <tr>\n",
       "      <th>1</th>\n",
       "      <td>1</td>\n",
       "      <td>1.434212</td>\n",
       "      <td>1.148871</td>\n",
       "      <td>1.615211</td>\n",
       "      <td>1.442466</td>\n",
       "    </tr>\n",
       "    <tr>\n",
       "      <th>2</th>\n",
       "      <td>2</td>\n",
       "      <td>1.273809</td>\n",
       "      <td>1.032799</td>\n",
       "      <td>1.248304</td>\n",
       "      <td>1.057309</td>\n",
       "    </tr>\n",
       "    <tr>\n",
       "      <th>3</th>\n",
       "      <td>3</td>\n",
       "      <td>1.181322</td>\n",
       "      <td>0.961996</td>\n",
       "      <td>1.191061</td>\n",
       "      <td>1.000587</td>\n",
       "    </tr>\n",
       "    <tr>\n",
       "      <th>4</th>\n",
       "      <td>4</td>\n",
       "      <td>1.114508</td>\n",
       "      <td>0.896123</td>\n",
       "      <td>1.340934</td>\n",
       "      <td>1.159420</td>\n",
       "    </tr>\n",
       "    <tr>\n",
       "      <th>5</th>\n",
       "      <td>5</td>\n",
       "      <td>1.099295</td>\n",
       "      <td>0.888887</td>\n",
       "      <td>1.440385</td>\n",
       "      <td>1.256030</td>\n",
       "    </tr>\n",
       "    <tr>\n",
       "      <th>6</th>\n",
       "      <td>6</td>\n",
       "      <td>1.001801</td>\n",
       "      <td>0.810357</td>\n",
       "      <td>1.389234</td>\n",
       "      <td>1.204516</td>\n",
       "    </tr>\n",
       "    <tr>\n",
       "      <th>7</th>\n",
       "      <td>7</td>\n",
       "      <td>1.006911</td>\n",
       "      <td>0.812782</td>\n",
       "      <td>1.149265</td>\n",
       "      <td>0.962584</td>\n",
       "    </tr>\n",
       "    <tr>\n",
       "      <th>8</th>\n",
       "      <td>8</td>\n",
       "      <td>0.998861</td>\n",
       "      <td>0.801753</td>\n",
       "      <td>1.268624</td>\n",
       "      <td>1.084725</td>\n",
       "    </tr>\n",
       "    <tr>\n",
       "      <th>9</th>\n",
       "      <td>9</td>\n",
       "      <td>0.973849</td>\n",
       "      <td>0.780902</td>\n",
       "      <td>1.204005</td>\n",
       "      <td>1.022656</td>\n",
       "    </tr>\n",
       "    <tr>\n",
       "      <th>10</th>\n",
       "      <td>10</td>\n",
       "      <td>0.951977</td>\n",
       "      <td>0.777843</td>\n",
       "      <td>1.485476</td>\n",
       "      <td>1.324480</td>\n",
       "    </tr>\n",
       "    <tr>\n",
       "      <th>11</th>\n",
       "      <td>11</td>\n",
       "      <td>0.949242</td>\n",
       "      <td>0.766669</td>\n",
       "      <td>1.443700</td>\n",
       "      <td>1.265077</td>\n",
       "    </tr>\n",
       "  </tbody>\n",
       "</table>\n",
       "</div>"
      ],
      "text/plain": [
       "    epoch      loss  mean_absolute_error  val_loss  val_mean_absolute_error\n",
       "0       0  2.050428             1.677497  1.865106                 1.706706\n",
       "1       1  1.434212             1.148871  1.615211                 1.442466\n",
       "2       2  1.273809             1.032799  1.248304                 1.057309\n",
       "3       3  1.181322             0.961996  1.191061                 1.000587\n",
       "4       4  1.114508             0.896123  1.340934                 1.159420\n",
       "5       5  1.099295             0.888887  1.440385                 1.256030\n",
       "6       6  1.001801             0.810357  1.389234                 1.204516\n",
       "7       7  1.006911             0.812782  1.149265                 0.962584\n",
       "8       8  0.998861             0.801753  1.268624                 1.084725\n",
       "9       9  0.973849             0.780902  1.204005                 1.022656\n",
       "10     10  0.951977             0.777843  1.485476                 1.324480\n",
       "11     11  0.949242             0.766669  1.443700                 1.265077"
      ]
     },
     "execution_count": 12,
     "metadata": {},
     "output_type": "execute_result"
    }
   ],
   "source": [
    "historyDF = pd.read_csv(\"C:\\\\Users\\\\alegAsus\\\\Downloads\\\\SCUT-FBP5500_v2.1\\\\SCUT-FBP5500_v2\\\\saved models\\\\continous MAE\\\\callbacks m2AF.log\",header = 0)\n",
    "historyDF.head(12)"
   ]
  },
  {
   "cell_type": "markdown",
   "metadata": {},
   "source": [
    "The lowest MAE is achieved at epoch 10"
   ]
  },
  {
   "cell_type": "code",
   "execution_count": 13,
   "metadata": {},
   "outputs": [
    {
     "data": {
      "text/plain": [
       "0.9625840129852294"
      ]
     },
     "execution_count": 13,
     "metadata": {},
     "output_type": "execute_result"
    }
   ],
   "source": [
    "historyDF['val_mean_absolute_error'].min()"
   ]
  },
  {
   "cell_type": "code",
   "execution_count": 14,
   "metadata": {},
   "outputs": [
    {
     "data": {
      "text/plain": [
       "<matplotlib.legend.Legend at 0x2689558e128>"
      ]
     },
     "execution_count": 14,
     "metadata": {},
     "output_type": "execute_result"
    },
    {
     "data": {
      "image/png": "[encoded data removed]",
      "text/plain": [
       "<Figure size 432x288 with 1 Axes>"
      ]
     },
     "metadata": {},
     "output_type": "display_data"
    }
   ],
   "source": [
    "N = 30\n",
    "plt.style.use(\"ggplot\")\n",
    "plt.figure()\n",
    "plt.plot(np.arange(0, N), historyDF.iloc[0:N, 2], label=\"train MAE\")\n",
    "plt.plot(np.arange(0, N), historyDF.iloc[0:N, 3], label=\"val MAE\")\n",
    "plt.title(\"Training Loss and Accuracy on Dataset\")\n",
    "plt.xlabel(\"Epoch #\")\n",
    "plt.ylabel(\"Training/Validation MAE\")\n",
    "plt.legend(loc=\"upper right\")"
   ]
  },
  {
   "cell_type": "code",
   "execution_count": null,
   "metadata": {},
   "outputs": [],
   "source": []
  }
 ],
 "metadata": {
  "kernelspec": {
   "display_name": "Python 3",
   "language": "python",
   "name": "python3"
  },
  "language_info": {
   "codemirror_mode": {
    "name": "ipython",
    "version": 3
   },
   "file_extension": ".py",
   "mimetype": "text/x-python",
   "name": "python",
   "nbconvert_exporter": "python",
   "pygments_lexer": "ipython3",
   "version": "3.7.3"
  }
 },
 "nbformat": 4,
 "nbformat_minor": 2
}
