{
 "cells": [
  {
   "cell_type": "code",
   "execution_count": 1,
   "metadata": {},
   "outputs": [
    {
     "name": "stderr",
     "output_type": "stream",
     "text": [
      "Using TensorFlow backend.\n"
     ]
    }
   ],
   "source": [
    "import pandas as pd\n",
    "import seaborn as sns\n",
    "import os\n",
    "from os import listdir\n",
    "import sklearn\n",
    "from sklearn import preprocessing\n",
    "from sklearn.model_selection import train_test_split\n",
    "\n",
    "import keras\n",
    "from keras.preprocessing.image import ImageDataGenerator\n",
    "from keras.models import Sequential\n",
    "from keras.layers import Dense, Dropout, Activation, Flatten\n",
    "from keras.layers import Conv2D, MaxPooling2D\n",
    "from keras.preprocessing.image import load_img\n",
    "from keras.preprocessing.image import img_to_array\n",
    "\n",
    "import numpy as np\n",
    "\n",
    "import cv2\n",
    "\n",
    "from sklearn.metrics import classification_report\n",
    "from keras.models import load_model\n",
    "import matplotlib.pyplot as plt\n",
    "\n",
    "from keras.callbacks import CSVLogger\n",
    "from keras import metrics\n",
    "from keras import backend as K\n",
    "from keras.layers.normalization import BatchNormalization"
   ]
  },
  {
   "cell_type": "code",
   "execution_count": 2,
   "metadata": {
    "scrolled": true
   },
   "outputs": [
    {
     "data": {
      "text/plain": [
       "0      3.116667\n",
       "1      3.700000\n",
       "2      4.183333\n",
       "3      4.316667\n",
       "4      2.666667\n",
       "5      3.950000\n",
       "6      4.350000\n",
       "7      2.466667\n",
       "8      3.950000\n",
       "9      3.633333\n",
       "10     4.416667\n",
       "11     4.450000\n",
       "12     4.150000\n",
       "13     2.850000\n",
       "14     2.683333\n",
       "15     3.950000\n",
       "16     4.016667\n",
       "17     2.583333\n",
       "18     3.633333\n",
       "19     3.966667\n",
       "20     3.050000\n",
       "21     4.166667\n",
       "22     4.033333\n",
       "23     2.733333\n",
       "24     2.950000\n",
       "25     2.283333\n",
       "26     3.450000\n",
       "27     2.566667\n",
       "28     1.800000\n",
       "29     4.166667\n",
       "         ...   \n",
       "720    4.033333\n",
       "721    4.300000\n",
       "722    3.200000\n",
       "723    3.550000\n",
       "724    3.566667\n",
       "725    3.433333\n",
       "726    4.100000\n",
       "727    4.316667\n",
       "728    4.150000\n",
       "729    3.550000\n",
       "730    3.983333\n",
       "731    4.400000\n",
       "732    3.433333\n",
       "733    4.066667\n",
       "734    4.200000\n",
       "735    4.016667\n",
       "736    4.000000\n",
       "737    3.800000\n",
       "738    3.983333\n",
       "739    3.933333\n",
       "740    3.033333\n",
       "741    4.283333\n",
       "742    4.016667\n",
       "743    3.766667\n",
       "744    3.583333\n",
       "745    4.316667\n",
       "746    3.850000\n",
       "747    3.716667\n",
       "748    4.283333\n",
       "749    3.216667\n",
       "Name: Avg Rating, Length: 750, dtype: float64"
      ]
     },
     "execution_count": 2,
     "metadata": {},
     "output_type": "execute_result"
    }
   ],
   "source": [
    "datasetAF = pd.read_csv(\"C:\\\\Users\\\\alegAsus\\\\Downloads\\\\SCUT-FBP5500_v2.1\\\\SCUT-FBP5500_v2\\\\CM\\\\labels\\\\CM.csv\",header = 0)\n",
    "avgPerFile = datasetAF['Rating'].groupby(datasetAF['Filename'],sort=False)\n",
    "averagePerFileMean = avgPerFile.mean()\n",
    "preparedAFDataset = pd.DataFrame({'Filename':averagePerFileMean.index, 'Avg Rating':averagePerFileMean.values})\n",
    "labels = preparedAFDataset['Avg Rating']\n",
    "labels"
   ]
  },
  {
   "cell_type": "code",
   "execution_count": 3,
   "metadata": {},
   "outputs": [],
   "source": [
    "#needed to join path because windows\n",
    "train_path = os.path.join('C:/', 'Users/alegAsus/Downloads/SCUT-FBP5500_v2.1/SCUT-FBP5500_v2/CM/data/')\n",
    "images = []\n",
    "#adapted from https://www.quora.com/How-do-I-load-train-and-test-data-from-the-local-drive-for-a-deep-learning-Keras-model\n",
    "#listdir returns a list containing the names of the entries in the directory given by path.\n",
    "for sample in listdir(train_path):\n",
    "    img_path = train_path + sample #sample is every file in the train directory\n",
    "    x = cv2.imread(img_path) #loading file\n",
    "    x = cv2.resize(x, (96, 96))\n",
    "    # preprocessing if required\n",
    "    images.append(x) #adding to x_train array\n",
    "#scale all pixels to between 0 and 1\n",
    "imagesNumPy = np.array(images, dtype=\"float\") / 255.0\n"
   ]
  },
  {
   "cell_type": "code",
   "execution_count": 4,
   "metadata": {},
   "outputs": [
    {
     "data": {
      "text/plain": [
       "(750, 96, 96, 3)"
      ]
     },
     "execution_count": 4,
     "metadata": {},
     "output_type": "execute_result"
    }
   ],
   "source": [
    "imagesNumPy.shape"
   ]
  },
  {
   "cell_type": "code",
   "execution_count": 5,
   "metadata": {},
   "outputs": [
    {
     "data": {
      "text/plain": [
       "(750,)"
      ]
     },
     "execution_count": 5,
     "metadata": {},
     "output_type": "execute_result"
    }
   ],
   "source": [
    "labels.shape"
   ]
  },
  {
   "cell_type": "code",
   "execution_count": 6,
   "metadata": {},
   "outputs": [],
   "source": [
    "(trainX, testX, trainY, testY) = train_test_split(imagesNumPy, labels,test_size=0.4, random_state=42)"
   ]
  },
  {
   "cell_type": "code",
   "execution_count": 7,
   "metadata": {},
   "outputs": [
    {
     "name": "stdout",
     "output_type": "stream",
     "text": [
      "WARNING:tensorflow:From C:\\Users\\alegAsus\\Anaconda3\\lib\\site-packages\\tensorflow\\python\\framework\\op_def_library.py:263: colocate_with (from tensorflow.python.framework.ops) is deprecated and will be removed in a future version.\n",
      "Instructions for updating:\n",
      "Colocations handled automatically by placer.\n",
      "WARNING:tensorflow:From C:\\Users\\alegAsus\\Anaconda3\\lib\\site-packages\\keras\\backend\\tensorflow_backend.py:3445: calling dropout (from tensorflow.python.ops.nn_ops) with keep_prob is deprecated and will be removed in a future version.\n",
      "Instructions for updating:\n",
      "Please use `rate` instead of `keep_prob`. Rate should be set to `rate = 1 - keep_prob`.\n"
     ]
    }
   ],
   "source": [
    "#adapted from\n",
    "#https://github.com/neuropoly/spinalcordtoolbox/issues/2279\n",
    "#run this model with Dense(notDefinedVariable) to see functions in tensorflow that are to be depreciated\n",
    "model = Sequential()\n",
    "model.add(Conv2D(32, (3, 3), padding='same',\n",
    "                 input_shape=trainX.shape[1:]))\n",
    "model.add(Activation('relu'))\n",
    "model.add(BatchNormalization(axis=3))\n",
    "model.add(Conv2D(32, (3, 3), padding='same'))\n",
    "model.add(Activation('relu'))\n",
    "model.add(BatchNormalization(axis=3))\n",
    "model.add(MaxPooling2D(pool_size=(2, 2)))\n",
    "model.add(Dropout(0.25))\n",
    "\n",
    "model.add(Conv2D(64, (3, 3), padding='same'))\n",
    "model.add(Activation('relu'))\n",
    "model.add(BatchNormalization(axis=3))\n",
    "model.add(Conv2D(64, (3, 3), padding='same'))\n",
    "model.add(Activation('relu'))\n",
    "model.add(BatchNormalization(axis=3))\n",
    "model.add(MaxPooling2D(pool_size=(2, 2)))\n",
    "model.add(Dropout(0.25))\n",
    "\n",
    "model.add(Conv2D(128, (3, 3), padding='same'))\n",
    "model.add(Activation('relu'))\n",
    "model.add(BatchNormalization(axis=3))\n",
    "model.add(Conv2D(128, (3, 3), padding='same'))\n",
    "model.add(Activation('relu'))\n",
    "model.add(BatchNormalization(axis=3))\n",
    "model.add(MaxPooling2D(pool_size=(2, 2)))\n",
    "model.add(Dropout(0.25))\n",
    "\n",
    "model.add(Flatten())\n",
    "model.add(Dense(512))\n",
    "model.add(Activation('relu'))\n",
    "model.add(Dropout(0.3))\n",
    "#1 because it outputs only one rating\n",
    "model.add(Dense(1))\n",
    "\n",
    "# initiate RMSprop optimizer\n",
    "opt = keras.optimizers.rmsprop(lr=0.0001)\n",
    "\n",
    "def root_mean_squared_error(y_true, y_pred):\n",
    "        return K.sqrt(K.mean(K.square(y_pred - y_true))) \n",
    "\n",
    "# Let's train the model using RMSprop\n",
    "model.compile(loss=root_mean_squared_error,\n",
    "              optimizer=opt,\n",
    "              metrics=[metrics.mae])"
   ]
  },
  {
   "cell_type": "code",
   "execution_count": 8,
   "metadata": {},
   "outputs": [
    {
     "name": "stdout",
     "output_type": "stream",
     "text": [
      "Train on 450 samples, validate on 300 samples\n",
      "Epoch 1/8\n",
      "450/450 [==============================] - 25s 57ms/step - loss: 6.8342 - mean_absolute_error: 6.4244 - val_loss: 0.8788 - val_mean_absolute_error: 0.6906\n",
      "Epoch 2/8\n",
      "450/450 [==============================] - 23s 51ms/step - loss: 1.3814 - mean_absolute_error: 1.1267 - val_loss: 1.2908 - val_mean_absolute_error: 1.1154\n",
      "Epoch 3/8\n",
      "450/450 [==============================] - 23s 51ms/step - loss: 1.2166 - mean_absolute_error: 0.9976 - val_loss: 1.2478 - val_mean_absolute_error: 1.0643\n",
      "Epoch 4/8\n",
      "450/450 [==============================] - 23s 51ms/step - loss: 0.9950 - mean_absolute_error: 0.8131 - val_loss: 0.7846 - val_mean_absolute_error: 0.5976\n",
      "Epoch 5/8\n",
      "450/450 [==============================] - 24s 53ms/step - loss: 0.9949 - mean_absolute_error: 0.8020 - val_loss: 0.8525 - val_mean_absolute_error: 0.6887\n",
      "Epoch 6/8\n",
      "450/450 [==============================] - 23s 51ms/step - loss: 0.9284 - mean_absolute_error: 0.7657 - val_loss: 1.4175 - val_mean_absolute_error: 1.2307\n",
      "Epoch 7/8\n",
      "450/450 [==============================] - 23s 52ms/step - loss: 0.8695 - mean_absolute_error: 0.7097 - val_loss: 0.7881 - val_mean_absolute_error: 0.6117\n",
      "Epoch 8/8\n",
      "450/450 [==============================] - 24s 52ms/step - loss: 0.8262 - mean_absolute_error: 0.6642 - val_loss: 0.8557 - val_mean_absolute_error: 0.6631\n"
     ]
    }
   ],
   "source": [
    "csv_logger = CSVLogger(os.path.join('C:/', 'Users/alegAsus/Downloads/SCUT-FBP5500_v2.1/SCUT-FBP5500_v2/saved models/continous RMSE/callbacks1 CM.log'), separator=',', append=False)\n",
    "modelHistory = model.fit(trainX, trainY,\n",
    "              batch_size=32,\n",
    "              epochs=8,\n",
    "              validation_data=(testX, testY),\n",
    "              shuffle=True, callbacks=[csv_logger])"
   ]
  },
  {
   "cell_type": "code",
   "execution_count": 9,
   "metadata": {},
   "outputs": [
    {
     "name": "stdout",
     "output_type": "stream",
     "text": [
      "Saved trained model at C:/Users/alegAsus/Downloads/SCUT-FBP5500_v2.1/SCUT-FBP5500_v2/saved models/continous RMSE/model1 CM.h5 \n"
     ]
    }
   ],
   "source": [
    "model_path = os.path.join('C:/', 'Users/alegAsus/Downloads/SCUT-FBP5500_v2.1/SCUT-FBP5500_v2/saved models/continous RMSE/model1 CM.h5')\n",
    "model.save(model_path)\n",
    "print('Saved trained model at %s ' % model_path)"
   ]
  },
  {
   "cell_type": "code",
   "execution_count": 10,
   "metadata": {},
   "outputs": [
    {
     "data": {
      "text/plain": [
       "{'val_loss': [0.8787590654691061,\n",
       "  1.2907968918482462,\n",
       "  1.2477769295374552,\n",
       "  0.7846060005823771,\n",
       "  0.8524878295262655,\n",
       "  1.4175003321965536,\n",
       "  0.7880536603927613,\n",
       "  0.855722336769104],\n",
       " 'val_mean_absolute_error': [0.6905652109781901,\n",
       "  1.1154053258895873,\n",
       "  1.0642739057540893,\n",
       "  0.5976338569323222,\n",
       "  0.6886529755592347,\n",
       "  1.2306930685043336,\n",
       "  0.6116739551226298,\n",
       "  0.6631091443697611],\n",
       " 'loss': [6.834186191029019,\n",
       "  1.381404505835639,\n",
       "  1.21656066470676,\n",
       "  0.9949666363663143,\n",
       "  0.9948721016777886,\n",
       "  0.928356716632843,\n",
       "  0.8695025576485528,\n",
       "  0.8261770293447707],\n",
       " 'mean_absolute_error': [6.42443503273858,\n",
       "  1.126700217988756,\n",
       "  0.997607037226359,\n",
       "  0.8131450027889675,\n",
       "  0.8020207161373563,\n",
       "  0.765704043176439,\n",
       "  0.709714854558309,\n",
       "  0.6642444621192084]}"
      ]
     },
     "execution_count": 10,
     "metadata": {},
     "output_type": "execute_result"
    }
   ],
   "source": [
    "modelHistory.history"
   ]
  },
  {
   "cell_type": "code",
   "execution_count": 12,
   "metadata": {},
   "outputs": [
    {
     "data": {
      "text/plain": [
       "<matplotlib.legend.Legend at 0x23ab037a470>"
      ]
     },
     "execution_count": 12,
     "metadata": {},
     "output_type": "execute_result"
    },
    {
     "data": {
      "image/png": "[encoded data removed]",
      "text/plain": [
       "<Figure size 432x288 with 1 Axes>"
      ]
     },
     "metadata": {},
     "output_type": "display_data"
    }
   ],
   "source": [
    "#N is the number of epochs\n",
    "#plot code from https://www.pyimagesearch.com/2018/12/31/keras-conv2d-and-convolutional-layers/\n",
    "N = 8\n",
    "plt.style.use(\"ggplot\")\n",
    "plt.figure()\n",
    "plt.plot(np.arange(0, N), modelHistory.history[\"loss\"], label=\"train_loss\")\n",
    "plt.plot(np.arange(0, N), modelHistory.history[\"val_loss\"], label=\"val_loss\")\n",
    "plt.plot(np.arange(0, N), modelHistory.history[\"mean_absolute_error\"], label=\"train MAE\")\n",
    "plt.plot(np.arange(0, N), modelHistory.history[\"val_mean_absolute_error\"], label=\"val MAE\")\n",
    "plt.title(\"Training Loss and Accuracy on Dataset\")\n",
    "plt.xlabel(\"Epoch #\")\n",
    "plt.ylabel(\"Loss/Accuracy\")\n",
    "plt.legend(loc=\"upper right\")"
   ]
  },
  {
   "cell_type": "code",
   "execution_count": 13,
   "metadata": {},
   "outputs": [
    {
     "data": {
      "text/html": [
       "<div>\n",
       "<style scoped>\n",
       "    .dataframe tbody tr th:only-of-type {\n",
       "        vertical-align: middle;\n",
       "    }\n",
       "\n",
       "    .dataframe tbody tr th {\n",
       "        vertical-align: top;\n",
       "    }\n",
       "\n",
       "    .dataframe thead th {\n",
       "        text-align: right;\n",
       "    }\n",
       "</style>\n",
       "<table border=\"1\" class=\"dataframe\">\n",
       "  <thead>\n",
       "    <tr style=\"text-align: right;\">\n",
       "      <th></th>\n",
       "      <th>epoch</th>\n",
       "      <th>loss</th>\n",
       "      <th>mean_absolute_error</th>\n",
       "      <th>val_loss</th>\n",
       "      <th>val_mean_absolute_error</th>\n",
       "    </tr>\n",
       "  </thead>\n",
       "  <tbody>\n",
       "    <tr>\n",
       "      <th>0</th>\n",
       "      <td>0</td>\n",
       "      <td>6.834186</td>\n",
       "      <td>6.424435</td>\n",
       "      <td>0.878759</td>\n",
       "      <td>0.690565</td>\n",
       "    </tr>\n",
       "    <tr>\n",
       "      <th>1</th>\n",
       "      <td>1</td>\n",
       "      <td>1.381405</td>\n",
       "      <td>1.126700</td>\n",
       "      <td>1.290797</td>\n",
       "      <td>1.115405</td>\n",
       "    </tr>\n",
       "    <tr>\n",
       "      <th>2</th>\n",
       "      <td>2</td>\n",
       "      <td>1.216561</td>\n",
       "      <td>0.997607</td>\n",
       "      <td>1.247777</td>\n",
       "      <td>1.064274</td>\n",
       "    </tr>\n",
       "    <tr>\n",
       "      <th>3</th>\n",
       "      <td>3</td>\n",
       "      <td>0.994967</td>\n",
       "      <td>0.813145</td>\n",
       "      <td>0.784606</td>\n",
       "      <td>0.597634</td>\n",
       "    </tr>\n",
       "    <tr>\n",
       "      <th>4</th>\n",
       "      <td>4</td>\n",
       "      <td>0.994872</td>\n",
       "      <td>0.802021</td>\n",
       "      <td>0.852488</td>\n",
       "      <td>0.688653</td>\n",
       "    </tr>\n",
       "    <tr>\n",
       "      <th>5</th>\n",
       "      <td>5</td>\n",
       "      <td>0.928357</td>\n",
       "      <td>0.765704</td>\n",
       "      <td>1.417500</td>\n",
       "      <td>1.230693</td>\n",
       "    </tr>\n",
       "    <tr>\n",
       "      <th>6</th>\n",
       "      <td>6</td>\n",
       "      <td>0.869503</td>\n",
       "      <td>0.709715</td>\n",
       "      <td>0.788054</td>\n",
       "      <td>0.611674</td>\n",
       "    </tr>\n",
       "    <tr>\n",
       "      <th>7</th>\n",
       "      <td>7</td>\n",
       "      <td>0.826177</td>\n",
       "      <td>0.664244</td>\n",
       "      <td>0.855722</td>\n",
       "      <td>0.663109</td>\n",
       "    </tr>\n",
       "  </tbody>\n",
       "</table>\n",
       "</div>"
      ],
      "text/plain": [
       "   epoch      loss  mean_absolute_error  val_loss  val_mean_absolute_error\n",
       "0      0  6.834186             6.424435  0.878759                 0.690565\n",
       "1      1  1.381405             1.126700  1.290797                 1.115405\n",
       "2      2  1.216561             0.997607  1.247777                 1.064274\n",
       "3      3  0.994967             0.813145  0.784606                 0.597634\n",
       "4      4  0.994872             0.802021  0.852488                 0.688653\n",
       "5      5  0.928357             0.765704  1.417500                 1.230693\n",
       "6      6  0.869503             0.709715  0.788054                 0.611674\n",
       "7      7  0.826177             0.664244  0.855722                 0.663109"
      ]
     },
     "execution_count": 13,
     "metadata": {},
     "output_type": "execute_result"
    }
   ],
   "source": [
    "historyDF = pd.read_csv(\"C:\\\\Users\\\\alegAsus\\\\Downloads\\\\SCUT-FBP5500_v2.1\\\\SCUT-FBP5500_v2\\\\saved models\\\\continous RMSE\\\\callbacks1 CM.log\",header = 0)\n",
    "historyDF.head(12)"
   ]
  },
  {
   "cell_type": "markdown",
   "metadata": {},
   "source": [
    "The lowest MAE is achieved at epoch 10"
   ]
  },
  {
   "cell_type": "code",
   "execution_count": 14,
   "metadata": {},
   "outputs": [
    {
     "data": {
      "text/plain": [
       "0.5976338569323222"
      ]
     },
     "execution_count": 14,
     "metadata": {},
     "output_type": "execute_result"
    }
   ],
   "source": [
    "historyDF['val_mean_absolute_error'].min()"
   ]
  },
  {
   "cell_type": "code",
   "execution_count": 15,
   "metadata": {},
   "outputs": [
    {
     "data": {
      "text/plain": [
       "<matplotlib.legend.Legend at 0x23ab040e978>"
      ]
     },
     "execution_count": 15,
     "metadata": {},
     "output_type": "execute_result"
    },
    {
     "data": {
      "image/png": "[encoded data removed]",
      "text/plain": [
       "<Figure size 432x288 with 1 Axes>"
      ]
     },
     "metadata": {},
     "output_type": "display_data"
    }
   ],
   "source": [
    "N = 8\n",
    "plt.style.use(\"ggplot\")\n",
    "plt.figure()\n",
    "plt.plot(np.arange(0, N), historyDF.iloc[0:N, 2], label=\"train MAE\")\n",
    "plt.plot(np.arange(0, N), historyDF.iloc[0:N, 3], label=\"val MAE\")\n",
    "plt.title(\"Training Loss and Accuracy on Dataset\")\n",
    "plt.xlabel(\"Epoch #\")\n",
    "plt.ylabel(\"Training/Validation MAE\")\n",
    "plt.legend(loc=\"upper right\")"
   ]
  },
  {
   "cell_type": "code",
   "execution_count": 25,
   "metadata": {},
   "outputs": [],
   "source": [
    "imagesPredict = []\n",
    "x = cv2.imread(\"C:\\\\Users\\\\alegAsus\\\\Downloads\\\\SCUT-FBP5500_v2.1\\\\SCUT-FBP5500_v2\\\\CM\\\\predict\\\\jonathan.jpg\") #loading file\n",
    "x = cv2.resize(x, (96, 96))\n",
    "imagesPredict.append(x) #adding to x_train array"
   ]
  },
  {
   "cell_type": "code",
   "execution_count": 30,
   "metadata": {},
   "outputs": [],
   "source": [
    "imagesNumPyPredict = np.array(imagesPredict, dtype=\"float\") / 255.0"
   ]
  },
  {
   "cell_type": "code",
   "execution_count": 31,
   "metadata": {},
   "outputs": [
    {
     "data": {
      "text/plain": [
       "(1, 96, 96, 3)"
      ]
     },
     "execution_count": 31,
     "metadata": {},
     "output_type": "execute_result"
    }
   ],
   "source": [
    "imagesNumPyPredict.shape"
   ]
  },
  {
   "cell_type": "code",
   "execution_count": 32,
   "metadata": {},
   "outputs": [
    {
     "data": {
      "text/plain": [
       "array([[5.247966]], dtype=float32)"
      ]
     },
     "execution_count": 32,
     "metadata": {},
     "output_type": "execute_result"
    }
   ],
   "source": [
    "model.predict(imagesNumPyPredict)"
   ]
  }
 ],
 "metadata": {
  "kernelspec": {
   "display_name": "Python 3",
   "language": "python",
   "name": "python3"
  },
  "language_info": {
   "codemirror_mode": {
    "name": "ipython",
    "version": 3
   },
   "file_extension": ".py",
   "mimetype": "text/x-python",
   "name": "python",
   "nbconvert_exporter": "python",
   "pygments_lexer": "ipython3",
   "version": "3.7.3"
  }
 },
 "nbformat": 4,
 "nbformat_minor": 2
}
