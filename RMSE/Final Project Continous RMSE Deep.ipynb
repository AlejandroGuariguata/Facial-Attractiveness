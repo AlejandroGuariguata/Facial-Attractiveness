{
 "cells": [
  {
   "cell_type": "code",
   "execution_count": 1,
   "metadata": {},
   "outputs": [
    {
     "name": "stderr",
     "output_type": "stream",
     "text": [
      "Using TensorFlow backend.\n"
     ]
    }
   ],
   "source": [
    "import pandas as pd\n",
    "import seaborn as sns\n",
    "import os\n",
    "from os import listdir\n",
    "import sklearn\n",
    "from sklearn import preprocessing\n",
    "from sklearn.model_selection import train_test_split\n",
    "\n",
    "import keras\n",
    "from keras.preprocessing.image import ImageDataGenerator\n",
    "from tensorflow.keras.models import Sequential\n",
    "from keras.models import Sequential\n",
    "\n",
    "\n",
    "from keras.layers import Dense, Dropout, Activation, Flatten\n",
    "from keras.layers import Conv2D, MaxPooling2D\n",
    "from keras.preprocessing.image import load_img\n",
    "from keras.preprocessing.image import img_to_array\n",
    "\n",
    "import numpy as np\n",
    "\n",
    "import cv2\n",
    "\n",
    "from sklearn.metrics import classification_report\n",
    "from keras.models import load_model\n",
    "import matplotlib.pyplot as plt\n",
    "\n",
    "from keras.callbacks import CSVLogger\n",
    "from keras import metrics\n",
    "from keras import backend as K\n",
    "from keras.layers.normalization import BatchNormalization\n",
    "\n",
    "from tensorflow.python.framework import ops\n",
    "\n",
    "\n"
   ]
  },
  {
   "cell_type": "markdown",
   "metadata": {},
   "source": [
    "This model has a much deeper number of CNN layers"
   ]
  },
  {
   "cell_type": "code",
   "execution_count": 2,
   "metadata": {
    "scrolled": true
   },
   "outputs": [
    {
     "data": {
      "text/plain": [
       "0    2.333333\n",
       "1    3.950000\n",
       "2    3.183333\n",
       "3    2.683333\n",
       "4    2.000000\n",
       "5    1.566667\n",
       "6    2.566667\n",
       "7    2.750000\n",
       "8    2.150000\n",
       "9    3.433333\n",
       "Name: Avg Rating, dtype: float64"
      ]
     },
     "execution_count": 2,
     "metadata": {},
     "output_type": "execute_result"
    }
   ],
   "source": [
    "datasetAF = pd.read_csv(\"D:\\\\Dropbox\\\\utd\\\\cs courses\\\\cs 4375 machine learning\\\\assignments\\\\project\\\\rating csv data\\\\All_Ratings asian female csv.txt\",header = 0)\n",
    "avgPerFile = datasetAF['Rating'].groupby(datasetAF['Filename'],sort=False)\n",
    "averagePerFileMean = avgPerFile.mean()\n",
    "preparedAFDataset = pd.DataFrame({'Filename':averagePerFileMean.index, 'Avg Rating':averagePerFileMean.values})\n",
    "labels = preparedAFDataset['Avg Rating']\n",
    "labels.head(10)"
   ]
  },
  {
   "cell_type": "code",
   "execution_count": 3,
   "metadata": {},
   "outputs": [],
   "source": [
    "#needed to join path because windows\n",
    "train_path = os.path.join('C:/', 'Users/alegAsus/Downloads/SCUT-FBP5500_v2.1/SCUT-FBP5500_v2/AF/AF/')\n",
    "images = []\n",
    "#adapted from https://www.quora.com/How-do-I-load-train-and-test-data-from-the-local-drive-for-a-deep-learning-Keras-model\n",
    "#listdir returns a list containing the names of the entries in the directory given by path.\n",
    "for sample in listdir(train_path):\n",
    "    img_path = train_path + sample #sample is every file in the train directory\n",
    "    x = cv2.imread(img_path) #loading file\n",
    "    x = cv2.resize(x, (96, 96))\n",
    "    # preprocessing if required\n",
    "    images.append(x) #adding to x_train array\n",
    "#scale all pixels to between 0 and 1\n",
    "imagesNumPy = np.array(images, dtype=\"float\") / 255.0\n"
   ]
  },
  {
   "cell_type": "code",
   "execution_count": 4,
   "metadata": {},
   "outputs": [],
   "source": [
    "(trainX, testX, trainY, testY) = train_test_split(imagesNumPy, labels,test_size=0.30, random_state=42)"
   ]
  },
  {
   "cell_type": "code",
   "execution_count": 5,
   "metadata": {},
   "outputs": [
    {
     "name": "stdout",
     "output_type": "stream",
     "text": [
      "WARNING:tensorflow:From C:\\Users\\alegAsus\\Anaconda3\\lib\\site-packages\\tensorflow\\python\\framework\\op_def_library.py:263: colocate_with (from tensorflow.python.framework.ops) is deprecated and will be removed in a future version.\n",
      "Instructions for updating:\n",
      "Colocations handled automatically by placer.\n",
      "WARNING:tensorflow:From C:\\Users\\alegAsus\\Anaconda3\\lib\\site-packages\\keras\\backend\\tensorflow_backend.py:3445: calling dropout (from tensorflow.python.ops.nn_ops) with keep_prob is deprecated and will be removed in a future version.\n",
      "Instructions for updating:\n",
      "Please use `rate` instead of `keep_prob`. Rate should be set to `rate = 1 - keep_prob`.\n"
     ]
    }
   ],
   "source": [
    "#run this model with Dense(notDefinedVariable) to see functions in tensorflow that are to be depreciated\n",
    "model = Sequential()\n",
    "model.add(Conv2D(32, (3, 3), padding='same',\n",
    "                 input_shape=trainX.shape[1:]))\n",
    "model.add(Activation('relu'))\n",
    "model.add(BatchNormalization(axis=3))\n",
    "model.add(Conv2D(32, (3, 3), padding='same'))\n",
    "model.add(Activation('relu'))\n",
    "model.add(BatchNormalization(axis=3))\n",
    "model.add(MaxPooling2D(pool_size=(2, 2)))\n",
    "model.add(Dropout(0.25))\n",
    "\n",
    "model.add(Conv2D(64, (3, 3), padding='same'))\n",
    "model.add(Activation('relu'))\n",
    "model.add(BatchNormalization(axis=3))\n",
    "model.add(Conv2D(64, (3, 3), padding='same'))\n",
    "model.add(Activation('relu'))\n",
    "model.add(BatchNormalization(axis=3))\n",
    "model.add(MaxPooling2D(pool_size=(2, 2)))\n",
    "model.add(Dropout(0.25))\n",
    "\n",
    "model.add(Conv2D(128, (3, 3), padding='same'))\n",
    "model.add(Activation('relu'))\n",
    "model.add(BatchNormalization(axis=3))\n",
    "model.add(Conv2D(128, (3, 3), padding='same'))\n",
    "model.add(Activation('relu'))\n",
    "model.add(BatchNormalization(axis=3))\n",
    "model.add(MaxPooling2D(pool_size=(2, 2)))\n",
    "model.add(Dropout(0.25))\n",
    "\n",
    "model.add(Conv2D(256, (3, 3), padding='same'))\n",
    "model.add(Activation('relu'))\n",
    "model.add(BatchNormalization(axis=3))\n",
    "model.add(Conv2D(256, (3, 3), padding='same'))\n",
    "model.add(Activation('relu'))\n",
    "model.add(BatchNormalization(axis=3))\n",
    "model.add(MaxPooling2D(pool_size=(2, 2)))\n",
    "model.add(Dropout(0.25))\n",
    "\n",
    "model.add(Conv2D(512, (3, 3), padding='same'))\n",
    "model.add(Activation('relu'))\n",
    "model.add(BatchNormalization(axis=3))\n",
    "model.add(Conv2D(512, (3, 3), padding='same'))\n",
    "model.add(Activation('relu'))\n",
    "model.add(BatchNormalization(axis=3))\n",
    "model.add(MaxPooling2D(pool_size=(2, 2)))\n",
    "model.add(Dropout(0.25))\n",
    "\n",
    "model.add(Conv2D(1024, (3, 3), padding='same'))\n",
    "model.add(Activation('relu'))\n",
    "model.add(BatchNormalization(axis=3))\n",
    "model.add(Conv2D(1024, (3, 3), padding='same'))\n",
    "model.add(Activation('relu'))\n",
    "model.add(BatchNormalization(axis=3))\n",
    "model.add(MaxPooling2D(pool_size=(2, 2)))\n",
    "model.add(Dropout(0.25))\n",
    "\n",
    "model.add(Flatten())\n",
    "model.add(Dense(512))\n",
    "model.add(Activation('relu'))\n",
    "model.add(Dropout(0.3))\n",
    "#1 because it outputs only one rating\n",
    "model.add(Dense(1))\n",
    "\n",
    "\n",
    "# initiate RMSprop optimizer\n",
    "opt = keras.optimizers.rmsprop(lr=0.0001)\n",
    "\n",
    "def root_mean_squared_error(y_true, y_pred):\n",
    "        return K.sqrt(K.mean(K.square(y_pred - y_true))) \n",
    "\n",
    "# Let's train the model using RMSprop\n",
    "model.compile(loss=root_mean_squared_error,\n",
    "              optimizer=opt,\n",
    "              metrics=[metrics.mae])"
   ]
  },
  {
   "cell_type": "code",
   "execution_count": 6,
   "metadata": {},
   "outputs": [
    {
     "name": "stdout",
     "output_type": "stream",
     "text": [
      "Train on 1400 samples, validate on 600 samples\n",
      "Epoch 1/64\n",
      "1400/1400 [==============================] - 135s 96ms/step - loss: 2.1246 - mean_absolute_error: 1.7263 - val_loss: 0.8681 - val_mean_absolute_error: 0.7191\n",
      "Epoch 2/64\n",
      "1400/1400 [==============================] - 129s 92ms/step - loss: 1.2239 - mean_absolute_error: 0.9853 - val_loss: 0.7984 - val_mean_absolute_error: 0.6508\n",
      "Epoch 3/64\n",
      "1400/1400 [==============================] - 131s 94ms/step - loss: 1.0121 - mean_absolute_error: 0.8153 - val_loss: 0.9533 - val_mean_absolute_error: 0.7691\n",
      "Epoch 4/64\n",
      "1400/1400 [==============================] - 129s 92ms/step - loss: 0.9351 - mean_absolute_error: 0.7470 - val_loss: 0.8043 - val_mean_absolute_error: 0.6714\n",
      "Epoch 5/64\n",
      "1400/1400 [==============================] - 129s 92ms/step - loss: 0.8966 - mean_absolute_error: 0.7263 - val_loss: 0.9120 - val_mean_absolute_error: 0.7595\n",
      "Epoch 6/64\n",
      "1400/1400 [==============================] - 127s 90ms/step - loss: 0.8795 - mean_absolute_error: 0.7113 - val_loss: 0.7273 - val_mean_absolute_error: 0.5905\n",
      "Epoch 7/64\n",
      "1400/1400 [==============================] - 127s 90ms/step - loss: 0.8409 - mean_absolute_error: 0.6870 - val_loss: 0.8835 - val_mean_absolute_error: 0.7355\n",
      "Epoch 8/64\n",
      "1400/1400 [==============================] - 127s 90ms/step - loss: 0.8337 - mean_absolute_error: 0.6806 - val_loss: 0.8543 - val_mean_absolute_error: 0.7141\n",
      "Epoch 9/64\n",
      "1400/1400 [==============================] - 127s 91ms/step - loss: 0.7963 - mean_absolute_error: 0.6439 - val_loss: 0.9723 - val_mean_absolute_error: 0.8034\n",
      "Epoch 10/64\n",
      "1400/1400 [==============================] - 127s 91ms/step - loss: 0.8236 - mean_absolute_error: 0.6692 - val_loss: 0.7389 - val_mean_absolute_error: 0.6084\n",
      "Epoch 11/64\n",
      "1400/1400 [==============================] - 129s 92ms/step - loss: 0.8164 - mean_absolute_error: 0.6680 - val_loss: 0.7524 - val_mean_absolute_error: 0.6162\n",
      "Epoch 12/64\n",
      "1400/1400 [==============================] - 135s 96ms/step - loss: 0.7967 - mean_absolute_error: 0.6453 - val_loss: 0.8079 - val_mean_absolute_error: 0.6720\n",
      "Epoch 13/64\n",
      "1400/1400 [==============================] - 137s 98ms/step - loss: 0.7930 - mean_absolute_error: 0.6520 - val_loss: 0.7070 - val_mean_absolute_error: 0.5769\n",
      "Epoch 14/64\n",
      "1400/1400 [==============================] - 132s 95ms/step - loss: 0.7881 - mean_absolute_error: 0.6481 - val_loss: 0.8051 - val_mean_absolute_error: 0.6425\n",
      "Epoch 15/64\n",
      "1400/1400 [==============================] - 126s 90ms/step - loss: 0.7988 - mean_absolute_error: 0.6529 - val_loss: 0.7549 - val_mean_absolute_error: 0.6251\n",
      "Epoch 16/64\n",
      "1400/1400 [==============================] - 126s 90ms/step - loss: 0.7726 - mean_absolute_error: 0.6225 - val_loss: 0.7325 - val_mean_absolute_error: 0.5994\n",
      "Epoch 17/64\n",
      "1400/1400 [==============================] - 126s 90ms/step - loss: 0.7686 - mean_absolute_error: 0.6241 - val_loss: 0.7157 - val_mean_absolute_error: 0.5854\n",
      "Epoch 18/64\n",
      "1400/1400 [==============================] - 130s 93ms/step - loss: 0.7588 - mean_absolute_error: 0.6173 - val_loss: 0.7191 - val_mean_absolute_error: 0.5828\n",
      "Epoch 19/64\n",
      "1400/1400 [==============================] - 126s 90ms/step - loss: 0.7552 - mean_absolute_error: 0.6120 - val_loss: 0.7567 - val_mean_absolute_error: 0.6026\n",
      "Epoch 20/64\n",
      "1400/1400 [==============================] - 125s 89ms/step - loss: 0.7819 - mean_absolute_error: 0.6309 - val_loss: 0.7992 - val_mean_absolute_error: 0.6632\n",
      "Epoch 21/64\n",
      "1400/1400 [==============================] - 125s 89ms/step - loss: 0.7541 - mean_absolute_error: 0.6155 - val_loss: 0.7296 - val_mean_absolute_error: 0.5968\n",
      "Epoch 22/64\n",
      "1400/1400 [==============================] - 125s 90ms/step - loss: 0.7351 - mean_absolute_error: 0.5956 - val_loss: 0.8812 - val_mean_absolute_error: 0.7280\n",
      "Epoch 23/64\n",
      "1400/1400 [==============================] - 125s 89ms/step - loss: 0.7515 - mean_absolute_error: 0.6106 - val_loss: 0.7330 - val_mean_absolute_error: 0.5958\n",
      "Epoch 24/64\n",
      "1400/1400 [==============================] - 125s 89ms/step - loss: 0.7397 - mean_absolute_error: 0.6057 - val_loss: 0.7558 - val_mean_absolute_error: 0.6250\n",
      "Epoch 25/64\n",
      "1400/1400 [==============================] - 125s 89ms/step - loss: 0.7486 - mean_absolute_error: 0.6130 - val_loss: 0.7726 - val_mean_absolute_error: 0.6361\n",
      "Epoch 26/64\n",
      "1400/1400 [==============================] - 125s 89ms/step - loss: 0.7523 - mean_absolute_error: 0.6093 - val_loss: 0.7642 - val_mean_absolute_error: 0.6187\n",
      "Epoch 27/64\n",
      "1400/1400 [==============================] - 124s 89ms/step - loss: 0.7328 - mean_absolute_error: 0.6001 - val_loss: 0.7353 - val_mean_absolute_error: 0.5947\n",
      "Epoch 28/64\n",
      "1400/1400 [==============================] - 124s 88ms/step - loss: 0.7282 - mean_absolute_error: 0.5899 - val_loss: 0.7653 - val_mean_absolute_error: 0.6099\n",
      "Epoch 29/64\n",
      "1400/1400 [==============================] - 123s 88ms/step - loss: 0.7073 - mean_absolute_error: 0.5750 - val_loss: 0.7920 - val_mean_absolute_error: 0.6297\n",
      "Epoch 30/64\n",
      "1400/1400 [==============================] - 124s 88ms/step - loss: 0.7164 - mean_absolute_error: 0.5815 - val_loss: 0.7587 - val_mean_absolute_error: 0.6024\n",
      "Epoch 31/64\n",
      "1400/1400 [==============================] - 124s 89ms/step - loss: 0.7118 - mean_absolute_error: 0.5743 - val_loss: 0.8384 - val_mean_absolute_error: 0.6717\n",
      "Epoch 32/64\n",
      "1400/1400 [==============================] - 124s 89ms/step - loss: 0.7074 - mean_absolute_error: 0.5731 - val_loss: 0.7487 - val_mean_absolute_error: 0.6007\n",
      "Epoch 33/64\n",
      "1400/1400 [==============================] - 124s 88ms/step - loss: 0.6922 - mean_absolute_error: 0.5567 - val_loss: 0.7751 - val_mean_absolute_error: 0.6170\n",
      "Epoch 34/64\n",
      "1400/1400 [==============================] - 124s 88ms/step - loss: 0.6739 - mean_absolute_error: 0.5419 - val_loss: 1.0531 - val_mean_absolute_error: 0.8662\n",
      "Epoch 35/64\n",
      "1400/1400 [==============================] - 124s 88ms/step - loss: 0.6731 - mean_absolute_error: 0.5480 - val_loss: 0.9139 - val_mean_absolute_error: 0.7472\n",
      "Epoch 36/64\n",
      "1400/1400 [==============================] - 124s 88ms/step - loss: 0.6875 - mean_absolute_error: 0.5551 - val_loss: 0.7874 - val_mean_absolute_error: 0.6352\n",
      "Epoch 37/64\n",
      "1400/1400 [==============================] - 124s 88ms/step - loss: 0.6707 - mean_absolute_error: 0.5411 - val_loss: 0.7772 - val_mean_absolute_error: 0.6183\n",
      "Epoch 38/64\n",
      "1400/1400 [==============================] - 125s 89ms/step - loss: 0.6805 - mean_absolute_error: 0.5470 - val_loss: 0.8176 - val_mean_absolute_error: 0.6670\n",
      "Epoch 39/64\n",
      "1400/1400 [==============================] - 125s 89ms/step - loss: 0.6499 - mean_absolute_error: 0.5208 - val_loss: 0.8019 - val_mean_absolute_error: 0.6445\n",
      "Epoch 40/64\n",
      "1400/1400 [==============================] - 125s 90ms/step - loss: 0.6348 - mean_absolute_error: 0.5110 - val_loss: 0.8724 - val_mean_absolute_error: 0.7000\n",
      "Epoch 41/64\n",
      "1400/1400 [==============================] - 126s 90ms/step - loss: 0.6431 - mean_absolute_error: 0.5132 - val_loss: 0.8148 - val_mean_absolute_error: 0.6636\n",
      "Epoch 42/64\n",
      "1400/1400 [==============================] - 125s 89ms/step - loss: 0.6413 - mean_absolute_error: 0.5126 - val_loss: 0.8371 - val_mean_absolute_error: 0.6730\n",
      "Epoch 43/64\n",
      "1400/1400 [==============================] - 125s 89ms/step - loss: 0.6156 - mean_absolute_error: 0.4954 - val_loss: 0.8259 - val_mean_absolute_error: 0.6631\n",
      "Epoch 44/64\n",
      "1400/1400 [==============================] - 125s 89ms/step - loss: 0.6091 - mean_absolute_error: 0.4934 - val_loss: 0.8337 - val_mean_absolute_error: 0.6709\n",
      "Epoch 45/64\n",
      "1400/1400 [==============================] - 125s 89ms/step - loss: 0.6169 - mean_absolute_error: 0.4975 - val_loss: 0.8681 - val_mean_absolute_error: 0.6887\n",
      "Epoch 46/64\n",
      "1400/1400 [==============================] - 130s 93ms/step - loss: 0.5952 - mean_absolute_error: 0.4804 - val_loss: 0.8475 - val_mean_absolute_error: 0.6803\n",
      "Epoch 47/64\n",
      "1400/1400 [==============================] - 128s 91ms/step - loss: 0.5945 - mean_absolute_error: 0.4751 - val_loss: 0.8485 - val_mean_absolute_error: 0.6855\n",
      "Epoch 48/64\n",
      "1400/1400 [==============================] - 128s 92ms/step - loss: 0.5947 - mean_absolute_error: 0.4743 - val_loss: 0.8390 - val_mean_absolute_error: 0.6834\n"
     ]
    },
    {
     "name": "stdout",
     "output_type": "stream",
     "text": [
      "Epoch 49/64\n",
      "1400/1400 [==============================] - 130s 93ms/step - loss: 0.5789 - mean_absolute_error: 0.4625 - val_loss: 0.9854 - val_mean_absolute_error: 0.7971\n",
      "Epoch 50/64\n",
      "1400/1400 [==============================] - 127s 91ms/step - loss: 0.5803 - mean_absolute_error: 0.4689 - val_loss: 0.9398 - val_mean_absolute_error: 0.7571\n",
      "Epoch 51/64\n",
      "1400/1400 [==============================] - 129s 92ms/step - loss: 0.5741 - mean_absolute_error: 0.4611 - val_loss: 0.8489 - val_mean_absolute_error: 0.6855\n",
      "Epoch 52/64\n",
      "1400/1400 [==============================] - 129s 92ms/step - loss: 0.5636 - mean_absolute_error: 0.4509 - val_loss: 0.9437 - val_mean_absolute_error: 0.7673\n",
      "Epoch 53/64\n",
      "1400/1400 [==============================] - 128s 92ms/step - loss: 0.5650 - mean_absolute_error: 0.4513 - val_loss: 0.8337 - val_mean_absolute_error: 0.6710\n",
      "Epoch 54/64\n",
      "1400/1400 [==============================] - 125s 90ms/step - loss: 0.5519 - mean_absolute_error: 0.4448 - val_loss: 0.9130 - val_mean_absolute_error: 0.7301\n",
      "Epoch 55/64\n",
      "1400/1400 [==============================] - 126s 90ms/step - loss: 0.5524 - mean_absolute_error: 0.4437 - val_loss: 0.8532 - val_mean_absolute_error: 0.6857\n",
      "Epoch 56/64\n",
      "1400/1400 [==============================] - 125s 89ms/step - loss: 0.5377 - mean_absolute_error: 0.4290 - val_loss: 0.8723 - val_mean_absolute_error: 0.6999\n",
      "Epoch 57/64\n",
      "1400/1400 [==============================] - 129s 92ms/step - loss: 0.5388 - mean_absolute_error: 0.4292 - val_loss: 0.8374 - val_mean_absolute_error: 0.6752\n",
      "Epoch 58/64\n",
      "1400/1400 [==============================] - 125s 90ms/step - loss: 0.5234 - mean_absolute_error: 0.4194 - val_loss: 0.9154 - val_mean_absolute_error: 0.7403\n",
      "Epoch 59/64\n",
      "1400/1400 [==============================] - 125s 90ms/step - loss: 0.5143 - mean_absolute_error: 0.4143 - val_loss: 0.9044 - val_mean_absolute_error: 0.7350\n",
      "Epoch 60/64\n",
      "1400/1400 [==============================] - 125s 90ms/step - loss: 0.5220 - mean_absolute_error: 0.4218 - val_loss: 0.8605 - val_mean_absolute_error: 0.7056\n",
      "Epoch 61/64\n",
      "1400/1400 [==============================] - 125s 90ms/step - loss: 0.5217 - mean_absolute_error: 0.4219 - val_loss: 0.8847 - val_mean_absolute_error: 0.7272\n",
      "Epoch 62/64\n",
      "1400/1400 [==============================] - 125s 89ms/step - loss: 0.4831 - mean_absolute_error: 0.3894 - val_loss: 0.8952 - val_mean_absolute_error: 0.7279\n",
      "Epoch 63/64\n",
      "1400/1400 [==============================] - 124s 88ms/step - loss: 0.5160 - mean_absolute_error: 0.4149 - val_loss: 0.9177 - val_mean_absolute_error: 0.7401\n",
      "Epoch 64/64\n",
      "1400/1400 [==============================] - 126s 90ms/step - loss: 0.5165 - mean_absolute_error: 0.4099 - val_loss: 0.9133 - val_mean_absolute_error: 0.7398\n"
     ]
    }
   ],
   "source": [
    "csv_logger = CSVLogger(os.path.join('C:/', 'Users/alegAsus/Downloads/SCUT-FBP5500_v2.1/SCUT-FBP5500_v2/saved models/continous RMSE/callbacks RMSE Deep.log'), separator=',', append=False)\n",
    "modelHistory = model.fit(trainX, trainY,\n",
    "              batch_size=32,\n",
    "              epochs=64,\n",
    "              validation_data=(testX, testY),\n",
    "              shuffle=True, callbacks=[csv_logger])"
   ]
  },
  {
   "cell_type": "code",
   "execution_count": 7,
   "metadata": {},
   "outputs": [
    {
     "data": {
      "text/plain": [
       "<matplotlib.legend.Legend at 0x1fe1802a208>"
      ]
     },
     "execution_count": 7,
     "metadata": {},
     "output_type": "execute_result"
    },
    {
     "data": {
      "image/png": "[encoded data removed]",
      "text/plain": [
       "<Figure size 432x288 with 1 Axes>"
      ]
     },
     "metadata": {},
     "output_type": "display_data"
    }
   ],
   "source": [
    "#N is the number of epochs\n",
    "#plot code from https://www.pyimagesearch.com/2018/12/31/keras-conv2d-and-convolutional-layers/\n",
    "N = 64\n",
    "plt.style.use(\"ggplot\")\n",
    "plt.figure()\n",
    "plt.plot(np.arange(0, N), modelHistory.history[\"loss\"], label=\"train_loss\")\n",
    "plt.plot(np.arange(0, N), modelHistory.history[\"val_loss\"], label=\"val_loss\")\n",
    "plt.plot(np.arange(0, N), modelHistory.history[\"mean_absolute_error\"], label=\"train MAE\")\n",
    "plt.plot(np.arange(0, N), modelHistory.history[\"val_mean_absolute_error\"], label=\"val MAE\")\n",
    "plt.title(\"Training Loss and Accuracy on Dataset\")\n",
    "plt.xlabel(\"Epoch #\")\n",
    "plt.ylabel(\"Loss/Accuracy\")\n",
    "plt.legend(loc=\"upper right\")"
   ]
  },
  {
   "cell_type": "code",
   "execution_count": 8,
   "metadata": {},
   "outputs": [
    {
     "data": {
      "text/html": [
       "<div>\n",
       "<style scoped>\n",
       "    .dataframe tbody tr th:only-of-type {\n",
       "        vertical-align: middle;\n",
       "    }\n",
       "\n",
       "    .dataframe tbody tr th {\n",
       "        vertical-align: top;\n",
       "    }\n",
       "\n",
       "    .dataframe thead th {\n",
       "        text-align: right;\n",
       "    }\n",
       "</style>\n",
       "<table border=\"1\" class=\"dataframe\">\n",
       "  <thead>\n",
       "    <tr style=\"text-align: right;\">\n",
       "      <th></th>\n",
       "      <th>epoch</th>\n",
       "      <th>loss</th>\n",
       "      <th>mean_absolute_error</th>\n",
       "      <th>val_loss</th>\n",
       "      <th>val_mean_absolute_error</th>\n",
       "    </tr>\n",
       "  </thead>\n",
       "  <tbody>\n",
       "    <tr>\n",
       "      <th>0</th>\n",
       "      <td>0</td>\n",
       "      <td>2.124616</td>\n",
       "      <td>1.726342</td>\n",
       "      <td>0.868098</td>\n",
       "      <td>0.719110</td>\n",
       "    </tr>\n",
       "    <tr>\n",
       "      <th>1</th>\n",
       "      <td>1</td>\n",
       "      <td>1.223946</td>\n",
       "      <td>0.985300</td>\n",
       "      <td>0.798350</td>\n",
       "      <td>0.650816</td>\n",
       "    </tr>\n",
       "    <tr>\n",
       "      <th>2</th>\n",
       "      <td>2</td>\n",
       "      <td>1.012120</td>\n",
       "      <td>0.815330</td>\n",
       "      <td>0.953331</td>\n",
       "      <td>0.769071</td>\n",
       "    </tr>\n",
       "    <tr>\n",
       "      <th>3</th>\n",
       "      <td>3</td>\n",
       "      <td>0.935069</td>\n",
       "      <td>0.746973</td>\n",
       "      <td>0.804311</td>\n",
       "      <td>0.671390</td>\n",
       "    </tr>\n",
       "    <tr>\n",
       "      <th>4</th>\n",
       "      <td>4</td>\n",
       "      <td>0.896553</td>\n",
       "      <td>0.726273</td>\n",
       "      <td>0.912046</td>\n",
       "      <td>0.759536</td>\n",
       "    </tr>\n",
       "    <tr>\n",
       "      <th>5</th>\n",
       "      <td>5</td>\n",
       "      <td>0.879547</td>\n",
       "      <td>0.711310</td>\n",
       "      <td>0.727317</td>\n",
       "      <td>0.590547</td>\n",
       "    </tr>\n",
       "    <tr>\n",
       "      <th>6</th>\n",
       "      <td>6</td>\n",
       "      <td>0.840899</td>\n",
       "      <td>0.687035</td>\n",
       "      <td>0.883487</td>\n",
       "      <td>0.735453</td>\n",
       "    </tr>\n",
       "    <tr>\n",
       "      <th>7</th>\n",
       "      <td>7</td>\n",
       "      <td>0.833744</td>\n",
       "      <td>0.680626</td>\n",
       "      <td>0.854266</td>\n",
       "      <td>0.714056</td>\n",
       "    </tr>\n",
       "    <tr>\n",
       "      <th>8</th>\n",
       "      <td>8</td>\n",
       "      <td>0.796326</td>\n",
       "      <td>0.643887</td>\n",
       "      <td>0.972279</td>\n",
       "      <td>0.803358</td>\n",
       "    </tr>\n",
       "    <tr>\n",
       "      <th>9</th>\n",
       "      <td>9</td>\n",
       "      <td>0.823585</td>\n",
       "      <td>0.669180</td>\n",
       "      <td>0.738921</td>\n",
       "      <td>0.608370</td>\n",
       "    </tr>\n",
       "    <tr>\n",
       "      <th>10</th>\n",
       "      <td>10</td>\n",
       "      <td>0.816387</td>\n",
       "      <td>0.668030</td>\n",
       "      <td>0.752423</td>\n",
       "      <td>0.616242</td>\n",
       "    </tr>\n",
       "    <tr>\n",
       "      <th>11</th>\n",
       "      <td>11</td>\n",
       "      <td>0.796652</td>\n",
       "      <td>0.645278</td>\n",
       "      <td>0.807939</td>\n",
       "      <td>0.672033</td>\n",
       "    </tr>\n",
       "  </tbody>\n",
       "</table>\n",
       "</div>"
      ],
      "text/plain": [
       "    epoch      loss  mean_absolute_error  val_loss  val_mean_absolute_error\n",
       "0       0  2.124616             1.726342  0.868098                 0.719110\n",
       "1       1  1.223946             0.985300  0.798350                 0.650816\n",
       "2       2  1.012120             0.815330  0.953331                 0.769071\n",
       "3       3  0.935069             0.746973  0.804311                 0.671390\n",
       "4       4  0.896553             0.726273  0.912046                 0.759536\n",
       "5       5  0.879547             0.711310  0.727317                 0.590547\n",
       "6       6  0.840899             0.687035  0.883487                 0.735453\n",
       "7       7  0.833744             0.680626  0.854266                 0.714056\n",
       "8       8  0.796326             0.643887  0.972279                 0.803358\n",
       "9       9  0.823585             0.669180  0.738921                 0.608370\n",
       "10     10  0.816387             0.668030  0.752423                 0.616242\n",
       "11     11  0.796652             0.645278  0.807939                 0.672033"
      ]
     },
     "execution_count": 8,
     "metadata": {},
     "output_type": "execute_result"
    }
   ],
   "source": [
    "historyDF = pd.read_csv(\"C:\\\\Users\\\\alegAsus\\\\Downloads\\\\SCUT-FBP5500_v2.1\\\\SCUT-FBP5500_v2\\\\saved models\\\\continous RMSE\\\\callbacks RMSE Deep.log\",header = 0)\n",
    "historyDF.head(12)"
   ]
  },
  {
   "cell_type": "markdown",
   "metadata": {},
   "source": [
    "The lowest MAE is achieved at epoch 10"
   ]
  },
  {
   "cell_type": "code",
   "execution_count": 9,
   "metadata": {},
   "outputs": [
    {
     "data": {
      "text/plain": [
       "0.5768909645080567"
      ]
     },
     "execution_count": 9,
     "metadata": {},
     "output_type": "execute_result"
    }
   ],
   "source": [
    "historyDF['val_mean_absolute_error'].min()"
   ]
  },
  {
   "cell_type": "code",
   "execution_count": 10,
   "metadata": {},
   "outputs": [
    {
     "data": {
      "text/plain": [
       "<matplotlib.legend.Legend at 0x1fe180eadd8>"
      ]
     },
     "execution_count": 10,
     "metadata": {},
     "output_type": "execute_result"
    },
    {
     "data": {
      "image/png": "[encoded data removed]",
      "text/plain": [
       "<Figure size 432x288 with 1 Axes>"
      ]
     },
     "metadata": {},
     "output_type": "display_data"
    }
   ],
   "source": [
    "N = 64\n",
    "plt.style.use(\"ggplot\")\n",
    "plt.figure()\n",
    "plt.plot(np.arange(0, N), historyDF.iloc[0:N, 2], label=\"train MAE\")\n",
    "plt.plot(np.arange(0, N), historyDF.iloc[0:N, 3], label=\"val MAE\")\n",
    "plt.title(\"Training Loss and Accuracy on Dataset\")\n",
    "plt.xlabel(\"Epoch #\")\n",
    "plt.ylabel(\"Training/Validation MAE\")\n",
    "plt.legend(loc=\"upper right\")"
   ]
  },
  {
   "cell_type": "code",
   "execution_count": null,
   "metadata": {},
   "outputs": [],
   "source": []
  }
 ],
 "metadata": {
  "kernelspec": {
   "display_name": "Python 3",
   "language": "python",
   "name": "python3"
  },
  "language_info": {
   "codemirror_mode": {
    "name": "ipython",
    "version": 3
   },
   "file_extension": ".py",
   "mimetype": "text/x-python",
   "name": "python",
   "nbconvert_exporter": "python",
   "pygments_lexer": "ipython3",
   "version": "3.7.3"
  }
 },
 "nbformat": 4,
 "nbformat_minor": 2
}
