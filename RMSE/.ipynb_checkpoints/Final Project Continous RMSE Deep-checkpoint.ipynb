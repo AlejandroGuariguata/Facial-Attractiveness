{
 "cells": [
  {
   "cell_type": "code",
   "execution_count": 1,
   "metadata": {},
   "outputs": [
    {
     "name": "stderr",
     "output_type": "stream",
     "text": [
      "Using TensorFlow backend.\n"
     ]
    }
   ],
   "source": [
    "import pandas as pd\n",
    "import seaborn as sns\n",
    "import os\n",
    "from os import listdir\n",
    "import sklearn\n",
    "from sklearn import preprocessing\n",
    "from sklearn.model_selection import train_test_split\n",
    "\n",
    "import keras\n",
    "from keras.preprocessing.image import ImageDataGenerator\n",
    "from tensorflow.keras.models import Sequential\n",
    "from keras.models import Sequential\n",
    "\n",
    "\n",
    "from keras.layers import Dense, Dropout, Activation, Flatten\n",
    "from keras.layers import Conv2D, MaxPooling2D\n",
    "from keras.preprocessing.image import load_img\n",
    "from keras.preprocessing.image import img_to_array\n",
    "\n",
    "import numpy as np\n",
    "\n",
    "import cv2\n",
    "\n",
    "from sklearn.metrics import classification_report\n",
    "from keras.models import load_model\n",
    "import matplotlib.pyplot as plt\n",
    "\n",
    "from keras.callbacks import CSVLogger\n",
    "from keras import metrics\n",
    "from keras import backend as K\n",
    "from keras.layers.normalization import BatchNormalization\n",
    "\n",
    "from tensorflow.python.framework import ops\n",
    "\n",
    "\n"
   ]
  },
  {
   "cell_type": "markdown",
   "metadata": {},
   "source": [
    "This model has a much deeper number of CNN layers"
   ]
  },
  {
   "cell_type": "code",
   "execution_count": 2,
   "metadata": {
    "scrolled": true
   },
   "outputs": [
    {
     "data": {
      "text/plain": [
       "0       3.950000\n",
       "1       1.166667\n",
       "2       2.016667\n",
       "3       2.766667\n",
       "4       2.300000\n",
       "5       1.916667\n",
       "6       2.466667\n",
       "7       2.300000\n",
       "8       2.450000\n",
       "9       2.233333\n",
       "10      2.316667\n",
       "11      2.483333\n",
       "12      2.716667\n",
       "13      3.483333\n",
       "14      2.250000\n",
       "15      2.750000\n",
       "16      2.066667\n",
       "17      2.766667\n",
       "18      1.866667\n",
       "19      2.333333\n",
       "20      1.816667\n",
       "21      2.283333\n",
       "22      2.883333\n",
       "23      2.700000\n",
       "24      2.933333\n",
       "25      3.950000\n",
       "26      2.850000\n",
       "27      1.983333\n",
       "28      2.483333\n",
       "29      3.150000\n",
       "          ...   \n",
       "1970    2.583333\n",
       "1971    2.850000\n",
       "1972    2.483333\n",
       "1973    2.716667\n",
       "1974    1.916667\n",
       "1975    1.833333\n",
       "1976    2.666667\n",
       "1977    2.300000\n",
       "1978    3.116667\n",
       "1979    2.283333\n",
       "1980    2.566667\n",
       "1981    2.683333\n",
       "1982    2.633333\n",
       "1983    3.283333\n",
       "1984    3.233333\n",
       "1985    2.183333\n",
       "1986    2.683333\n",
       "1987    2.766667\n",
       "1988    2.516667\n",
       "1989    3.566667\n",
       "1990    2.716667\n",
       "1991    2.100000\n",
       "1992    2.683333\n",
       "1993    2.283333\n",
       "1994    2.716667\n",
       "1995    2.700000\n",
       "1996    2.050000\n",
       "1997    2.550000\n",
       "1998    2.583333\n",
       "1999    2.366667\n",
       "Name: Avg Rating, Length: 2000, dtype: float64"
      ]
     },
     "execution_count": 2,
     "metadata": {},
     "output_type": "execute_result"
    }
   ],
   "source": [
    "datasetAF = pd.read_excel(r\"C:\\Users\\alegAsus\\Downloads\\SCUT-FBP5500_v2.1\\SCUT-FBP5500_v2\\AsianMale.xlsx\",header = 0)\n",
    "avgPerFile = datasetAF['Rating'].groupby(datasetAF['Filename'],sort=False)\n",
    "averagePerFileMean = avgPerFile.mean()\n",
    "preparedAFDataset = pd.DataFrame({'Filename':averagePerFileMean.index, 'Avg Rating':averagePerFileMean.values})\n",
    "labels = preparedAFDataset['Avg Rating']\n",
    "labels.head(10)"
   ]
  },
  {
   "cell_type": "code",
   "execution_count": 3,
   "metadata": {},
   "outputs": [],
   "source": [
    "#needed to join path because windows\n",
    "train_path = os.path.join('C:/', 'Users/alegAsus/Downloads/SCUT-FBP5500_v2.1/SCUT-FBP5500_v2/AM/')\n",
    "images = []\n",
    "#adapted from https://www.quora.com/How-do-I-load-train-and-test-data-from-the-local-drive-for-a-deep-learning-Keras-model\n",
    "#listdir returns a list containing the names of the entries in the directory given by path.\n",
    "for sample in listdir(train_path):\n",
    "    img_path = train_path + sample #sample is every file in the train directory\n",
    "    x = cv2.imread(img_path) #loading file\n",
    "    x = cv2.resize(x, (96, 96))\n",
    "    # preprocessing if required\n",
    "    images.append(x) #adding to x_train array\n",
    "#scale all pixels to between 0 and 1\n",
    "imagesNumPy = np.array(images, dtype=\"float\") / 255.0\n"
   ]
  },
  {
   "cell_type": "code",
   "execution_count": 6,
   "metadata": {},
   "outputs": [],
   "source": [
    "(trainX, testX, trainY, testY) = train_test_split(imagesNumPy, labels,test_size=0.30, random_state=42)"
   ]
  },
  {
   "cell_type": "code",
   "execution_count": 7,
   "metadata": {},
   "outputs": [
    {
     "name": "stdout",
     "output_type": "stream",
     "text": [
      "WARNING:tensorflow:From C:\\Users\\alegAsus\\Anaconda3\\lib\\site-packages\\tensorflow\\python\\framework\\op_def_library.py:263: colocate_with (from tensorflow.python.framework.ops) is deprecated and will be removed in a future version.\n",
      "Instructions for updating:\n",
      "Colocations handled automatically by placer.\n",
      "WARNING:tensorflow:From C:\\Users\\alegAsus\\Anaconda3\\lib\\site-packages\\keras\\backend\\tensorflow_backend.py:3445: calling dropout (from tensorflow.python.ops.nn_ops) with keep_prob is deprecated and will be removed in a future version.\n",
      "Instructions for updating:\n",
      "Please use `rate` instead of `keep_prob`. Rate should be set to `rate = 1 - keep_prob`.\n"
     ]
    }
   ],
   "source": [
    "#run this model with Dense(notDefinedVariable) to see functions in tensorflow that are to be depreciated\n",
    "model = Sequential()\n",
    "model.add(Conv2D(32, (3, 3), padding='same',\n",
    "                 input_shape=trainX.shape[1:]))\n",
    "model.add(Activation('relu'))\n",
    "model.add(BatchNormalization(axis=3))\n",
    "model.add(Conv2D(32, (3, 3), padding='same'))\n",
    "model.add(Activation('relu'))\n",
    "model.add(BatchNormalization(axis=3))\n",
    "model.add(MaxPooling2D(pool_size=(2, 2)))\n",
    "model.add(Dropout(0.25))\n",
    "\n",
    "model.add(Conv2D(64, (3, 3), padding='same'))\n",
    "model.add(Activation('relu'))\n",
    "model.add(BatchNormalization(axis=3))\n",
    "model.add(Conv2D(64, (3, 3), padding='same'))\n",
    "model.add(Activation('relu'))\n",
    "model.add(BatchNormalization(axis=3))\n",
    "model.add(MaxPooling2D(pool_size=(2, 2)))\n",
    "model.add(Dropout(0.25))\n",
    "\n",
    "model.add(Conv2D(128, (3, 3), padding='same'))\n",
    "model.add(Activation('relu'))\n",
    "model.add(BatchNormalization(axis=3))\n",
    "model.add(Conv2D(128, (3, 3), padding='same'))\n",
    "model.add(Activation('relu'))\n",
    "model.add(BatchNormalization(axis=3))\n",
    "model.add(MaxPooling2D(pool_size=(2, 2)))\n",
    "model.add(Dropout(0.25))\n",
    "\n",
    "model.add(Conv2D(256, (3, 3), padding='same'))\n",
    "model.add(Activation('relu'))\n",
    "model.add(BatchNormalization(axis=3))\n",
    "model.add(Conv2D(256, (3, 3), padding='same'))\n",
    "model.add(Activation('relu'))\n",
    "model.add(BatchNormalization(axis=3))\n",
    "model.add(MaxPooling2D(pool_size=(2, 2)))\n",
    "model.add(Dropout(0.25))\n",
    "\n",
    "model.add(Conv2D(512, (3, 3), padding='same'))\n",
    "model.add(Activation('relu'))\n",
    "model.add(BatchNormalization(axis=3))\n",
    "model.add(Conv2D(512, (3, 3), padding='same'))\n",
    "model.add(Activation('relu'))\n",
    "model.add(BatchNormalization(axis=3))\n",
    "model.add(MaxPooling2D(pool_size=(2, 2)))\n",
    "model.add(Dropout(0.25))\n",
    "\n",
    "model.add(Conv2D(1024, (3, 3), padding='same'))\n",
    "model.add(Activation('relu'))\n",
    "model.add(BatchNormalization(axis=3))\n",
    "model.add(Conv2D(1024, (3, 3), padding='same'))\n",
    "model.add(Activation('relu'))\n",
    "model.add(BatchNormalization(axis=3))\n",
    "model.add(MaxPooling2D(pool_size=(2, 2)))\n",
    "model.add(Dropout(0.25))\n",
    "\n",
    "model.add(Flatten())\n",
    "model.add(Dense(512))\n",
    "model.add(Activation('relu'))\n",
    "model.add(Dropout(0.3))\n",
    "#1 because it outputs only one rating\n",
    "model.add(Dense(1))\n",
    "\n",
    "\n",
    "# initiate RMSprop optimizer\n",
    "opt = keras.optimizers.rmsprop(lr=0.0001)\n",
    "\n",
    "def root_mean_squared_error(y_true, y_pred):\n",
    "        return K.sqrt(K.mean(K.square(y_pred - y_true))) \n",
    "\n",
    "# Let's train the model using RMSprop\n",
    "model.compile(loss=root_mean_squared_error,\n",
    "              optimizer=opt,\n",
    "              metrics=[metrics.mae])"
   ]
  },
  {
   "cell_type": "code",
   "execution_count": 8,
   "metadata": {},
   "outputs": [
    {
     "name": "stdout",
     "output_type": "stream",
     "text": [
      "Train on 1400 samples, validate on 600 samples\n",
      "Epoch 1/8\n",
      "1400/1400 [==============================] - 143s 102ms/step - loss: 2.3123 - mean_absolute_error: 1.9014 - val_loss: 0.9643 - val_mean_absolute_error: 0.8185\n",
      "Epoch 2/8\n",
      "1400/1400 [==============================] - 133s 95ms/step - loss: 1.2471 - mean_absolute_error: 0.9895 - val_loss: 0.6669 - val_mean_absolute_error: 0.5278\n",
      "Epoch 3/8\n",
      "1400/1400 [==============================] - 136s 97ms/step - loss: 0.9958 - mean_absolute_error: 0.7966 - val_loss: 1.0664 - val_mean_absolute_error: 0.8881\n",
      "Epoch 4/8\n",
      "1400/1400 [==============================] - 134s 95ms/step - loss: 0.8477 - mean_absolute_error: 0.6863 - val_loss: 1.1734 - val_mean_absolute_error: 1.0302\n",
      "Epoch 5/8\n",
      "1400/1400 [==============================] - 137s 98ms/step - loss: 0.8061 - mean_absolute_error: 0.6420 - val_loss: 0.5582 - val_mean_absolute_error: 0.4306\n",
      "Epoch 6/8\n",
      "1400/1400 [==============================] - 130s 93ms/step - loss: 0.7576 - mean_absolute_error: 0.6039 - val_loss: 0.6673 - val_mean_absolute_error: 0.5127\n",
      "Epoch 7/8\n",
      "1400/1400 [==============================] - 130s 93ms/step - loss: 0.7096 - mean_absolute_error: 0.5609 - val_loss: 0.6774 - val_mean_absolute_error: 0.5352\n",
      "Epoch 8/8\n",
      "1400/1400 [==============================] - 129s 92ms/step - loss: 0.7111 - mean_absolute_error: 0.5628 - val_loss: 1.0021 - val_mean_absolute_error: 0.8618\n"
     ]
    }
   ],
   "source": [
    "csv_logger = CSVLogger(os.path.join('C:/', 'Users/alegAsus/Downloads/SCUT-FBP5500_v2.1/SCUT-FBP5500_v2/saved models/continous RMSE/callbacks1.log'), separator=',', append=False)\n",
    "modelHistory = model.fit(trainX, trainY,\n",
    "              batch_size=32,\n",
    "              epochs=64,\n",
    "              validation_data=(testX, testY),\n",
    "              shuffle=True, callbacks=[csv_logger])"
   ]
  },
  {
   "cell_type": "code",
   "execution_count": 12,
   "metadata": {},
   "outputs": [
    {
     "data": {
      "text/plain": [
       "<matplotlib.legend.Legend at 0x25f47a9fe48>"
      ]
     },
     "execution_count": 12,
     "metadata": {},
     "output_type": "execute_result"
    },
    {
     "data": {
      "image/png": "[encoded data removed]",
      "text/plain": [
       "<Figure size 432x288 with 1 Axes>"
      ]
     },
     "metadata": {},
     "output_type": "display_data"
    }
   ],
   "source": [
    "#N is the number of epochs\n",
    "#plot code from https://www.pyimagesearch.com/2018/12/31/keras-conv2d-and-convolutional-layers/\n",
    "N = 64\n",
    "plt.style.use(\"ggplot\")\n",
    "plt.figure()\n",
    "plt.plot(np.arange(0, N), modelHistory.history[\"loss\"], label=\"train_loss\")\n",
    "plt.plot(np.arange(0, N), modelHistory.history[\"val_loss\"], label=\"val_loss\")\n",
    "plt.plot(np.arange(0, N), modelHistory.history[\"mean_absolute_error\"], label=\"train MAE\")\n",
    "plt.plot(np.arange(0, N), modelHistory.history[\"val_mean_absolute_error\"], label=\"val MAE\")\n",
    "plt.title(\"Training Loss and Accuracy on Dataset\")\n",
    "plt.xlabel(\"Epoch #\")\n",
    "plt.ylabel(\"Loss/Accuracy\")\n",
    "plt.legend(loc=\"upper right\")"
   ]
  },
  {
   "cell_type": "code",
   "execution_count": 13,
   "metadata": {},
   "outputs": [
    {
     "data": {
      "text/html": [
       "<div>\n",
       "<style scoped>\n",
       "    .dataframe tbody tr th:only-of-type {\n",
       "        vertical-align: middle;\n",
       "    }\n",
       "\n",
       "    .dataframe tbody tr th {\n",
       "        vertical-align: top;\n",
       "    }\n",
       "\n",
       "    .dataframe thead th {\n",
       "        text-align: right;\n",
       "    }\n",
       "</style>\n",
       "<table border=\"1\" class=\"dataframe\">\n",
       "  <thead>\n",
       "    <tr style=\"text-align: right;\">\n",
       "      <th></th>\n",
       "      <th>epoch</th>\n",
       "      <th>loss</th>\n",
       "      <th>mean_absolute_error</th>\n",
       "      <th>val_loss</th>\n",
       "      <th>val_mean_absolute_error</th>\n",
       "    </tr>\n",
       "  </thead>\n",
       "  <tbody>\n",
       "    <tr>\n",
       "      <th>0</th>\n",
       "      <td>0</td>\n",
       "      <td>2.312321</td>\n",
       "      <td>1.901404</td>\n",
       "      <td>0.964319</td>\n",
       "      <td>0.818549</td>\n",
       "    </tr>\n",
       "    <tr>\n",
       "      <th>1</th>\n",
       "      <td>1</td>\n",
       "      <td>1.247068</td>\n",
       "      <td>0.989502</td>\n",
       "      <td>0.666866</td>\n",
       "      <td>0.527846</td>\n",
       "    </tr>\n",
       "    <tr>\n",
       "      <th>2</th>\n",
       "      <td>2</td>\n",
       "      <td>0.995846</td>\n",
       "      <td>0.796552</td>\n",
       "      <td>1.066394</td>\n",
       "      <td>0.888084</td>\n",
       "    </tr>\n",
       "    <tr>\n",
       "      <th>3</th>\n",
       "      <td>3</td>\n",
       "      <td>0.847733</td>\n",
       "      <td>0.686336</td>\n",
       "      <td>1.173406</td>\n",
       "      <td>1.030238</td>\n",
       "    </tr>\n",
       "    <tr>\n",
       "      <th>4</th>\n",
       "      <td>4</td>\n",
       "      <td>0.806128</td>\n",
       "      <td>0.641990</td>\n",
       "      <td>0.558238</td>\n",
       "      <td>0.430604</td>\n",
       "    </tr>\n",
       "    <tr>\n",
       "      <th>5</th>\n",
       "      <td>5</td>\n",
       "      <td>0.757636</td>\n",
       "      <td>0.603918</td>\n",
       "      <td>0.667271</td>\n",
       "      <td>0.512685</td>\n",
       "    </tr>\n",
       "    <tr>\n",
       "      <th>6</th>\n",
       "      <td>6</td>\n",
       "      <td>0.709556</td>\n",
       "      <td>0.560932</td>\n",
       "      <td>0.677356</td>\n",
       "      <td>0.535219</td>\n",
       "    </tr>\n",
       "    <tr>\n",
       "      <th>7</th>\n",
       "      <td>7</td>\n",
       "      <td>0.711136</td>\n",
       "      <td>0.562800</td>\n",
       "      <td>1.002127</td>\n",
       "      <td>0.861764</td>\n",
       "    </tr>\n",
       "  </tbody>\n",
       "</table>\n",
       "</div>"
      ],
      "text/plain": [
       "   epoch      loss  mean_absolute_error  val_loss  val_mean_absolute_error\n",
       "0      0  2.312321             1.901404  0.964319                 0.818549\n",
       "1      1  1.247068             0.989502  0.666866                 0.527846\n",
       "2      2  0.995846             0.796552  1.066394                 0.888084\n",
       "3      3  0.847733             0.686336  1.173406                 1.030238\n",
       "4      4  0.806128             0.641990  0.558238                 0.430604\n",
       "5      5  0.757636             0.603918  0.667271                 0.512685\n",
       "6      6  0.709556             0.560932  0.677356                 0.535219\n",
       "7      7  0.711136             0.562800  1.002127                 0.861764"
      ]
     },
     "execution_count": 13,
     "metadata": {},
     "output_type": "execute_result"
    }
   ],
   "source": [
    "historyDF = pd.read_csv(\"C:\\\\Users\\\\alegAsus\\\\Downloads\\\\SCUT-FBP5500_v2.1\\\\SCUT-FBP5500_v2\\\\saved models\\\\continous RMSE\\\\callbacks1.log\",header = 0)\n",
    "historyDF.head(12)"
   ]
  },
  {
   "cell_type": "markdown",
   "metadata": {},
   "source": [
    "The lowest MAE is achieved at epoch 10"
   ]
  },
  {
   "cell_type": "code",
   "execution_count": 15,
   "metadata": {},
   "outputs": [
    {
     "data": {
      "text/plain": [
       "0.4306040720144908"
      ]
     },
     "execution_count": 15,
     "metadata": {},
     "output_type": "execute_result"
    }
   ],
   "source": [
    "historyDF['val_mean_absolute_error'].min()"
   ]
  },
  {
   "cell_type": "code",
   "execution_count": 16,
   "metadata": {},
   "outputs": [
    {
     "data": {
      "text/plain": [
       "<matplotlib.legend.Legend at 0x25f47bd1d30>"
      ]
     },
     "execution_count": 16,
     "metadata": {},
     "output_type": "execute_result"
    },
    {
     "data": {
      "image/png": "[encoded data removed]",
      "text/plain": [
       "<Figure size 432x288 with 1 Axes>"
      ]
     },
     "metadata": {},
     "output_type": "display_data"
    }
   ],
   "source": [
    "N = 64\n",
    "plt.style.use(\"ggplot\")\n",
    "plt.figure()\n",
    "plt.plot(np.arange(0, N), historyDF.iloc[0:N, 2], label=\"train MAE\")\n",
    "plt.plot(np.arange(0, N), historyDF.iloc[0:N, 3], label=\"val MAE\")\n",
    "plt.title(\"Training Loss and Accuracy on Dataset\")\n",
    "plt.xlabel(\"Epoch #\")\n",
    "plt.ylabel(\"Training/Validation MAE\")\n",
    "plt.legend(loc=\"upper right\")"
   ]
  },
  {
   "cell_type": "code",
   "execution_count": null,
   "metadata": {},
   "outputs": [],
   "source": []
  }
 ],
 "metadata": {
  "kernelspec": {
   "display_name": "Python 3",
   "language": "python",
   "name": "python3"
  },
  "language_info": {
   "codemirror_mode": {
    "name": "ipython",
    "version": 3
   },
   "file_extension": ".py",
   "mimetype": "text/x-python",
   "name": "python",
   "nbconvert_exporter": "python",
   "pygments_lexer": "ipython3",
   "version": "3.7.3"
  }
 },
 "nbformat": 4,
 "nbformat_minor": 2
}
